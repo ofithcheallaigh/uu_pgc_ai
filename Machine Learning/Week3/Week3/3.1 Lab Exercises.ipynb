{
 "cells": [
  {
   "cell_type": "markdown",
   "metadata": {},
   "source": [
    "# Lab Exercises Week 3\n",
    "\n"
   ]
  },
  {
   "cell_type": "markdown",
   "metadata": {},
   "source": [
    "## Exercise 1: Loss functions for regression\n",
    "\n",
    "(a) Write code to produce a plot that shows how the $L1$, $L2$ and log-cosh loss functions introduced for regression depend on the value of residual $y_i - f(\\mathbf{x}_i; \\mathbf{w})$.\n",
    "\n",
    "- plot the residual along the $x$-axis (ranging from -5 to 5, say)\n",
    "- plot the loss functions along the y-axis\n",
    "- use a key to distinguish between the loss functions"
   ]
  },
  {
   "cell_type": "code",
   "execution_count": 15,
   "metadata": {},
   "outputs": [
    {
     "data": {
      "image/png": "[encoded data removed]",
      "text/plain": [
       "<Figure size 432x288 with 1 Axes>"
      ]
     },
     "metadata": {
      "needs_background": "light"
     },
     "output_type": "display_data"
    }
   ],
   "source": [
    "# clare-c@ulster.ac.uk\n",
    "import matplotlib.pyplot as plt\n",
    "import numpy as np\n",
    "\n",
    "residual_vals = np.arange(-5,5,0.1)\n",
    "plt.plot(residual_vals,abs(residual_vals)**2,'r-',linewidth=2,label='L2')\n",
    "plt.plot(residual_vals,abs(residual_vals),'b-',linewidth=2,label='L1')\n",
    "plt.plot(residual_vals,np.log(np.cosh(residual_vals)),'g-',linewidth=2,label='log-cosh')\n",
    "plt.xlabel('Residual')\n",
    "plt.ylabel('Loss')\n",
    "plt.xlim(-5,5)\n",
    "plt.ylim(0,10)\n",
    "plt.legend()\n",
    "plt.show()"
   ]
  },
  {
   "cell_type": "markdown",
   "metadata": {},
   "source": [
    "(b) Write code to produce a plot that shows how the Huber loss function depends on the value of the residual $y_i - f(\\mathbf{x}_i; \\mathbf{w})$.  Plot 3 curves on the same plot, corresponding to values of $\\delta = 0.1, 1, 10$. USe a key to distinguish between the 3 curves. \n",
    "\n",
    "Hint:\n",
    "- write a function `huber` that takes in a value for delta, and a value for the residual, and returns the value of the loss\n",
    "- use this inside a for loop to build up arrays of values of the Huber loss for a range of residual values between -5 and 5"
   ]
  },
  {
   "cell_type": "code",
   "execution_count": null,
   "metadata": {},
   "outputs": [],
   "source": []
  },
  {
   "cell_type": "markdown",
   "metadata": {},
   "source": [
    "## Exercise 2: HuberRegressor in scikit-learn\n",
    "\n",
    "Read through the documentaion for `HuberRegressor` in scikit-learn:\n",
    "https://scikit-learn.org/stable/modules/generated/sklearn.linear_model.HuberRegressor.html\n",
    "\n",
    "Use HuberRegressor to fit a line through the data given in the cell below.\n",
    "Note, the parameters used in scikit-learn are different from what was introduced in the lecture: use the recommended value for `epsilon`, i.e. 1.35.\n",
    "\n",
    "Compare the line to that of least squares regressor."
   ]
  },
  {
   "cell_type": "code",
   "execution_count": 2,
   "metadata": {},
   "outputs": [],
   "source": [
    "import numpy as np\n",
    "x_vals = np.array([[-0.372180347],[-0.630104555],[-1.150723051],[0.933616921],[-0.831975033],\n",
    "              [-1.656988490],[1.124082010],[-0.393019792],[-0.732695333],[0.452214528]])\n",
    "y_vals = np.array([[-1.174803460],[-1.856390758],[-2.256630546],[9.994548305],[-1.710868702],\n",
    "             [-2.682265692],[0.191515393],[-1.247013155],[-1.684018106],[-0.624466506]])\n",
    "\n"
   ]
  },
  {
   "cell_type": "markdown",
   "metadata": {},
   "source": [
    "## Exercise 3: Random search\n",
    "\n",
    "Below is code for the random search algorithm.\n",
    "\n",
    "Write code for the function:\n",
    "\n",
    "$g(w_1,w_2) = w_1^2 + w_2^2 + 2$ \n",
    "\n",
    "(a) Optimize this function using random search with the following settings and produce the cost function history plot.\n",
    "- initial weight $\\mathbf{w}^0 = \\begin{bmatrix} 3 \\\\ 4\\end{bmatrix}$ \n",
    "- $\\alpha = 1$\n",
    "- $K = 5$ steps\n",
    "- $P = 1000$ samples\n",
    "\n",
    "(b) Repeat with $\\mathbf{w}^0 = \\begin{bmatrix} 1.5 \\\\ 2\\end{bmatrix}$. In this case, the algorithm does not converge to the optimum (this was the example used in lecture).  Try to get it to converge using the initial weight, by changing the steplength to be diminishing.\n",
    "\n",
    "(c) If you have time, plot contour plots showing the iterations in (a) and (b)"
   ]
  },
  {
   "cell_type": "code",
   "execution_count": 3,
   "metadata": {},
   "outputs": [],
   "source": [
    "# random search function \n",
    "def random_search(g,alpha_choice,max_its,w,num_samples):\n",
    "    # run random search\n",
    "    weight_history = []         # container for weight history\n",
    "    cost_history = []           # container for corresponding cost function history\n",
    "    alpha = 0\n",
    "    for k in range(1,max_its+1):        \n",
    "        # check if diminishing steplength rule used\n",
    "        if alpha_choice == 'diminishing':\n",
    "            alpha = 1/float(k)\n",
    "        else:\n",
    "            alpha = alpha_choice\n",
    "            \n",
    "        # record weights and cost evaluation\n",
    "        weight_history.append(w.T)\n",
    "        cost_history.append(g(w.T))\n",
    "        \n",
    "        # construct set of random unit directions\n",
    "        directions = np.random.randn(num_samples,np.size(w))\n",
    "        norms = np.sqrt(np.sum(directions*directions,axis = 1))[:,np.newaxis]\n",
    "        directions = directions/norms   \n",
    "        \n",
    "        ### pick best descent direction\n",
    "        # compute all new candidate points\n",
    "        w_candidates = w + alpha*directions\n",
    "        \n",
    "        # evaluate all candidates\n",
    "        evals = np.array([g(w_val.T) for w_val in w_candidates])\n",
    "\n",
    "        # if we find a real descent direction take the step in its direction\n",
    "        ind = np.argmin(evals)\n",
    "        if g(w_candidates[ind]) < g(w.T):\n",
    "            # pluck out best descent direction\n",
    "            d = directions[ind,:]\n",
    "        \n",
    "            # take step\n",
    "            w = w + alpha*d\n",
    "        \n",
    "    # record weights and cost evaluation\n",
    "    weight_history.append(w.T)\n",
    "    cost_history.append(g(w.T))\n",
    "    return weight_history,cost_history\n",
    "\n"
   ]
  },
  {
   "cell_type": "code",
   "execution_count": null,
   "metadata": {},
   "outputs": [],
   "source": []
  },
  {
   "cell_type": "code",
   "execution_count": null,
   "metadata": {},
   "outputs": [],
   "source": []
  },
  {
   "cell_type": "markdown",
   "metadata": {},
   "source": [
    "## Exercise 4: Hyperparameter Optimization\n",
    "\n",
    "Read through (focussing on the regression):\n",
    "\n",
    "https://machinelearningmastery.com/hyperparameter-optimization-with-random-search-and-grid-search/\n",
    "\n",
    "Copy out the code for the regression examples into the cell below (add more cells if you like), and run the code.\n",
    "Check you understand what is happening."
   ]
  },
  {
   "cell_type": "code",
   "execution_count": null,
   "metadata": {},
   "outputs": [],
   "source": []
  },
  {
   "cell_type": "markdown",
   "metadata": {},
   "source": [
    "**Combined Algorithm Selection and Hyperparameter Optimization (CASH Optimization)**\n",
    "\n",
    "This is also very much worth a read: \n",
    "\n",
    "https://machinelearningmastery.com/combined-algorithm-selection-and-hyperparameter-optimization/"
   ]
  },
  {
   "cell_type": "markdown",
   "metadata": {},
   "source": [
    "## Exercise 5: Extra Reading\n",
    "\n",
    "If you have time, look through some recent reviews of optimization in machine learning:\n",
    "\n",
    "**Read Sections 1 and 2 of**: Gambella, C. et al., *Optimization problems for machine learning: A survey* , European Journal of Operational Research, In Press. (2020)\n",
    "\n",
    "Available here: https://www.sciencedirect.com/science/article/pii/S037722172030758X\n",
    "    \n",
    "*A Survey of Optimization Methods From a Machine Learning Perspective*, IEEE Transactions on Cybernetics, 50 (8) (2020)\n",
    "\n",
    "Available here: https://ieeexplore.ieee.org/document/8903465/\n",
    "Also available here: https://arxiv.org/pdf/1906.06821.pdf\n",
    "\n",
    "Yand, L. et al., *On hyperparameter optimization of machine learning algorithms: Theory and practice*, Neurocomputing 415 pp. 295-316 (2020)\n",
    "\n",
    "Available here: https://www.sciencedirect.com/science/article/pii/S0925231220311693"
   ]
  },
  {
   "cell_type": "code",
   "execution_count": null,
   "metadata": {},
   "outputs": [],
   "source": []
  }
 ],
 "metadata": {
  "kernelspec": {
   "display_name": "Python 3",
   "language": "python",
   "name": "python3"
  },
  "language_info": {
   "codemirror_mode": {
    "name": "ipython",
    "version": 3
   },
   "file_extension": ".py",
   "mimetype": "text/x-python",
   "name": "python",
   "nbconvert_exporter": "python",
   "pygments_lexer": "ipython3",
   "version": "3.7.3"
  }
 },
 "nbformat": 4,
 "nbformat_minor": 4
}
