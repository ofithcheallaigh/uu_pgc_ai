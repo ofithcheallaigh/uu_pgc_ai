{
 "cells": [
  {
   "cell_type": "markdown",
   "metadata": {},
   "source": [
    "# NumPy Exercises"
   ]
  },
  {
   "cell_type": "markdown",
   "metadata": {},
   "source": [
    "### Exercise 1\n",
    "Let\n",
    "\n",
    "$A = \\begin{bmatrix} 1 & 4 \\\\ 3 & -1 \\\\ 0 & 7 \\end{bmatrix}, B = \\begin{bmatrix} 2 & 1 & 3 \\\\ -5 & 6 & 1 \\end{bmatrix}, C = \\begin{bmatrix} -3 \\\\ 9 \\\\ 0 \\\\ 9 \\end{bmatrix}, D = \\begin{bmatrix} 2 & 1 \\\\ -3 & 0 \\end{bmatrix}$\n",
    "\n",
    "(a) Represent each matrix in Python and determine its order.\n",
    "\n",
    "(b) Display the transpose of each matrix.\n",
    "\n",
    "(c) What is $A + B^T$?\n",
    "\n",
    "(d) What is $D^T - 2D$?"
   ]
  },
  {
   "cell_type": "code",
   "execution_count": null,
   "metadata": {},
   "outputs": [],
   "source": []
  },
  {
   "cell_type": "markdown",
   "metadata": {},
   "source": [
    "### Exercise 2\n",
    "If possible carry out the following matrix multiplications based on the matrices from Exercise 1.\n",
    "\n",
    "(a) $BD$\n",
    "\n",
    "(b) $D^TA^T$\n",
    "\n",
    "(c) $CC^T$\n",
    "\n",
    "(d) $D^2$, $D^3$, $D^4$, $D^5$\n",
    "\n",
    "(e) Show that $AB \\neq BA$"
   ]
  },
  {
   "cell_type": "code",
   "execution_count": null,
   "metadata": {},
   "outputs": [],
   "source": []
  },
  {
   "cell_type": "markdown",
   "metadata": {},
   "source": [
    "### Exercise 3\n",
    "Solve the following set of linear equations for $x$, $y$ and $z$:\n",
    "\n",
    "\\begin{align}\n",
    "x + y + z & = 3 \\\\\n",
    "2x  + 7y + 2z & = 15 \\\\\n",
    "-3x + 4y + z & = 0\n",
    "\\end{align}"
   ]
  },
  {
   "cell_type": "code",
   "execution_count": null,
   "metadata": {},
   "outputs": [],
   "source": []
  },
  {
   "cell_type": "markdown",
   "metadata": {},
   "source": [
    "### Exercise 4\n",
    "\n",
    "Write a function `euclidean_distance` that returns the Euclidean distance $d$ between two row vectors $\\mathbf{x}$ and $\\mathbf{y}$.\n",
    "\n",
    "$d = \\sqrt{\\sum_{i=1}^{n} (x_i - y_i)^2}$"
   ]
  },
  {
   "cell_type": "code",
   "execution_count": null,
   "metadata": {},
   "outputs": [],
   "source": []
  },
  {
   "cell_type": "markdown",
   "metadata": {},
   "source": [
    "Now test your implementation of `euclidean_distance` using the code below.\n",
    "The distance between `a` and `b` should be equal to 6.\n",
    "\n"
   ]
  },
  {
   "cell_type": "code",
   "execution_count": null,
   "metadata": {},
   "outputs": [],
   "source": [
    "a = np.array([[2,4,5,2]])\n",
    "b = np.array([[5,3,0,1]])\n",
    "d = euclidean_distance(a,b)\n",
    "print(d)"
   ]
  }
 ],
 "metadata": {
  "kernelspec": {
   "display_name": "Python 3",
   "language": "python",
   "name": "python3"
  },
  "language_info": {
   "codemirror_mode": {
    "name": "ipython",
    "version": 3
   },
   "file_extension": ".py",
   "mimetype": "text/x-python",
   "name": "python",
   "nbconvert_exporter": "python",
   "pygments_lexer": "ipython3",
   "version": "3.7.7"
  }
 },
 "nbformat": 4,
 "nbformat_minor": 4
}
