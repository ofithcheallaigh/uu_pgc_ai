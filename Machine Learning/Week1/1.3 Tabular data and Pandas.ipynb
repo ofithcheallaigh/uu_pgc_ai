{
 "cells": [
  {
   "cell_type": "markdown",
   "metadata": {
    "slideshow": {
     "slide_type": "slide"
    }
   },
   "source": [
    "# Tabular data and Pandas "
   ]
  },
  {
   "cell_type": "markdown",
   "metadata": {
    "slideshow": {
     "slide_type": "subslide"
    }
   },
   "source": [
    "## Tabular data\n",
    "\n",
    "In many machine learning applications, the data is *tabular*, i.e. it can be arranged in rows and columns. \n",
    "\n",
    "Each column in the table represents one different *attribute* or *feature* being measured, whilst each row represents an individual *record* (a combination of attribute values that has been observed). "
   ]
  },
  {
   "cell_type": "markdown",
   "metadata": {
    "slideshow": {
     "slide_type": "subslide"
    }
   },
   "source": [
    "For example, consider the following table of data containing module marks for five students:\n",
    "\n",
    "| Student_ID | COM745 | COM761 | COM747 |\n",
    "| :- | :-: | :-: | :-: |\n",
    "|12340|64|75|80|\n",
    "|12344|56|25|40|\n",
    "|12363|70|62|58|\n",
    "|12375|66|57|54|\n",
    "|12383|49|50|65|\n",
    "\n",
    "In this table:\n",
    "- each column represents a particular *attribute* (Student_Id, and marks for three modules) of a student \n",
    "- each row represents a *record* of attribute values corresponding to a particular student\n"
   ]
  },
  {
   "cell_type": "markdown",
   "metadata": {
    "slideshow": {
     "slide_type": "slide"
    }
   },
   "source": [
    "#### Creating a NumPy array directly\n",
    "We can create a NumPy array to store these records directly as follows:"
   ]
  },
  {
   "cell_type": "code",
   "execution_count": 1,
   "metadata": {
    "slideshow": {
     "slide_type": "fragment"
    }
   },
   "outputs": [
    {
     "name": "stdout",
     "output_type": "stream",
     "text": [
      "[[12340    64    75    80]\n",
      " [12344    56    25    40]\n",
      " [12363    70    62    58]\n",
      " [12375    66    57    54]\n",
      " [12383    49    50    65]]\n"
     ]
    }
   ],
   "source": [
    "import numpy as np\n",
    "\n",
    "# Create a NumPy array to store the data\n",
    "marks_array = np.array([[12340,64,75,80],[12344,56,25,40], [12363,70,62,58], [12375,66,57,54], [12383,49,50,65]])\n",
    "print(marks_array)"
   ]
  },
  {
   "cell_type": "markdown",
   "metadata": {
    "slideshow": {
     "slide_type": "slide"
    }
   },
   "source": [
    "\n",
    "#### Reading numerical data from file using `loadtxt`\n",
    "\n",
    "It is more common for us to read our data in from files however.\n",
    "\n",
    "Have a look at `marks.csv` which contains this data in csv (comma separated variable) format. \n",
    "\n",
    "In the cell below, we read the data from this file into NumPy arrays using the NumPy `loadtxt` function.\n",
    "\n",
    "Note the parameters we set in the `loadtxt` function [1]:\n",
    "- `delimiter =','` because we are reading a csv file.\n",
    "    - the default value is `None`, which is whitespace.\n",
    "- `skiprows =1` because the first line in `marks.csv` contains the attribute names. We do not want to store these in our array, so we skip the first line in the file.\n",
    "    - the default value is 0.\n",
    "- `dtype=np.int32` means the data we are reading in from file should be stored as integers in the NumPy array.\n",
    "    - the default value is float64\n",
    "    - the numerical data types allowed in a NumPy array are given in [2]\n",
    "    \n",
    "[1] https://numpy.org/doc/stable/reference/generated/numpy.loadtxt.html \n",
    "\n",
    "[2] https://numpy.org/devdocs/user/basics.types.html"
   ]
  },
  {
   "cell_type": "code",
   "execution_count": 2,
   "metadata": {
    "slideshow": {
     "slide_type": "subslide"
    }
   },
   "outputs": [
    {
     "name": "stdout",
     "output_type": "stream",
     "text": [
      "[[12340    64    75    80]\n",
      " [12344    56    25    40]\n",
      " [12363    70    62    58]\n",
      " [12375    66    57    54]\n",
      " [12383    49    50    65]]\n"
     ]
    }
   ],
   "source": [
    "marks_array_from_file = np.loadtxt('marks.csv', delimiter = ',', skiprows=1,dtype=np.int32)\n",
    "print(marks_array_from_file)"
   ]
  },
  {
   "cell_type": "code",
   "execution_count": 3,
   "metadata": {
    "slideshow": {
     "slide_type": "fragment"
    }
   },
   "outputs": [
    {
     "name": "stdout",
     "output_type": "stream",
     "text": [
      "type of data in marks_array: int32\n",
      "type of data in marks_array_from_file: int32\n"
     ]
    }
   ],
   "source": [
    "print('type of data in marks_array:',marks_array.dtype)\n",
    "print('type of data in marks_array_from_file:',marks_array_from_file.dtype)"
   ]
  },
  {
   "cell_type": "markdown",
   "metadata": {
    "slideshow": {
     "slide_type": "subslide"
    }
   },
   "source": [
    "#### Limitations of `loadtxt`\n",
    "\n",
    "The `loadtxt` method from NumPy is useful for quickly loading in numerical data from a file into a NumPy array.\n",
    "\n",
    "However it cannot be used if:\n",
    "1. the data contains a mixture of different data types, e.g. numerical and string\n",
    "2. there are missing values in the data"
   ]
  },
  {
   "cell_type": "markdown",
   "metadata": {},
   "source": [
    "## Tabular data with mixed data types\n",
    "\n",
    "In many machine learning  problems, some of the attributes are not numerical.\n",
    "\n",
    "For example, consider the following table containing data about five students:\n",
    "\n",
    "| Student_ID | Name | Course | Attendance | \n",
    "| :- | :- | :-: | :-: |\n",
    "| 12340 | Ari King | AI | 87 | \n",
    "| 12344 | Eugenia Dooley | AI | 45 |\n",
    "| 12348 | David Raynor | IoT | 52 | \n",
    "| 12350 | Chaim Upton | IoT | 51 | \n",
    "| 12363 | Mateo Mohr | AI | 90 |\n",
    "\n",
    "\n",
    "For example, the `Course` attribute is categorical (AI/IoT).\n",
    "\n",
    "We can still store the above data in a NumPy array using:"
   ]
  },
  {
   "cell_type": "code",
   "execution_count": 4,
   "metadata": {},
   "outputs": [
    {
     "name": "stdout",
     "output_type": "stream",
     "text": [
      "[['12340' 'Ari King' 'AI' '87']\n",
      " ['12344' 'Eugenia Dooley' 'AI' '45']\n",
      " ['12348' 'David Raynor' 'IoT' '52']\n",
      " ['12350' 'Chaim Upton' 'IoT' '51']\n",
      " ['12363' 'Mateo Mohr' 'AI' '90']]\n"
     ]
    }
   ],
   "source": [
    "# Create a NumPy array; place attribute values that are strings inside quotes\n",
    "student_array = np.array([[12340,'Ari King','AI',87], [12344,'Eugenia Dooley','AI',45], [12348,'David Raynor','IoT',52], [12350,'Chaim Upton','IoT',51], [12363,'Mateo Mohr','AI',90]])\n",
    "print(student_array)"
   ]
  },
  {
   "cell_type": "markdown",
   "metadata": {},
   "source": [
    "When printing out `student_array`, notice how there are quotes around every value in the array.\n",
    "- This indicates each element is some sort of string data structure (even those we would like to be numbers)"
   ]
  },
  {
   "cell_type": "code",
   "execution_count": 5,
   "metadata": {},
   "outputs": [
    {
     "name": "stdout",
     "output_type": "stream",
     "text": [
      "<U14\n"
     ]
    }
   ],
   "source": [
    "print(student_array.dtype)"
   ]
  },
  {
   "cell_type": "markdown",
   "metadata": {},
   "source": [
    "Note that `<U14` means:\n",
    "- < means 'Little Endian' (*don't worry if you don't know what this means*)\n",
    "- U means 'Unicode'\n",
    "- 14 means '14 characters'\n",
    "\n",
    "As before, we can read the data from file using `loadtxt`. \n",
    "\n",
    "Note that we have explicitly set `dtype='<U14'` here. The default value for this is float, and so would cause an error if we did not change it to some type of string."
   ]
  },
  {
   "cell_type": "code",
   "execution_count": 6,
   "metadata": {},
   "outputs": [
    {
     "name": "stdout",
     "output_type": "stream",
     "text": [
      "[['12340' 'Ari King' 'AI' '87']\n",
      " ['12344' 'Eugenia Dooley' 'AI' '45']\n",
      " ['12348' 'David Raynor' 'IoT' '52']\n",
      " ['12350' 'Chaim Upton' 'IoT' '51']\n",
      " ['12363' 'Mateo Mohr' 'AI' '90']]\n"
     ]
    }
   ],
   "source": [
    "student_array_from_file = np.loadtxt('students.csv', delimiter = ',', skiprows=1,dtype='<U14')\n",
    "print(student_array_from_file)"
   ]
  },
  {
   "cell_type": "code",
   "execution_count": 7,
   "metadata": {},
   "outputs": [
    {
     "name": "stdout",
     "output_type": "stream",
     "text": [
      "<U14\n"
     ]
    }
   ],
   "source": [
    "print(student_array_from_file.dtype)"
   ]
  },
  {
   "cell_type": "markdown",
   "metadata": {},
   "source": [
    "## The pandas `DataFrame`\n",
    "\n",
    "In Python, the `pandas` library offers many useful methods for exploring, cleaning and manipulating tabular data, via an object called a `DataFrame`.\n",
    "\n",
    "It is much more flexible than NumPy arrays, e.g.: it allows us to deal with categorical data and missing values.\n",
    "\n",
    "### Creating a pandas DataFrame\n",
    "\n",
    "Below we show how to create a DataFrame in two ways:\n",
    "1. Directly from a NumPy array\n",
    "2. Reading data from a file\n",
    "\n",
    "#### Creating a pandas DataFrame from a NumPy array\n",
    "We can create a DataFrame from numpy arrays directly as follows:"
   ]
  },
  {
   "cell_type": "code",
   "execution_count": 8,
   "metadata": {},
   "outputs": [
    {
     "data": {
      "text/html": [
       "<div>\n",
       "<style scoped>\n",
       "    .dataframe tbody tr th:only-of-type {\n",
       "        vertical-align: middle;\n",
       "    }\n",
       "\n",
       "    .dataframe tbody tr th {\n",
       "        vertical-align: top;\n",
       "    }\n",
       "\n",
       "    .dataframe thead th {\n",
       "        text-align: right;\n",
       "    }\n",
       "</style>\n",
       "<table border=\"1\" class=\"dataframe\">\n",
       "  <thead>\n",
       "    <tr style=\"text-align: right;\">\n",
       "      <th></th>\n",
       "      <th>Student_ID</th>\n",
       "      <th>Student_Name</th>\n",
       "      <th>Course</th>\n",
       "      <th>Attendance</th>\n",
       "    </tr>\n",
       "  </thead>\n",
       "  <tbody>\n",
       "    <tr>\n",
       "      <th>0</th>\n",
       "      <td>12340</td>\n",
       "      <td>Ari King</td>\n",
       "      <td>AI</td>\n",
       "      <td>87</td>\n",
       "    </tr>\n",
       "    <tr>\n",
       "      <th>1</th>\n",
       "      <td>12344</td>\n",
       "      <td>Eugenia Dooley</td>\n",
       "      <td>AI</td>\n",
       "      <td>45</td>\n",
       "    </tr>\n",
       "    <tr>\n",
       "      <th>2</th>\n",
       "      <td>12348</td>\n",
       "      <td>David Raynor</td>\n",
       "      <td>IoT</td>\n",
       "      <td>52</td>\n",
       "    </tr>\n",
       "    <tr>\n",
       "      <th>3</th>\n",
       "      <td>12350</td>\n",
       "      <td>Chaim Upton</td>\n",
       "      <td>IoT</td>\n",
       "      <td>51</td>\n",
       "    </tr>\n",
       "    <tr>\n",
       "      <th>4</th>\n",
       "      <td>12363</td>\n",
       "      <td>Mateo Mohr</td>\n",
       "      <td>AI</td>\n",
       "      <td>90</td>\n",
       "    </tr>\n",
       "  </tbody>\n",
       "</table>\n",
       "</div>"
      ],
      "text/plain": [
       "  Student_ID    Student_Name Course Attendance\n",
       "0      12340        Ari King     AI         87\n",
       "1      12344  Eugenia Dooley     AI         45\n",
       "2      12348    David Raynor    IoT         52\n",
       "3      12350     Chaim Upton    IoT         51\n",
       "4      12363      Mateo Mohr     AI         90"
      ]
     },
     "execution_count": 8,
     "metadata": {},
     "output_type": "execute_result"
    }
   ],
   "source": [
    "import pandas as pd\n",
    "\n",
    "# Create a Python list that holds the names of the columns (i.e. the names of the attributes).\n",
    "column_names = ['Student_ID','Student_Name','Course','Attendance']\n",
    "\n",
    "# Create the DataFrame, using the NumPy array student_array that we created above\n",
    "student_df_np = pd.DataFrame(data=student_array, columns=column_names)\n",
    "\n",
    "# Print the DataFrame\n",
    "student_df_np"
   ]
  },
  {
   "cell_type": "markdown",
   "metadata": {},
   "source": [
    "#### Creating a pandas DataFrame from a csv file\n",
    "\n",
    "It is much more common however to create a pandas DataFrame from data stored in files.\n",
    "\n",
    "The files `marks.csv` and `students.csv` contains the data used above. \n",
    "\n",
    "We will create a DataFrame from `students.csv` first:\n",
    "\n",
    "![csv_to_df](Images/csv_to_df6.png)"
   ]
  },
  {
   "cell_type": "code",
   "execution_count": 9,
   "metadata": {},
   "outputs": [
    {
     "data": {
      "text/html": [
       "<div>\n",
       "<style scoped>\n",
       "    .dataframe tbody tr th:only-of-type {\n",
       "        vertical-align: middle;\n",
       "    }\n",
       "\n",
       "    .dataframe tbody tr th {\n",
       "        vertical-align: top;\n",
       "    }\n",
       "\n",
       "    .dataframe thead th {\n",
       "        text-align: right;\n",
       "    }\n",
       "</style>\n",
       "<table border=\"1\" class=\"dataframe\">\n",
       "  <thead>\n",
       "    <tr style=\"text-align: right;\">\n",
       "      <th></th>\n",
       "      <th>Student_ID</th>\n",
       "      <th>Student_Name</th>\n",
       "      <th>Course</th>\n",
       "      <th>Attendance</th>\n",
       "    </tr>\n",
       "  </thead>\n",
       "  <tbody>\n",
       "    <tr>\n",
       "      <th>0</th>\n",
       "      <td>12340</td>\n",
       "      <td>Ari King</td>\n",
       "      <td>AI</td>\n",
       "      <td>87</td>\n",
       "    </tr>\n",
       "    <tr>\n",
       "      <th>1</th>\n",
       "      <td>12344</td>\n",
       "      <td>Eugenia Dooley</td>\n",
       "      <td>AI</td>\n",
       "      <td>45</td>\n",
       "    </tr>\n",
       "    <tr>\n",
       "      <th>2</th>\n",
       "      <td>12348</td>\n",
       "      <td>David Raynor</td>\n",
       "      <td>IoT</td>\n",
       "      <td>52</td>\n",
       "    </tr>\n",
       "    <tr>\n",
       "      <th>3</th>\n",
       "      <td>12350</td>\n",
       "      <td>Chaim Upton</td>\n",
       "      <td>IoT</td>\n",
       "      <td>51</td>\n",
       "    </tr>\n",
       "    <tr>\n",
       "      <th>4</th>\n",
       "      <td>12363</td>\n",
       "      <td>Mateo Mohr</td>\n",
       "      <td>AI</td>\n",
       "      <td>90</td>\n",
       "    </tr>\n",
       "  </tbody>\n",
       "</table>\n",
       "</div>"
      ],
      "text/plain": [
       "   Student_ID    Student_Name Course  Attendance\n",
       "0       12340        Ari King     AI          87\n",
       "1       12344  Eugenia Dooley     AI          45\n",
       "2       12348    David Raynor    IoT          52\n",
       "3       12350     Chaim Upton    IoT          51\n",
       "4       12363      Mateo Mohr     AI          90"
      ]
     },
     "execution_count": 9,
     "metadata": {},
     "output_type": "execute_result"
    }
   ],
   "source": [
    "students_df = pd.read_csv('students.csv')\n",
    "students_df"
   ]
  },
  {
   "cell_type": "markdown",
   "metadata": {},
   "source": [
    "##### Other `read` methods in pandas\n",
    "\n",
    "Note, there are many other `read` methods available in pandas, e.g.:\n",
    "- `read_excel()` for reading in Excel spreadsheets\n",
    "- `read_json()` for reading JSON files\n",
    "\n",
    "Consult the documentation for the full list: https://pandas.pydata.org/pandas-docs/stable/reference/io.html"
   ]
  },
  {
   "cell_type": "markdown",
   "metadata": {},
   "source": [
    "### The axes of the DataFrame\n",
    "\n",
    "Two axes are used to refer to the two dimensions of a DataFrame:\n",
    "- Axis 0 spans the rows.\n",
    "- Axis 1 spans the columns.\n",
    "\n",
    "An **index** is created along Axis 0, that enables us to refer to individual rows via the `loc` method:"
   ]
  },
  {
   "cell_type": "code",
   "execution_count": 10,
   "metadata": {},
   "outputs": [
    {
     "data": {
      "text/plain": [
       "Student_ID               12344\n",
       "Student_Name    Eugenia Dooley\n",
       "Course                      AI\n",
       "Attendance                  45\n",
       "Name: 1, dtype: object"
      ]
     },
     "execution_count": 10,
     "metadata": {},
     "output_type": "execute_result"
    }
   ],
   "source": [
    "students_df.loc[1]"
   ]
  },
  {
   "cell_type": "markdown",
   "metadata": {},
   "source": [
    "The indices for Axis 1 are the attribute names (column headers). We can use these to refer to a specific column:"
   ]
  },
  {
   "cell_type": "code",
   "execution_count": 11,
   "metadata": {},
   "outputs": [
    {
     "data": {
      "text/plain": [
       "0          Ari King\n",
       "1    Eugenia Dooley\n",
       "2      David Raynor\n",
       "3       Chaim Upton\n",
       "4        Mateo Mohr\n",
       "Name: Student_Name, dtype: object"
      ]
     },
     "execution_count": 11,
     "metadata": {},
     "output_type": "execute_result"
    }
   ],
   "source": [
    "students_df['Student_Name']"
   ]
  },
  {
   "cell_type": "markdown",
   "metadata": {},
   "source": [
    "We can specify values for both axes to refer to a specific cell:"
   ]
  },
  {
   "cell_type": "code",
   "execution_count": 12,
   "metadata": {},
   "outputs": [
    {
     "data": {
      "text/plain": [
       "'Eugenia Dooley'"
      ]
     },
     "execution_count": 12,
     "metadata": {},
     "output_type": "execute_result"
    }
   ],
   "source": [
    "students_df.loc[1,'Student_Name']"
   ]
  },
  {
   "cell_type": "markdown",
   "metadata": {},
   "source": [
    "### Combining DataFrames\n",
    "\n",
    "Sometimes our data is not in a single file, but instead spread over multiple files.\n",
    "\n",
    "In these cases we usually:\n",
    "1. construct a separate DataFrame for each data file.\n",
    "2. combine the DataFrames.\n",
    "\n",
    "There are multiple ways to combine two DataFrames.  \n",
    "\n",
    "#### Combining two DataFrames whose attributes match exactly\n",
    "\n",
    "First, we deal with cases where the attributes in two files are exactly the same."
   ]
  },
  {
   "cell_type": "markdown",
   "metadata": {},
   "source": [
    "First, read the file `students2.csv` to create another DataFrame:"
   ]
  },
  {
   "cell_type": "code",
   "execution_count": 13,
   "metadata": {},
   "outputs": [
    {
     "data": {
      "text/html": [
       "<div>\n",
       "<style scoped>\n",
       "    .dataframe tbody tr th:only-of-type {\n",
       "        vertical-align: middle;\n",
       "    }\n",
       "\n",
       "    .dataframe tbody tr th {\n",
       "        vertical-align: top;\n",
       "    }\n",
       "\n",
       "    .dataframe thead th {\n",
       "        text-align: right;\n",
       "    }\n",
       "</style>\n",
       "<table border=\"1\" class=\"dataframe\">\n",
       "  <thead>\n",
       "    <tr style=\"text-align: right;\">\n",
       "      <th></th>\n",
       "      <th>Student_ID</th>\n",
       "      <th>Student_Name</th>\n",
       "      <th>Course</th>\n",
       "      <th>Attendance</th>\n",
       "    </tr>\n",
       "  </thead>\n",
       "  <tbody>\n",
       "    <tr>\n",
       "      <th>0</th>\n",
       "      <td>12340</td>\n",
       "      <td>Ari King</td>\n",
       "      <td>AI</td>\n",
       "      <td>87</td>\n",
       "    </tr>\n",
       "    <tr>\n",
       "      <th>1</th>\n",
       "      <td>12348</td>\n",
       "      <td>David Raynor</td>\n",
       "      <td>IoT</td>\n",
       "      <td>52</td>\n",
       "    </tr>\n",
       "    <tr>\n",
       "      <th>2</th>\n",
       "      <td>12570</td>\n",
       "      <td>Howard Wunsch</td>\n",
       "      <td>AI</td>\n",
       "      <td>35</td>\n",
       "    </tr>\n",
       "    <tr>\n",
       "      <th>3</th>\n",
       "      <td>12572</td>\n",
       "      <td>Elva Feil</td>\n",
       "      <td>IoT</td>\n",
       "      <td>100</td>\n",
       "    </tr>\n",
       "  </tbody>\n",
       "</table>\n",
       "</div>"
      ],
      "text/plain": [
       "   Student_ID   Student_Name Course  Attendance\n",
       "0       12340       Ari King     AI          87\n",
       "1       12348   David Raynor    IoT          52\n",
       "2       12570  Howard Wunsch     AI          35\n",
       "3       12572      Elva Feil    IoT         100"
      ]
     },
     "execution_count": 13,
     "metadata": {},
     "output_type": "execute_result"
    }
   ],
   "source": [
    "students2_df = pd.read_csv('students2.csv')\n",
    "students2_df"
   ]
  },
  {
   "cell_type": "markdown",
   "metadata": {},
   "source": [
    "As we can see, it has the exact same attributes as our existing DataFrame `students_df`\n",
    "\n",
    "We can combine these two DataFrames in two ways:\n",
    "1. Create a new DataFrame containing only records that are in the *intersection* of  `students_df` and `students2_df`\n",
    "  - i.e. in both `students_df` and `students2_df`\n",
    "2. Create a new DataFrame containnig records that are in the *union* of `students_df` and `students2_df` \n",
    "  - i.e. in `students_df` or `students2_df` (or both)\n",
    "\n",
    "![merge](Images/merge1.png)"
   ]
  },
  {
   "cell_type": "code",
   "execution_count": 14,
   "metadata": {},
   "outputs": [
    {
     "data": {
      "text/html": [
       "<div>\n",
       "<style scoped>\n",
       "    .dataframe tbody tr th:only-of-type {\n",
       "        vertical-align: middle;\n",
       "    }\n",
       "\n",
       "    .dataframe tbody tr th {\n",
       "        vertical-align: top;\n",
       "    }\n",
       "\n",
       "    .dataframe thead th {\n",
       "        text-align: right;\n",
       "    }\n",
       "</style>\n",
       "<table border=\"1\" class=\"dataframe\">\n",
       "  <thead>\n",
       "    <tr style=\"text-align: right;\">\n",
       "      <th></th>\n",
       "      <th>Student_ID</th>\n",
       "      <th>Student_Name</th>\n",
       "      <th>Course</th>\n",
       "      <th>Attendance</th>\n",
       "    </tr>\n",
       "  </thead>\n",
       "  <tbody>\n",
       "    <tr>\n",
       "      <th>0</th>\n",
       "      <td>12340</td>\n",
       "      <td>Ari King</td>\n",
       "      <td>AI</td>\n",
       "      <td>87</td>\n",
       "    </tr>\n",
       "    <tr>\n",
       "      <th>1</th>\n",
       "      <td>12348</td>\n",
       "      <td>David Raynor</td>\n",
       "      <td>IoT</td>\n",
       "      <td>52</td>\n",
       "    </tr>\n",
       "  </tbody>\n",
       "</table>\n",
       "</div>"
      ],
      "text/plain": [
       "   Student_ID  Student_Name Course  Attendance\n",
       "0       12340      Ari King     AI          87\n",
       "1       12348  David Raynor    IoT          52"
      ]
     },
     "execution_count": 14,
     "metadata": {},
     "output_type": "execute_result"
    }
   ],
   "source": [
    "pd.merge(students_df,students2_df)"
   ]
  },
  {
   "cell_type": "code",
   "execution_count": 15,
   "metadata": {},
   "outputs": [
    {
     "data": {
      "text/html": [
       "<div>\n",
       "<style scoped>\n",
       "    .dataframe tbody tr th:only-of-type {\n",
       "        vertical-align: middle;\n",
       "    }\n",
       "\n",
       "    .dataframe tbody tr th {\n",
       "        vertical-align: top;\n",
       "    }\n",
       "\n",
       "    .dataframe thead th {\n",
       "        text-align: right;\n",
       "    }\n",
       "</style>\n",
       "<table border=\"1\" class=\"dataframe\">\n",
       "  <thead>\n",
       "    <tr style=\"text-align: right;\">\n",
       "      <th></th>\n",
       "      <th>Student_ID</th>\n",
       "      <th>Student_Name</th>\n",
       "      <th>Course</th>\n",
       "      <th>Attendance</th>\n",
       "    </tr>\n",
       "  </thead>\n",
       "  <tbody>\n",
       "    <tr>\n",
       "      <th>0</th>\n",
       "      <td>12340</td>\n",
       "      <td>Ari King</td>\n",
       "      <td>AI</td>\n",
       "      <td>87</td>\n",
       "    </tr>\n",
       "    <tr>\n",
       "      <th>1</th>\n",
       "      <td>12344</td>\n",
       "      <td>Eugenia Dooley</td>\n",
       "      <td>AI</td>\n",
       "      <td>45</td>\n",
       "    </tr>\n",
       "    <tr>\n",
       "      <th>2</th>\n",
       "      <td>12348</td>\n",
       "      <td>David Raynor</td>\n",
       "      <td>IoT</td>\n",
       "      <td>52</td>\n",
       "    </tr>\n",
       "    <tr>\n",
       "      <th>3</th>\n",
       "      <td>12350</td>\n",
       "      <td>Chaim Upton</td>\n",
       "      <td>IoT</td>\n",
       "      <td>51</td>\n",
       "    </tr>\n",
       "    <tr>\n",
       "      <th>4</th>\n",
       "      <td>12363</td>\n",
       "      <td>Mateo Mohr</td>\n",
       "      <td>AI</td>\n",
       "      <td>90</td>\n",
       "    </tr>\n",
       "    <tr>\n",
       "      <th>5</th>\n",
       "      <td>12570</td>\n",
       "      <td>Howard Wunsch</td>\n",
       "      <td>AI</td>\n",
       "      <td>35</td>\n",
       "    </tr>\n",
       "    <tr>\n",
       "      <th>6</th>\n",
       "      <td>12572</td>\n",
       "      <td>Elva Feil</td>\n",
       "      <td>IoT</td>\n",
       "      <td>100</td>\n",
       "    </tr>\n",
       "  </tbody>\n",
       "</table>\n",
       "</div>"
      ],
      "text/plain": [
       "   Student_ID    Student_Name Course  Attendance\n",
       "0       12340        Ari King     AI          87\n",
       "1       12344  Eugenia Dooley     AI          45\n",
       "2       12348    David Raynor    IoT          52\n",
       "3       12350     Chaim Upton    IoT          51\n",
       "4       12363      Mateo Mohr     AI          90\n",
       "5       12570   Howard Wunsch     AI          35\n",
       "6       12572       Elva Feil    IoT         100"
      ]
     },
     "execution_count": 15,
     "metadata": {},
     "output_type": "execute_result"
    }
   ],
   "source": [
    "pd.merge(students_df,students2_df,how='outer')"
   ]
  },
  {
   "cell_type": "markdown",
   "metadata": {},
   "source": [
    "#### Combining DataFrames whose attributes partially match"
   ]
  },
  {
   "cell_type": "code",
   "execution_count": 16,
   "metadata": {},
   "outputs": [
    {
     "data": {
      "text/html": [
       "<div>\n",
       "<style scoped>\n",
       "    .dataframe tbody tr th:only-of-type {\n",
       "        vertical-align: middle;\n",
       "    }\n",
       "\n",
       "    .dataframe tbody tr th {\n",
       "        vertical-align: top;\n",
       "    }\n",
       "\n",
       "    .dataframe thead th {\n",
       "        text-align: right;\n",
       "    }\n",
       "</style>\n",
       "<table border=\"1\" class=\"dataframe\">\n",
       "  <thead>\n",
       "    <tr style=\"text-align: right;\">\n",
       "      <th></th>\n",
       "      <th>Student_ID</th>\n",
       "      <th>COM745</th>\n",
       "      <th>COM761</th>\n",
       "      <th>COM747</th>\n",
       "    </tr>\n",
       "  </thead>\n",
       "  <tbody>\n",
       "    <tr>\n",
       "      <th>0</th>\n",
       "      <td>12340</td>\n",
       "      <td>64</td>\n",
       "      <td>75</td>\n",
       "      <td>80</td>\n",
       "    </tr>\n",
       "    <tr>\n",
       "      <th>1</th>\n",
       "      <td>12344</td>\n",
       "      <td>56</td>\n",
       "      <td>25</td>\n",
       "      <td>40</td>\n",
       "    </tr>\n",
       "    <tr>\n",
       "      <th>2</th>\n",
       "      <td>12363</td>\n",
       "      <td>70</td>\n",
       "      <td>62</td>\n",
       "      <td>58</td>\n",
       "    </tr>\n",
       "    <tr>\n",
       "      <th>3</th>\n",
       "      <td>12375</td>\n",
       "      <td>66</td>\n",
       "      <td>57</td>\n",
       "      <td>54</td>\n",
       "    </tr>\n",
       "    <tr>\n",
       "      <th>4</th>\n",
       "      <td>12383</td>\n",
       "      <td>49</td>\n",
       "      <td>50</td>\n",
       "      <td>65</td>\n",
       "    </tr>\n",
       "  </tbody>\n",
       "</table>\n",
       "</div>"
      ],
      "text/plain": [
       "   Student_ID  COM745  COM761  COM747\n",
       "0       12340      64      75      80\n",
       "1       12344      56      25      40\n",
       "2       12363      70      62      58\n",
       "3       12375      66      57      54\n",
       "4       12383      49      50      65"
      ]
     },
     "execution_count": 16,
     "metadata": {},
     "output_type": "execute_result"
    }
   ],
   "source": [
    "students_marks_df = pd.read_csv('marks.csv')\n",
    "students_marks_df"
   ]
  },
  {
   "cell_type": "markdown",
   "metadata": {},
   "source": [
    "![MLR51](Images/students_and_marks.png)\n",
    "\n",
    "##### Left join\n",
    "\n",
    "- Starting with the left DataFrame, we add columns to represent the additional attributes in the right DataFrame.\n",
    "  - In this case the left DataFrame is `students_df` and the right DataFrame is `marks_df`\n",
    "  - We add columns to `students_df` for the attributes COM745, COM761 and COM747.\n",
    "- At least one attribute is chosen that the two DataFrames share in common, to match rows in the left DataFrame with rows in the right DataFrame.\n",
    "  - In this case, the only attribute the two DataFrames share in common is `Student_ID`, so we choose it.\n",
    "- Values for the additional attributes are filled in (where possible) using the right DataFrame. Where this is not possible, a cell is filled with NaN (not a number).\n",
    "  - For example, consider the first row of `students_df`, which has `Student_ID = 12340`. We can fill out values for COM745, COM761 and COM747 using the first row in `marks_df`, which also has `Student_ID = 12340`.\n",
    "  - Consider the third row of `students_df`. This has `Student_ID = 12348`. In this case, there is no matching row in `marks_df`, and so COM745, COM761 and COM747 take values of `NaN`.\n",
    "  \n",
    "![MLR51](Images/left_merge.png)  "
   ]
  },
  {
   "cell_type": "code",
   "execution_count": 17,
   "metadata": {},
   "outputs": [
    {
     "data": {
      "text/html": [
       "<div>\n",
       "<style scoped>\n",
       "    .dataframe tbody tr th:only-of-type {\n",
       "        vertical-align: middle;\n",
       "    }\n",
       "\n",
       "    .dataframe tbody tr th {\n",
       "        vertical-align: top;\n",
       "    }\n",
       "\n",
       "    .dataframe thead th {\n",
       "        text-align: right;\n",
       "    }\n",
       "</style>\n",
       "<table border=\"1\" class=\"dataframe\">\n",
       "  <thead>\n",
       "    <tr style=\"text-align: right;\">\n",
       "      <th></th>\n",
       "      <th>Student_ID</th>\n",
       "      <th>Student_Name</th>\n",
       "      <th>Course</th>\n",
       "      <th>Attendance</th>\n",
       "      <th>COM745</th>\n",
       "      <th>COM761</th>\n",
       "      <th>COM747</th>\n",
       "    </tr>\n",
       "  </thead>\n",
       "  <tbody>\n",
       "    <tr>\n",
       "      <th>0</th>\n",
       "      <td>12340</td>\n",
       "      <td>Ari King</td>\n",
       "      <td>AI</td>\n",
       "      <td>87</td>\n",
       "      <td>64.0</td>\n",
       "      <td>75.0</td>\n",
       "      <td>80.0</td>\n",
       "    </tr>\n",
       "    <tr>\n",
       "      <th>1</th>\n",
       "      <td>12344</td>\n",
       "      <td>Eugenia Dooley</td>\n",
       "      <td>AI</td>\n",
       "      <td>45</td>\n",
       "      <td>56.0</td>\n",
       "      <td>25.0</td>\n",
       "      <td>40.0</td>\n",
       "    </tr>\n",
       "    <tr>\n",
       "      <th>2</th>\n",
       "      <td>12348</td>\n",
       "      <td>David Raynor</td>\n",
       "      <td>IoT</td>\n",
       "      <td>52</td>\n",
       "      <td>NaN</td>\n",
       "      <td>NaN</td>\n",
       "      <td>NaN</td>\n",
       "    </tr>\n",
       "    <tr>\n",
       "      <th>3</th>\n",
       "      <td>12350</td>\n",
       "      <td>Chaim Upton</td>\n",
       "      <td>IoT</td>\n",
       "      <td>51</td>\n",
       "      <td>NaN</td>\n",
       "      <td>NaN</td>\n",
       "      <td>NaN</td>\n",
       "    </tr>\n",
       "    <tr>\n",
       "      <th>4</th>\n",
       "      <td>12363</td>\n",
       "      <td>Mateo Mohr</td>\n",
       "      <td>AI</td>\n",
       "      <td>90</td>\n",
       "      <td>70.0</td>\n",
       "      <td>62.0</td>\n",
       "      <td>58.0</td>\n",
       "    </tr>\n",
       "  </tbody>\n",
       "</table>\n",
       "</div>"
      ],
      "text/plain": [
       "   Student_ID    Student_Name Course  Attendance  COM745  COM761  COM747\n",
       "0       12340        Ari King     AI          87    64.0    75.0    80.0\n",
       "1       12344  Eugenia Dooley     AI          45    56.0    25.0    40.0\n",
       "2       12348    David Raynor    IoT          52     NaN     NaN     NaN\n",
       "3       12350     Chaim Upton    IoT          51     NaN     NaN     NaN\n",
       "4       12363      Mateo Mohr     AI          90    70.0    62.0    58.0"
      ]
     },
     "execution_count": 17,
     "metadata": {},
     "output_type": "execute_result"
    }
   ],
   "source": [
    "students_df_leftjoin = pd.merge(students_df, students_marks_df, how='left', on='Student_ID')\n",
    "students_df_leftjoin"
   ]
  },
  {
   "cell_type": "markdown",
   "metadata": {},
   "source": [
    "##### Right join\n",
    "\n",
    "This is similar to left join, except we start with the right DataFrame and fill missing attribute values using the left DataFrame.\n",
    "\n",
    "![MLR51](Images/right_merge.png)"
   ]
  },
  {
   "cell_type": "code",
   "execution_count": 18,
   "metadata": {},
   "outputs": [
    {
     "data": {
      "text/html": [
       "<div>\n",
       "<style scoped>\n",
       "    .dataframe tbody tr th:only-of-type {\n",
       "        vertical-align: middle;\n",
       "    }\n",
       "\n",
       "    .dataframe tbody tr th {\n",
       "        vertical-align: top;\n",
       "    }\n",
       "\n",
       "    .dataframe thead th {\n",
       "        text-align: right;\n",
       "    }\n",
       "</style>\n",
       "<table border=\"1\" class=\"dataframe\">\n",
       "  <thead>\n",
       "    <tr style=\"text-align: right;\">\n",
       "      <th></th>\n",
       "      <th>Student_ID</th>\n",
       "      <th>Student_Name</th>\n",
       "      <th>Course</th>\n",
       "      <th>Attendance</th>\n",
       "      <th>COM745</th>\n",
       "      <th>COM761</th>\n",
       "      <th>COM747</th>\n",
       "    </tr>\n",
       "  </thead>\n",
       "  <tbody>\n",
       "    <tr>\n",
       "      <th>0</th>\n",
       "      <td>12340</td>\n",
       "      <td>Ari King</td>\n",
       "      <td>AI</td>\n",
       "      <td>87.0</td>\n",
       "      <td>64</td>\n",
       "      <td>75</td>\n",
       "      <td>80</td>\n",
       "    </tr>\n",
       "    <tr>\n",
       "      <th>1</th>\n",
       "      <td>12344</td>\n",
       "      <td>Eugenia Dooley</td>\n",
       "      <td>AI</td>\n",
       "      <td>45.0</td>\n",
       "      <td>56</td>\n",
       "      <td>25</td>\n",
       "      <td>40</td>\n",
       "    </tr>\n",
       "    <tr>\n",
       "      <th>2</th>\n",
       "      <td>12363</td>\n",
       "      <td>Mateo Mohr</td>\n",
       "      <td>AI</td>\n",
       "      <td>90.0</td>\n",
       "      <td>70</td>\n",
       "      <td>62</td>\n",
       "      <td>58</td>\n",
       "    </tr>\n",
       "    <tr>\n",
       "      <th>3</th>\n",
       "      <td>12375</td>\n",
       "      <td>NaN</td>\n",
       "      <td>NaN</td>\n",
       "      <td>NaN</td>\n",
       "      <td>66</td>\n",
       "      <td>57</td>\n",
       "      <td>54</td>\n",
       "    </tr>\n",
       "    <tr>\n",
       "      <th>4</th>\n",
       "      <td>12383</td>\n",
       "      <td>NaN</td>\n",
       "      <td>NaN</td>\n",
       "      <td>NaN</td>\n",
       "      <td>49</td>\n",
       "      <td>50</td>\n",
       "      <td>65</td>\n",
       "    </tr>\n",
       "  </tbody>\n",
       "</table>\n",
       "</div>"
      ],
      "text/plain": [
       "   Student_ID    Student_Name Course  Attendance  COM745  COM761  COM747\n",
       "0       12340        Ari King     AI        87.0      64      75      80\n",
       "1       12344  Eugenia Dooley     AI        45.0      56      25      40\n",
       "2       12363      Mateo Mohr     AI        90.0      70      62      58\n",
       "3       12375             NaN    NaN         NaN      66      57      54\n",
       "4       12383             NaN    NaN         NaN      49      50      65"
      ]
     },
     "execution_count": 18,
     "metadata": {},
     "output_type": "execute_result"
    }
   ],
   "source": [
    "student_df_rightjoin = pd.merge(students_df, students_marks_df, how='right', on='Student_ID')\n",
    "student_df_rightjoin"
   ]
  },
  {
   "cell_type": "markdown",
   "metadata": {},
   "source": [
    "##### Inner join\n",
    "\n",
    "Merging this way retain only the rows for which we have values for all attributes across both DataFrames.\n",
    "\n",
    "![MLR51](Images/inner_join.png)"
   ]
  },
  {
   "cell_type": "code",
   "execution_count": 19,
   "metadata": {},
   "outputs": [
    {
     "data": {
      "text/html": [
       "<div>\n",
       "<style scoped>\n",
       "    .dataframe tbody tr th:only-of-type {\n",
       "        vertical-align: middle;\n",
       "    }\n",
       "\n",
       "    .dataframe tbody tr th {\n",
       "        vertical-align: top;\n",
       "    }\n",
       "\n",
       "    .dataframe thead th {\n",
       "        text-align: right;\n",
       "    }\n",
       "</style>\n",
       "<table border=\"1\" class=\"dataframe\">\n",
       "  <thead>\n",
       "    <tr style=\"text-align: right;\">\n",
       "      <th></th>\n",
       "      <th>Student_ID</th>\n",
       "      <th>Student_Name</th>\n",
       "      <th>Course</th>\n",
       "      <th>Attendance</th>\n",
       "      <th>COM745</th>\n",
       "      <th>COM761</th>\n",
       "      <th>COM747</th>\n",
       "    </tr>\n",
       "  </thead>\n",
       "  <tbody>\n",
       "    <tr>\n",
       "      <th>0</th>\n",
       "      <td>12340</td>\n",
       "      <td>Ari King</td>\n",
       "      <td>AI</td>\n",
       "      <td>87</td>\n",
       "      <td>64</td>\n",
       "      <td>75</td>\n",
       "      <td>80</td>\n",
       "    </tr>\n",
       "    <tr>\n",
       "      <th>1</th>\n",
       "      <td>12344</td>\n",
       "      <td>Eugenia Dooley</td>\n",
       "      <td>AI</td>\n",
       "      <td>45</td>\n",
       "      <td>56</td>\n",
       "      <td>25</td>\n",
       "      <td>40</td>\n",
       "    </tr>\n",
       "    <tr>\n",
       "      <th>2</th>\n",
       "      <td>12363</td>\n",
       "      <td>Mateo Mohr</td>\n",
       "      <td>AI</td>\n",
       "      <td>90</td>\n",
       "      <td>70</td>\n",
       "      <td>62</td>\n",
       "      <td>58</td>\n",
       "    </tr>\n",
       "  </tbody>\n",
       "</table>\n",
       "</div>"
      ],
      "text/plain": [
       "   Student_ID    Student_Name Course  Attendance  COM745  COM761  COM747\n",
       "0       12340        Ari King     AI          87      64      75      80\n",
       "1       12344  Eugenia Dooley     AI          45      56      25      40\n",
       "2       12363      Mateo Mohr     AI          90      70      62      58"
      ]
     },
     "execution_count": 19,
     "metadata": {},
     "output_type": "execute_result"
    }
   ],
   "source": [
    "student_df_innerjoin = pd.merge(students_df, students_marks_df, how='inner', on='Student_ID')\n",
    "student_df_innerjoin"
   ]
  },
  {
   "cell_type": "markdown",
   "metadata": {},
   "source": [
    "##### Outer join\n",
    "\n",
    "Merging this way we retain all rows across both DataFrames, filling out attribute values where possible, otherwise filling in NaN.\n",
    "\n",
    "![MLR51](Images/outer_join.png)"
   ]
  },
  {
   "cell_type": "code",
   "execution_count": 20,
   "metadata": {},
   "outputs": [
    {
     "data": {
      "text/html": [
       "<div>\n",
       "<style scoped>\n",
       "    .dataframe tbody tr th:only-of-type {\n",
       "        vertical-align: middle;\n",
       "    }\n",
       "\n",
       "    .dataframe tbody tr th {\n",
       "        vertical-align: top;\n",
       "    }\n",
       "\n",
       "    .dataframe thead th {\n",
       "        text-align: right;\n",
       "    }\n",
       "</style>\n",
       "<table border=\"1\" class=\"dataframe\">\n",
       "  <thead>\n",
       "    <tr style=\"text-align: right;\">\n",
       "      <th></th>\n",
       "      <th>Student_ID</th>\n",
       "      <th>Student_Name</th>\n",
       "      <th>Course</th>\n",
       "      <th>Attendance</th>\n",
       "      <th>COM745</th>\n",
       "      <th>COM761</th>\n",
       "      <th>COM747</th>\n",
       "    </tr>\n",
       "  </thead>\n",
       "  <tbody>\n",
       "    <tr>\n",
       "      <th>0</th>\n",
       "      <td>12340</td>\n",
       "      <td>Ari King</td>\n",
       "      <td>AI</td>\n",
       "      <td>87.0</td>\n",
       "      <td>64.0</td>\n",
       "      <td>75.0</td>\n",
       "      <td>80.0</td>\n",
       "    </tr>\n",
       "    <tr>\n",
       "      <th>1</th>\n",
       "      <td>12344</td>\n",
       "      <td>Eugenia Dooley</td>\n",
       "      <td>AI</td>\n",
       "      <td>45.0</td>\n",
       "      <td>56.0</td>\n",
       "      <td>25.0</td>\n",
       "      <td>40.0</td>\n",
       "    </tr>\n",
       "    <tr>\n",
       "      <th>2</th>\n",
       "      <td>12348</td>\n",
       "      <td>David Raynor</td>\n",
       "      <td>IoT</td>\n",
       "      <td>52.0</td>\n",
       "      <td>NaN</td>\n",
       "      <td>NaN</td>\n",
       "      <td>NaN</td>\n",
       "    </tr>\n",
       "    <tr>\n",
       "      <th>3</th>\n",
       "      <td>12350</td>\n",
       "      <td>Chaim Upton</td>\n",
       "      <td>IoT</td>\n",
       "      <td>51.0</td>\n",
       "      <td>NaN</td>\n",
       "      <td>NaN</td>\n",
       "      <td>NaN</td>\n",
       "    </tr>\n",
       "    <tr>\n",
       "      <th>4</th>\n",
       "      <td>12363</td>\n",
       "      <td>Mateo Mohr</td>\n",
       "      <td>AI</td>\n",
       "      <td>90.0</td>\n",
       "      <td>70.0</td>\n",
       "      <td>62.0</td>\n",
       "      <td>58.0</td>\n",
       "    </tr>\n",
       "    <tr>\n",
       "      <th>5</th>\n",
       "      <td>12375</td>\n",
       "      <td>NaN</td>\n",
       "      <td>NaN</td>\n",
       "      <td>NaN</td>\n",
       "      <td>66.0</td>\n",
       "      <td>57.0</td>\n",
       "      <td>54.0</td>\n",
       "    </tr>\n",
       "    <tr>\n",
       "      <th>6</th>\n",
       "      <td>12383</td>\n",
       "      <td>NaN</td>\n",
       "      <td>NaN</td>\n",
       "      <td>NaN</td>\n",
       "      <td>49.0</td>\n",
       "      <td>50.0</td>\n",
       "      <td>65.0</td>\n",
       "    </tr>\n",
       "  </tbody>\n",
       "</table>\n",
       "</div>"
      ],
      "text/plain": [
       "   Student_ID    Student_Name Course  Attendance  COM745  COM761  COM747\n",
       "0       12340        Ari King     AI        87.0    64.0    75.0    80.0\n",
       "1       12344  Eugenia Dooley     AI        45.0    56.0    25.0    40.0\n",
       "2       12348    David Raynor    IoT        52.0     NaN     NaN     NaN\n",
       "3       12350     Chaim Upton    IoT        51.0     NaN     NaN     NaN\n",
       "4       12363      Mateo Mohr     AI        90.0    70.0    62.0    58.0\n",
       "5       12375             NaN    NaN         NaN    66.0    57.0    54.0\n",
       "6       12383             NaN    NaN         NaN    49.0    50.0    65.0"
      ]
     },
     "execution_count": 20,
     "metadata": {},
     "output_type": "execute_result"
    }
   ],
   "source": [
    "student_df_outerjoin = pd.merge(students_df, students_marks_df, how='outer', on='Student_ID')\n",
    "student_df_outerjoin"
   ]
  },
  {
   "cell_type": "markdown",
   "metadata": {},
   "source": [
    "### Useful DataFrame methods\n",
    "\n",
    "In this section we'll use the `student_df_outerjoin` DataFrame to illustrate some useful methods.\n",
    "\n",
    "#### Have a quick look at the data\n",
    "One of the first things we may want to do with data we have loaded into a DataFrame is take a look at the first few rows, to see if it looks how we expect. We can do this using the `head()` method:"
   ]
  },
  {
   "cell_type": "code",
   "execution_count": 21,
   "metadata": {},
   "outputs": [
    {
     "data": {
      "text/html": [
       "<div>\n",
       "<style scoped>\n",
       "    .dataframe tbody tr th:only-of-type {\n",
       "        vertical-align: middle;\n",
       "    }\n",
       "\n",
       "    .dataframe tbody tr th {\n",
       "        vertical-align: top;\n",
       "    }\n",
       "\n",
       "    .dataframe thead th {\n",
       "        text-align: right;\n",
       "    }\n",
       "</style>\n",
       "<table border=\"1\" class=\"dataframe\">\n",
       "  <thead>\n",
       "    <tr style=\"text-align: right;\">\n",
       "      <th></th>\n",
       "      <th>Student_ID</th>\n",
       "      <th>Student_Name</th>\n",
       "      <th>Course</th>\n",
       "      <th>Attendance</th>\n",
       "      <th>COM745</th>\n",
       "      <th>COM761</th>\n",
       "      <th>COM747</th>\n",
       "    </tr>\n",
       "  </thead>\n",
       "  <tbody>\n",
       "    <tr>\n",
       "      <th>0</th>\n",
       "      <td>12340</td>\n",
       "      <td>Ari King</td>\n",
       "      <td>AI</td>\n",
       "      <td>87.0</td>\n",
       "      <td>64.0</td>\n",
       "      <td>75.0</td>\n",
       "      <td>80.0</td>\n",
       "    </tr>\n",
       "    <tr>\n",
       "      <th>1</th>\n",
       "      <td>12344</td>\n",
       "      <td>Eugenia Dooley</td>\n",
       "      <td>AI</td>\n",
       "      <td>45.0</td>\n",
       "      <td>56.0</td>\n",
       "      <td>25.0</td>\n",
       "      <td>40.0</td>\n",
       "    </tr>\n",
       "  </tbody>\n",
       "</table>\n",
       "</div>"
      ],
      "text/plain": [
       "   Student_ID    Student_Name Course  Attendance  COM745  COM761  COM747\n",
       "0       12340        Ari King     AI        87.0    64.0    75.0    80.0\n",
       "1       12344  Eugenia Dooley     AI        45.0    56.0    25.0    40.0"
      ]
     },
     "execution_count": 21,
     "metadata": {},
     "output_type": "execute_result"
    }
   ],
   "source": [
    "# The number we pass indicates how many rows we wish to look at (from the top of the DataFrame)\n",
    "student_df_outerjoin.head(2)"
   ]
  },
  {
   "cell_type": "markdown",
   "metadata": {},
   "source": [
    "Or we can look at the final few records instead, using the `tail()` method:"
   ]
  },
  {
   "cell_type": "code",
   "execution_count": 22,
   "metadata": {},
   "outputs": [
    {
     "data": {
      "text/html": [
       "<div>\n",
       "<style scoped>\n",
       "    .dataframe tbody tr th:only-of-type {\n",
       "        vertical-align: middle;\n",
       "    }\n",
       "\n",
       "    .dataframe tbody tr th {\n",
       "        vertical-align: top;\n",
       "    }\n",
       "\n",
       "    .dataframe thead th {\n",
       "        text-align: right;\n",
       "    }\n",
       "</style>\n",
       "<table border=\"1\" class=\"dataframe\">\n",
       "  <thead>\n",
       "    <tr style=\"text-align: right;\">\n",
       "      <th></th>\n",
       "      <th>Student_ID</th>\n",
       "      <th>Student_Name</th>\n",
       "      <th>Course</th>\n",
       "      <th>Attendance</th>\n",
       "      <th>COM745</th>\n",
       "      <th>COM761</th>\n",
       "      <th>COM747</th>\n",
       "    </tr>\n",
       "  </thead>\n",
       "  <tbody>\n",
       "    <tr>\n",
       "      <th>6</th>\n",
       "      <td>12383</td>\n",
       "      <td>NaN</td>\n",
       "      <td>NaN</td>\n",
       "      <td>NaN</td>\n",
       "      <td>49.0</td>\n",
       "      <td>50.0</td>\n",
       "      <td>65.0</td>\n",
       "    </tr>\n",
       "  </tbody>\n",
       "</table>\n",
       "</div>"
      ],
      "text/plain": [
       "   Student_ID Student_Name Course  Attendance  COM745  COM761  COM747\n",
       "6       12383          NaN    NaN         NaN    49.0    50.0    65.0"
      ]
     },
     "execution_count": 22,
     "metadata": {},
     "output_type": "execute_result"
    }
   ],
   "source": [
    "# The number we pass indicates how many rows we wish to look at (from the bottom of the DataFrame)\n",
    "student_df_outerjoin.tail(1)"
   ]
  },
  {
   "cell_type": "markdown",
   "metadata": {},
   "source": [
    "#### See summaries of the data"
   ]
  },
  {
   "cell_type": "markdown",
   "metadata": {},
   "source": [
    "The `info()` method provides information about each attribute's data-type and number of non-null values:"
   ]
  },
  {
   "cell_type": "code",
   "execution_count": 23,
   "metadata": {},
   "outputs": [
    {
     "name": "stdout",
     "output_type": "stream",
     "text": [
      "<class 'pandas.core.frame.DataFrame'>\n",
      "Int64Index: 7 entries, 0 to 6\n",
      "Data columns (total 7 columns):\n",
      " #   Column        Non-Null Count  Dtype  \n",
      "---  ------        --------------  -----  \n",
      " 0   Student_ID    7 non-null      int64  \n",
      " 1   Student_Name  5 non-null      object \n",
      " 2   Course        5 non-null      object \n",
      " 3   Attendance    5 non-null      float64\n",
      " 4   COM745        5 non-null      float64\n",
      " 5   COM761        5 non-null      float64\n",
      " 6   COM747        5 non-null      float64\n",
      "dtypes: float64(4), int64(1), object(2)\n",
      "memory usage: 448.0+ bytes\n"
     ]
    }
   ],
   "source": [
    "student_df_outerjoin.info()"
   ]
  },
  {
   "cell_type": "markdown",
   "metadata": {},
   "source": [
    "We can see important statistics for the columns that contain numerical data using the `describe()` method:"
   ]
  },
  {
   "cell_type": "code",
   "execution_count": 24,
   "metadata": {},
   "outputs": [
    {
     "data": {
      "text/html": [
       "<div>\n",
       "<style scoped>\n",
       "    .dataframe tbody tr th:only-of-type {\n",
       "        vertical-align: middle;\n",
       "    }\n",
       "\n",
       "    .dataframe tbody tr th {\n",
       "        vertical-align: top;\n",
       "    }\n",
       "\n",
       "    .dataframe thead th {\n",
       "        text-align: right;\n",
       "    }\n",
       "</style>\n",
       "<table border=\"1\" class=\"dataframe\">\n",
       "  <thead>\n",
       "    <tr style=\"text-align: right;\">\n",
       "      <th></th>\n",
       "      <th>Student_ID</th>\n",
       "      <th>Attendance</th>\n",
       "      <th>COM745</th>\n",
       "      <th>COM761</th>\n",
       "      <th>COM747</th>\n",
       "    </tr>\n",
       "  </thead>\n",
       "  <tbody>\n",
       "    <tr>\n",
       "      <th>count</th>\n",
       "      <td>7.000000</td>\n",
       "      <td>5.000000</td>\n",
       "      <td>5.00000</td>\n",
       "      <td>5.000000</td>\n",
       "      <td>5.000000</td>\n",
       "    </tr>\n",
       "    <tr>\n",
       "      <th>mean</th>\n",
       "      <td>12357.571429</td>\n",
       "      <td>65.000000</td>\n",
       "      <td>61.00000</td>\n",
       "      <td>53.800000</td>\n",
       "      <td>59.400000</td>\n",
       "    </tr>\n",
       "    <tr>\n",
       "      <th>std</th>\n",
       "      <td>16.440368</td>\n",
       "      <td>21.644861</td>\n",
       "      <td>8.42615</td>\n",
       "      <td>18.512158</td>\n",
       "      <td>14.690133</td>\n",
       "    </tr>\n",
       "    <tr>\n",
       "      <th>min</th>\n",
       "      <td>12340.000000</td>\n",
       "      <td>45.000000</td>\n",
       "      <td>49.00000</td>\n",
       "      <td>25.000000</td>\n",
       "      <td>40.000000</td>\n",
       "    </tr>\n",
       "    <tr>\n",
       "      <th>25%</th>\n",
       "      <td>12346.000000</td>\n",
       "      <td>51.000000</td>\n",
       "      <td>56.00000</td>\n",
       "      <td>50.000000</td>\n",
       "      <td>54.000000</td>\n",
       "    </tr>\n",
       "    <tr>\n",
       "      <th>50%</th>\n",
       "      <td>12350.000000</td>\n",
       "      <td>52.000000</td>\n",
       "      <td>64.00000</td>\n",
       "      <td>57.000000</td>\n",
       "      <td>58.000000</td>\n",
       "    </tr>\n",
       "    <tr>\n",
       "      <th>75%</th>\n",
       "      <td>12369.000000</td>\n",
       "      <td>87.000000</td>\n",
       "      <td>66.00000</td>\n",
       "      <td>62.000000</td>\n",
       "      <td>65.000000</td>\n",
       "    </tr>\n",
       "    <tr>\n",
       "      <th>max</th>\n",
       "      <td>12383.000000</td>\n",
       "      <td>90.000000</td>\n",
       "      <td>70.00000</td>\n",
       "      <td>75.000000</td>\n",
       "      <td>80.000000</td>\n",
       "    </tr>\n",
       "  </tbody>\n",
       "</table>\n",
       "</div>"
      ],
      "text/plain": [
       "         Student_ID  Attendance    COM745     COM761     COM747\n",
       "count      7.000000    5.000000   5.00000   5.000000   5.000000\n",
       "mean   12357.571429   65.000000  61.00000  53.800000  59.400000\n",
       "std       16.440368   21.644861   8.42615  18.512158  14.690133\n",
       "min    12340.000000   45.000000  49.00000  25.000000  40.000000\n",
       "25%    12346.000000   51.000000  56.00000  50.000000  54.000000\n",
       "50%    12350.000000   52.000000  64.00000  57.000000  58.000000\n",
       "75%    12369.000000   87.000000  66.00000  62.000000  65.000000\n",
       "max    12383.000000   90.000000  70.00000  75.000000  80.000000"
      ]
     },
     "execution_count": 24,
     "metadata": {},
     "output_type": "execute_result"
    }
   ],
   "source": [
    "student_df_outerjoin.describe()"
   ]
  },
  {
   "cell_type": "markdown",
   "metadata": {},
   "source": [
    "For columns that contain categorical data, we can use:"
   ]
  },
  {
   "cell_type": "code",
   "execution_count": 25,
   "metadata": {},
   "outputs": [
    {
     "data": {
      "text/plain": [
       "AI     3\n",
       "IoT    2\n",
       "Name: Course, dtype: int64"
      ]
     },
     "execution_count": 25,
     "metadata": {},
     "output_type": "execute_result"
    }
   ],
   "source": [
    "student_df_outerjoin['Course'].value_counts()"
   ]
  },
  {
   "cell_type": "markdown",
   "metadata": {},
   "source": [
    "The Pandas DataFrame has many useful functions"
   ]
  },
  {
   "cell_type": "code",
   "execution_count": 26,
   "metadata": {},
   "outputs": [
    {
     "data": {
      "text/html": [
       "<div>\n",
       "<style scoped>\n",
       "    .dataframe tbody tr th:only-of-type {\n",
       "        vertical-align: middle;\n",
       "    }\n",
       "\n",
       "    .dataframe tbody tr th {\n",
       "        vertical-align: top;\n",
       "    }\n",
       "\n",
       "    .dataframe thead th {\n",
       "        text-align: right;\n",
       "    }\n",
       "</style>\n",
       "<table border=\"1\" class=\"dataframe\">\n",
       "  <thead>\n",
       "    <tr style=\"text-align: right;\">\n",
       "      <th></th>\n",
       "      <th>Student_ID</th>\n",
       "      <th>Student_Name</th>\n",
       "      <th>Course</th>\n",
       "      <th>Attendance</th>\n",
       "      <th>COM745</th>\n",
       "      <th>COM761</th>\n",
       "      <th>COM747</th>\n",
       "    </tr>\n",
       "  </thead>\n",
       "  <tbody>\n",
       "    <tr>\n",
       "      <th>1</th>\n",
       "      <td>12344</td>\n",
       "      <td>Eugenia Dooley</td>\n",
       "      <td>AI</td>\n",
       "      <td>45.0</td>\n",
       "      <td>56.0</td>\n",
       "      <td>25.0</td>\n",
       "      <td>40.0</td>\n",
       "    </tr>\n",
       "    <tr>\n",
       "      <th>3</th>\n",
       "      <td>12350</td>\n",
       "      <td>Chaim Upton</td>\n",
       "      <td>IoT</td>\n",
       "      <td>51.0</td>\n",
       "      <td>NaN</td>\n",
       "      <td>NaN</td>\n",
       "      <td>NaN</td>\n",
       "    </tr>\n",
       "    <tr>\n",
       "      <th>2</th>\n",
       "      <td>12348</td>\n",
       "      <td>David Raynor</td>\n",
       "      <td>IoT</td>\n",
       "      <td>52.0</td>\n",
       "      <td>NaN</td>\n",
       "      <td>NaN</td>\n",
       "      <td>NaN</td>\n",
       "    </tr>\n",
       "    <tr>\n",
       "      <th>0</th>\n",
       "      <td>12340</td>\n",
       "      <td>Ari King</td>\n",
       "      <td>AI</td>\n",
       "      <td>87.0</td>\n",
       "      <td>64.0</td>\n",
       "      <td>75.0</td>\n",
       "      <td>80.0</td>\n",
       "    </tr>\n",
       "    <tr>\n",
       "      <th>4</th>\n",
       "      <td>12363</td>\n",
       "      <td>Mateo Mohr</td>\n",
       "      <td>AI</td>\n",
       "      <td>90.0</td>\n",
       "      <td>70.0</td>\n",
       "      <td>62.0</td>\n",
       "      <td>58.0</td>\n",
       "    </tr>\n",
       "    <tr>\n",
       "      <th>5</th>\n",
       "      <td>12375</td>\n",
       "      <td>NaN</td>\n",
       "      <td>NaN</td>\n",
       "      <td>NaN</td>\n",
       "      <td>66.0</td>\n",
       "      <td>57.0</td>\n",
       "      <td>54.0</td>\n",
       "    </tr>\n",
       "    <tr>\n",
       "      <th>6</th>\n",
       "      <td>12383</td>\n",
       "      <td>NaN</td>\n",
       "      <td>NaN</td>\n",
       "      <td>NaN</td>\n",
       "      <td>49.0</td>\n",
       "      <td>50.0</td>\n",
       "      <td>65.0</td>\n",
       "    </tr>\n",
       "  </tbody>\n",
       "</table>\n",
       "</div>"
      ],
      "text/plain": [
       "   Student_ID    Student_Name Course  Attendance  COM745  COM761  COM747\n",
       "1       12344  Eugenia Dooley     AI        45.0    56.0    25.0    40.0\n",
       "3       12350     Chaim Upton    IoT        51.0     NaN     NaN     NaN\n",
       "2       12348    David Raynor    IoT        52.0     NaN     NaN     NaN\n",
       "0       12340        Ari King     AI        87.0    64.0    75.0    80.0\n",
       "4       12363      Mateo Mohr     AI        90.0    70.0    62.0    58.0\n",
       "5       12375             NaN    NaN         NaN    66.0    57.0    54.0\n",
       "6       12383             NaN    NaN         NaN    49.0    50.0    65.0"
      ]
     },
     "execution_count": 26,
     "metadata": {},
     "output_type": "execute_result"
    }
   ],
   "source": [
    "student_df_outerjoin.sort_values('Attendance') #Note: INDICES move too (i.e. the index stays with its original row)"
   ]
  },
  {
   "cell_type": "code",
   "execution_count": 27,
   "metadata": {},
   "outputs": [
    {
     "name": "stdout",
     "output_type": "stream",
     "text": [
      "   Student_ID    Student_Name Course  Attendance  COM745  COM761  COM747\n",
      "0       12340        Ari King     AI        87.0    64.0    75.0    80.0\n",
      "1       12344  Eugenia Dooley     AI        45.0    56.0    25.0    40.0\n",
      "2       12348    David Raynor    IoT        52.0     NaN     NaN     NaN\n",
      "3       12350     Chaim Upton    IoT        51.0     NaN     NaN     NaN\n",
      "4       12363      Mateo Mohr     AI        90.0    70.0    62.0    58.0\n"
     ]
    }
   ],
   "source": [
    "print(student_df_outerjoin.head(5)) #Note: DataFrame did not change - thsi is because we need to set inplace=True\n",
    "#inplace=True means the sort_values sorts the dataframe we are operating on, i.e. student_df_outerjoin;\n",
    "#onplace=False means the sort_values method returns a new DataFrame, with the values sorted"
   ]
  },
  {
   "cell_type": "code",
   "execution_count": 30,
   "metadata": {},
   "outputs": [],
   "source": [
    "student_df_outerjoin.sort_values('Attendance',ascending=False,inplace=True) #sort by attendance in descending order"
   ]
  },
  {
   "cell_type": "code",
   "execution_count": 31,
   "metadata": {},
   "outputs": [
    {
     "name": "stdout",
     "output_type": "stream",
     "text": [
      "   Student_ID    Student_Name Course  Attendance  COM745  COM761  COM747\n",
      "4       12363      Mateo Mohr     AI        90.0    70.0    62.0    58.0\n",
      "0       12340        Ari King     AI        87.0    64.0    75.0    80.0\n",
      "2       12348    David Raynor    IoT        52.0     NaN     NaN     NaN\n",
      "3       12350     Chaim Upton    IoT        51.0     NaN     NaN     NaN\n",
      "1       12344  Eugenia Dooley     AI        45.0    56.0    25.0    40.0\n"
     ]
    }
   ],
   "source": [
    "print(student_df_outerjoin.head(5))"
   ]
  },
  {
   "cell_type": "markdown",
   "metadata": {},
   "source": [
    "Check out the remainder of the code below in your own time, checking the pandas documentation for more information on what the methods do."
   ]
  },
  {
   "cell_type": "code",
   "execution_count": 32,
   "metadata": {},
   "outputs": [
    {
     "data": {
      "text/html": [
       "<div>\n",
       "<style scoped>\n",
       "    .dataframe tbody tr th:only-of-type {\n",
       "        vertical-align: middle;\n",
       "    }\n",
       "\n",
       "    .dataframe tbody tr th {\n",
       "        vertical-align: top;\n",
       "    }\n",
       "\n",
       "    .dataframe thead th {\n",
       "        text-align: right;\n",
       "    }\n",
       "</style>\n",
       "<table border=\"1\" class=\"dataframe\">\n",
       "  <thead>\n",
       "    <tr style=\"text-align: right;\">\n",
       "      <th></th>\n",
       "      <th>Course</th>\n",
       "      <th>Student_ID</th>\n",
       "    </tr>\n",
       "  </thead>\n",
       "  <tbody>\n",
       "    <tr>\n",
       "      <th>4</th>\n",
       "      <td>AI</td>\n",
       "      <td>12363</td>\n",
       "    </tr>\n",
       "    <tr>\n",
       "      <th>0</th>\n",
       "      <td>AI</td>\n",
       "      <td>12340</td>\n",
       "    </tr>\n",
       "    <tr>\n",
       "      <th>2</th>\n",
       "      <td>IoT</td>\n",
       "      <td>12348</td>\n",
       "    </tr>\n",
       "    <tr>\n",
       "      <th>3</th>\n",
       "      <td>IoT</td>\n",
       "      <td>12350</td>\n",
       "    </tr>\n",
       "    <tr>\n",
       "      <th>1</th>\n",
       "      <td>AI</td>\n",
       "      <td>12344</td>\n",
       "    </tr>\n",
       "    <tr>\n",
       "      <th>5</th>\n",
       "      <td>NaN</td>\n",
       "      <td>12375</td>\n",
       "    </tr>\n",
       "    <tr>\n",
       "      <th>6</th>\n",
       "      <td>NaN</td>\n",
       "      <td>12383</td>\n",
       "    </tr>\n",
       "  </tbody>\n",
       "</table>\n",
       "</div>"
      ],
      "text/plain": [
       "  Course  Student_ID\n",
       "4     AI       12363\n",
       "0     AI       12340\n",
       "2    IoT       12348\n",
       "3    IoT       12350\n",
       "1     AI       12344\n",
       "5    NaN       12375\n",
       "6    NaN       12383"
      ]
     },
     "execution_count": 32,
     "metadata": {},
     "output_type": "execute_result"
    }
   ],
   "source": [
    "student_df_outerjoin[['Course','Student_ID']]"
   ]
  },
  {
   "cell_type": "code",
   "execution_count": 33,
   "metadata": {},
   "outputs": [
    {
     "data": {
      "text/html": [
       "<div>\n",
       "<style scoped>\n",
       "    .dataframe tbody tr th:only-of-type {\n",
       "        vertical-align: middle;\n",
       "    }\n",
       "\n",
       "    .dataframe tbody tr th {\n",
       "        vertical-align: top;\n",
       "    }\n",
       "\n",
       "    .dataframe thead th {\n",
       "        text-align: right;\n",
       "    }\n",
       "</style>\n",
       "<table border=\"1\" class=\"dataframe\">\n",
       "  <thead>\n",
       "    <tr style=\"text-align: right;\">\n",
       "      <th></th>\n",
       "      <th>Student_ID</th>\n",
       "      <th>Student_Name</th>\n",
       "      <th>Course</th>\n",
       "      <th>Attendance</th>\n",
       "      <th>COM745</th>\n",
       "      <th>COM761</th>\n",
       "      <th>COM747</th>\n",
       "    </tr>\n",
       "  </thead>\n",
       "  <tbody>\n",
       "    <tr>\n",
       "      <th>1</th>\n",
       "      <td>12344</td>\n",
       "      <td>Eugenia Dooley</td>\n",
       "      <td>AI</td>\n",
       "      <td>45.0</td>\n",
       "      <td>56.0</td>\n",
       "      <td>25.0</td>\n",
       "      <td>40.0</td>\n",
       "    </tr>\n",
       "  </tbody>\n",
       "</table>\n",
       "</div>"
      ],
      "text/plain": [
       "   Student_ID    Student_Name Course  Attendance  COM745  COM761  COM747\n",
       "1       12344  Eugenia Dooley     AI        45.0    56.0    25.0    40.0"
      ]
     },
     "execution_count": 33,
     "metadata": {},
     "output_type": "execute_result"
    }
   ],
   "source": [
    "student_df_outerjoin[student_df_outerjoin['Attendance'] < 50]"
   ]
  },
  {
   "cell_type": "code",
   "execution_count": 34,
   "metadata": {},
   "outputs": [
    {
     "data": {
      "text/html": [
       "<div>\n",
       "<style scoped>\n",
       "    .dataframe tbody tr th:only-of-type {\n",
       "        vertical-align: middle;\n",
       "    }\n",
       "\n",
       "    .dataframe tbody tr th {\n",
       "        vertical-align: top;\n",
       "    }\n",
       "\n",
       "    .dataframe thead th {\n",
       "        text-align: right;\n",
       "    }\n",
       "</style>\n",
       "<table border=\"1\" class=\"dataframe\">\n",
       "  <thead>\n",
       "    <tr style=\"text-align: right;\">\n",
       "      <th></th>\n",
       "      <th>Student_ID</th>\n",
       "      <th>Student_Name</th>\n",
       "      <th>Course</th>\n",
       "      <th>Attendance</th>\n",
       "      <th>COM745</th>\n",
       "      <th>COM761</th>\n",
       "      <th>COM747</th>\n",
       "    </tr>\n",
       "  </thead>\n",
       "  <tbody>\n",
       "    <tr>\n",
       "      <th>4</th>\n",
       "      <td>12363</td>\n",
       "      <td>Mateo Mohr</td>\n",
       "      <td>AI</td>\n",
       "      <td>90.0</td>\n",
       "      <td>70.0</td>\n",
       "      <td>62.0</td>\n",
       "      <td>58.0</td>\n",
       "    </tr>\n",
       "    <tr>\n",
       "      <th>0</th>\n",
       "      <td>12340</td>\n",
       "      <td>Ari King</td>\n",
       "      <td>AI</td>\n",
       "      <td>87.0</td>\n",
       "      <td>64.0</td>\n",
       "      <td>75.0</td>\n",
       "      <td>80.0</td>\n",
       "    </tr>\n",
       "    <tr>\n",
       "      <th>1</th>\n",
       "      <td>12344</td>\n",
       "      <td>Eugenia Dooley</td>\n",
       "      <td>AI</td>\n",
       "      <td>45.0</td>\n",
       "      <td>56.0</td>\n",
       "      <td>25.0</td>\n",
       "      <td>40.0</td>\n",
       "    </tr>\n",
       "  </tbody>\n",
       "</table>\n",
       "</div>"
      ],
      "text/plain": [
       "   Student_ID    Student_Name Course  Attendance  COM745  COM761  COM747\n",
       "4       12363      Mateo Mohr     AI        90.0    70.0    62.0    58.0\n",
       "0       12340        Ari King     AI        87.0    64.0    75.0    80.0\n",
       "1       12344  Eugenia Dooley     AI        45.0    56.0    25.0    40.0"
      ]
     },
     "execution_count": 34,
     "metadata": {},
     "output_type": "execute_result"
    }
   ],
   "source": [
    "student_df_outerjoin[student_df_outerjoin['Course'] == 'AI']"
   ]
  },
  {
   "cell_type": "code",
   "execution_count": 35,
   "metadata": {},
   "outputs": [
    {
     "data": {
      "text/html": [
       "<div>\n",
       "<style scoped>\n",
       "    .dataframe tbody tr th:only-of-type {\n",
       "        vertical-align: middle;\n",
       "    }\n",
       "\n",
       "    .dataframe tbody tr th {\n",
       "        vertical-align: top;\n",
       "    }\n",
       "\n",
       "    .dataframe thead th {\n",
       "        text-align: right;\n",
       "    }\n",
       "</style>\n",
       "<table border=\"1\" class=\"dataframe\">\n",
       "  <thead>\n",
       "    <tr style=\"text-align: right;\">\n",
       "      <th></th>\n",
       "      <th>Student_ID</th>\n",
       "      <th>Student_Name</th>\n",
       "      <th>Course</th>\n",
       "      <th>Attendance</th>\n",
       "      <th>COM745</th>\n",
       "      <th>COM761</th>\n",
       "      <th>COM747</th>\n",
       "    </tr>\n",
       "  </thead>\n",
       "  <tbody>\n",
       "    <tr>\n",
       "      <th>4</th>\n",
       "      <td>12363</td>\n",
       "      <td>Mateo Mohr</td>\n",
       "      <td>AI</td>\n",
       "      <td>90.0</td>\n",
       "      <td>70.0</td>\n",
       "      <td>62.0</td>\n",
       "      <td>58.0</td>\n",
       "    </tr>\n",
       "    <tr>\n",
       "      <th>0</th>\n",
       "      <td>12340</td>\n",
       "      <td>Ari King</td>\n",
       "      <td>AI</td>\n",
       "      <td>87.0</td>\n",
       "      <td>64.0</td>\n",
       "      <td>75.0</td>\n",
       "      <td>80.0</td>\n",
       "    </tr>\n",
       "    <tr>\n",
       "      <th>2</th>\n",
       "      <td>12348</td>\n",
       "      <td>David Raynor</td>\n",
       "      <td>IoT</td>\n",
       "      <td>52.0</td>\n",
       "      <td>NaN</td>\n",
       "      <td>NaN</td>\n",
       "      <td>NaN</td>\n",
       "    </tr>\n",
       "    <tr>\n",
       "      <th>3</th>\n",
       "      <td>12350</td>\n",
       "      <td>Chaim Upton</td>\n",
       "      <td>IoT</td>\n",
       "      <td>51.0</td>\n",
       "      <td>NaN</td>\n",
       "      <td>NaN</td>\n",
       "      <td>NaN</td>\n",
       "    </tr>\n",
       "    <tr>\n",
       "      <th>1</th>\n",
       "      <td>12344</td>\n",
       "      <td>Eugenia Dooley</td>\n",
       "      <td>AI</td>\n",
       "      <td>45.0</td>\n",
       "      <td>56.0</td>\n",
       "      <td>25.0</td>\n",
       "      <td>40.0</td>\n",
       "    </tr>\n",
       "    <tr>\n",
       "      <th>5</th>\n",
       "      <td>12375</td>\n",
       "      <td>NaN</td>\n",
       "      <td>NaN</td>\n",
       "      <td>NaN</td>\n",
       "      <td>66.0</td>\n",
       "      <td>57.0</td>\n",
       "      <td>54.0</td>\n",
       "    </tr>\n",
       "    <tr>\n",
       "      <th>6</th>\n",
       "      <td>12383</td>\n",
       "      <td>NaN</td>\n",
       "      <td>NaN</td>\n",
       "      <td>NaN</td>\n",
       "      <td>49.0</td>\n",
       "      <td>50.0</td>\n",
       "      <td>65.0</td>\n",
       "    </tr>\n",
       "  </tbody>\n",
       "</table>\n",
       "</div>"
      ],
      "text/plain": [
       "   Student_ID    Student_Name Course  Attendance  COM745  COM761  COM747\n",
       "4       12363      Mateo Mohr     AI        90.0    70.0    62.0    58.0\n",
       "0       12340        Ari King     AI        87.0    64.0    75.0    80.0\n",
       "2       12348    David Raynor    IoT        52.0     NaN     NaN     NaN\n",
       "3       12350     Chaim Upton    IoT        51.0     NaN     NaN     NaN\n",
       "1       12344  Eugenia Dooley     AI        45.0    56.0    25.0    40.0\n",
       "5       12375             NaN    NaN         NaN    66.0    57.0    54.0\n",
       "6       12383             NaN    NaN         NaN    49.0    50.0    65.0"
      ]
     },
     "execution_count": 35,
     "metadata": {},
     "output_type": "execute_result"
    }
   ],
   "source": [
    "student_df_outerjoin"
   ]
  },
  {
   "cell_type": "code",
   "execution_count": 36,
   "metadata": {},
   "outputs": [
    {
     "data": {
      "text/html": [
       "<div>\n",
       "<style scoped>\n",
       "    .dataframe tbody tr th:only-of-type {\n",
       "        vertical-align: middle;\n",
       "    }\n",
       "\n",
       "    .dataframe tbody tr th {\n",
       "        vertical-align: top;\n",
       "    }\n",
       "\n",
       "    .dataframe thead th {\n",
       "        text-align: right;\n",
       "    }\n",
       "</style>\n",
       "<table border=\"1\" class=\"dataframe\">\n",
       "  <thead>\n",
       "    <tr style=\"text-align: right;\">\n",
       "      <th></th>\n",
       "      <th>Student_ID</th>\n",
       "      <th>Student_Name</th>\n",
       "      <th>Course</th>\n",
       "      <th>Attendance</th>\n",
       "      <th>COM745</th>\n",
       "      <th>COM761</th>\n",
       "      <th>COM747</th>\n",
       "    </tr>\n",
       "  </thead>\n",
       "  <tbody>\n",
       "    <tr>\n",
       "      <th>0</th>\n",
       "      <td>12340</td>\n",
       "      <td>Ari King</td>\n",
       "      <td>AI</td>\n",
       "      <td>87.0</td>\n",
       "      <td>64.0</td>\n",
       "      <td>75.0</td>\n",
       "      <td>80.0</td>\n",
       "    </tr>\n",
       "    <tr>\n",
       "      <th>2</th>\n",
       "      <td>12348</td>\n",
       "      <td>David Raynor</td>\n",
       "      <td>IoT</td>\n",
       "      <td>52.0</td>\n",
       "      <td>NaN</td>\n",
       "      <td>NaN</td>\n",
       "      <td>NaN</td>\n",
       "    </tr>\n",
       "  </tbody>\n",
       "</table>\n",
       "</div>"
      ],
      "text/plain": [
       "   Student_ID  Student_Name Course  Attendance  COM745  COM761  COM747\n",
       "0       12340      Ari King     AI        87.0    64.0    75.0    80.0\n",
       "2       12348  David Raynor    IoT        52.0     NaN     NaN     NaN"
      ]
     },
     "execution_count": 36,
     "metadata": {},
     "output_type": "execute_result"
    }
   ],
   "source": [
    "student_df_outerjoin.iloc[1:3] #Note: indices 1:3 refer to row number, NOT index"
   ]
  },
  {
   "cell_type": "code",
   "execution_count": 37,
   "metadata": {},
   "outputs": [
    {
     "data": {
      "text/html": [
       "<div>\n",
       "<style scoped>\n",
       "    .dataframe tbody tr th:only-of-type {\n",
       "        vertical-align: middle;\n",
       "    }\n",
       "\n",
       "    .dataframe tbody tr th {\n",
       "        vertical-align: top;\n",
       "    }\n",
       "\n",
       "    .dataframe thead th {\n",
       "        text-align: right;\n",
       "    }\n",
       "</style>\n",
       "<table border=\"1\" class=\"dataframe\">\n",
       "  <thead>\n",
       "    <tr style=\"text-align: right;\">\n",
       "      <th></th>\n",
       "      <th>Student_ID</th>\n",
       "      <th>Student_Name</th>\n",
       "      <th>Course</th>\n",
       "      <th>Attendance</th>\n",
       "      <th>COM745</th>\n",
       "      <th>COM761</th>\n",
       "      <th>COM747</th>\n",
       "    </tr>\n",
       "  </thead>\n",
       "  <tbody>\n",
       "    <tr>\n",
       "      <th>4</th>\n",
       "      <td>12363</td>\n",
       "      <td>Mateo Mohr</td>\n",
       "      <td>AI</td>\n",
       "      <td>90.0</td>\n",
       "      <td>70.0</td>\n",
       "      <td>62.0</td>\n",
       "      <td>58.0</td>\n",
       "    </tr>\n",
       "    <tr>\n",
       "      <th>0</th>\n",
       "      <td>12340</td>\n",
       "      <td>Ari King</td>\n",
       "      <td>AI</td>\n",
       "      <td>87.0</td>\n",
       "      <td>64.0</td>\n",
       "      <td>75.0</td>\n",
       "      <td>80.0</td>\n",
       "    </tr>\n",
       "  </tbody>\n",
       "</table>\n",
       "</div>"
      ],
      "text/plain": [
       "   Student_ID Student_Name Course  Attendance  COM745  COM761  COM747\n",
       "4       12363   Mateo Mohr     AI        90.0    70.0    62.0    58.0\n",
       "0       12340     Ari King     AI        87.0    64.0    75.0    80.0"
      ]
     },
     "execution_count": 37,
     "metadata": {},
     "output_type": "execute_result"
    }
   ],
   "source": [
    "student_df_outerjoin.nlargest(2, 'Attendance')"
   ]
  },
  {
   "cell_type": "code",
   "execution_count": 38,
   "metadata": {},
   "outputs": [
    {
     "data": {
      "text/html": [
       "<div>\n",
       "<style scoped>\n",
       "    .dataframe tbody tr th:only-of-type {\n",
       "        vertical-align: middle;\n",
       "    }\n",
       "\n",
       "    .dataframe tbody tr th {\n",
       "        vertical-align: top;\n",
       "    }\n",
       "\n",
       "    .dataframe thead th {\n",
       "        text-align: right;\n",
       "    }\n",
       "</style>\n",
       "<table border=\"1\" class=\"dataframe\">\n",
       "  <thead>\n",
       "    <tr style=\"text-align: right;\">\n",
       "      <th></th>\n",
       "      <th>Student_ID</th>\n",
       "      <th>Student_Name</th>\n",
       "      <th>Course</th>\n",
       "      <th>Attendance</th>\n",
       "      <th>COM745</th>\n",
       "      <th>COM761</th>\n",
       "      <th>COM747</th>\n",
       "    </tr>\n",
       "  </thead>\n",
       "  <tbody>\n",
       "    <tr>\n",
       "      <th>1</th>\n",
       "      <td>12344</td>\n",
       "      <td>Eugenia Dooley</td>\n",
       "      <td>AI</td>\n",
       "      <td>45.0</td>\n",
       "      <td>56.0</td>\n",
       "      <td>25.0</td>\n",
       "      <td>40.0</td>\n",
       "    </tr>\n",
       "    <tr>\n",
       "      <th>3</th>\n",
       "      <td>12350</td>\n",
       "      <td>Chaim Upton</td>\n",
       "      <td>IoT</td>\n",
       "      <td>51.0</td>\n",
       "      <td>NaN</td>\n",
       "      <td>NaN</td>\n",
       "      <td>NaN</td>\n",
       "    </tr>\n",
       "    <tr>\n",
       "      <th>2</th>\n",
       "      <td>12348</td>\n",
       "      <td>David Raynor</td>\n",
       "      <td>IoT</td>\n",
       "      <td>52.0</td>\n",
       "      <td>NaN</td>\n",
       "      <td>NaN</td>\n",
       "      <td>NaN</td>\n",
       "    </tr>\n",
       "  </tbody>\n",
       "</table>\n",
       "</div>"
      ],
      "text/plain": [
       "   Student_ID    Student_Name Course  Attendance  COM745  COM761  COM747\n",
       "1       12344  Eugenia Dooley     AI        45.0    56.0    25.0    40.0\n",
       "3       12350     Chaim Upton    IoT        51.0     NaN     NaN     NaN\n",
       "2       12348    David Raynor    IoT        52.0     NaN     NaN     NaN"
      ]
     },
     "execution_count": 38,
     "metadata": {},
     "output_type": "execute_result"
    }
   ],
   "source": [
    "student_df_outerjoin.nsmallest(3, 'Attendance')"
   ]
  },
  {
   "cell_type": "code",
   "execution_count": 39,
   "metadata": {},
   "outputs": [
    {
     "data": {
      "text/html": [
       "<div>\n",
       "<style scoped>\n",
       "    .dataframe tbody tr th:only-of-type {\n",
       "        vertical-align: middle;\n",
       "    }\n",
       "\n",
       "    .dataframe tbody tr th {\n",
       "        vertical-align: top;\n",
       "    }\n",
       "\n",
       "    .dataframe thead th {\n",
       "        text-align: right;\n",
       "    }\n",
       "</style>\n",
       "<table border=\"1\" class=\"dataframe\">\n",
       "  <thead>\n",
       "    <tr style=\"text-align: right;\">\n",
       "      <th></th>\n",
       "      <th>Student_ID</th>\n",
       "      <th>Student_Name</th>\n",
       "      <th>Course</th>\n",
       "      <th>Attendance</th>\n",
       "      <th>COM745</th>\n",
       "      <th>COM761</th>\n",
       "      <th>COM747</th>\n",
       "    </tr>\n",
       "  </thead>\n",
       "  <tbody>\n",
       "    <tr>\n",
       "      <th>4</th>\n",
       "      <td>12363</td>\n",
       "      <td>Mateo Mohr</td>\n",
       "      <td>AI</td>\n",
       "      <td>90.0</td>\n",
       "      <td>70.0</td>\n",
       "      <td>62.0</td>\n",
       "      <td>58.0</td>\n",
       "    </tr>\n",
       "    <tr>\n",
       "      <th>0</th>\n",
       "      <td>12340</td>\n",
       "      <td>Ari King</td>\n",
       "      <td>AI</td>\n",
       "      <td>87.0</td>\n",
       "      <td>64.0</td>\n",
       "      <td>75.0</td>\n",
       "      <td>80.0</td>\n",
       "    </tr>\n",
       "    <tr>\n",
       "      <th>2</th>\n",
       "      <td>12348</td>\n",
       "      <td>David Raynor</td>\n",
       "      <td>IoT</td>\n",
       "      <td>52.0</td>\n",
       "      <td>NaN</td>\n",
       "      <td>NaN</td>\n",
       "      <td>NaN</td>\n",
       "    </tr>\n",
       "    <tr>\n",
       "      <th>3</th>\n",
       "      <td>12350</td>\n",
       "      <td>Chaim Upton</td>\n",
       "      <td>IoT</td>\n",
       "      <td>51.0</td>\n",
       "      <td>NaN</td>\n",
       "      <td>NaN</td>\n",
       "      <td>NaN</td>\n",
       "    </tr>\n",
       "    <tr>\n",
       "      <th>1</th>\n",
       "      <td>12344</td>\n",
       "      <td>Eugenia Dooley</td>\n",
       "      <td>AI</td>\n",
       "      <td>45.0</td>\n",
       "      <td>56.0</td>\n",
       "      <td>25.0</td>\n",
       "      <td>40.0</td>\n",
       "    </tr>\n",
       "    <tr>\n",
       "      <th>5</th>\n",
       "      <td>12375</td>\n",
       "      <td>NaN</td>\n",
       "      <td>NaN</td>\n",
       "      <td>NaN</td>\n",
       "      <td>66.0</td>\n",
       "      <td>57.0</td>\n",
       "      <td>54.0</td>\n",
       "    </tr>\n",
       "    <tr>\n",
       "      <th>6</th>\n",
       "      <td>12383</td>\n",
       "      <td>NaN</td>\n",
       "      <td>NaN</td>\n",
       "      <td>NaN</td>\n",
       "      <td>49.0</td>\n",
       "      <td>50.0</td>\n",
       "      <td>65.0</td>\n",
       "    </tr>\n",
       "  </tbody>\n",
       "</table>\n",
       "</div>"
      ],
      "text/plain": [
       "   Student_ID    Student_Name Course  Attendance  COM745  COM761  COM747\n",
       "4       12363      Mateo Mohr     AI        90.0    70.0    62.0    58.0\n",
       "0       12340        Ari King     AI        87.0    64.0    75.0    80.0\n",
       "2       12348    David Raynor    IoT        52.0     NaN     NaN     NaN\n",
       "3       12350     Chaim Upton    IoT        51.0     NaN     NaN     NaN\n",
       "1       12344  Eugenia Dooley     AI        45.0    56.0    25.0    40.0\n",
       "5       12375             NaN    NaN         NaN    66.0    57.0    54.0\n",
       "6       12383             NaN    NaN         NaN    49.0    50.0    65.0"
      ]
     },
     "execution_count": 39,
     "metadata": {},
     "output_type": "execute_result"
    }
   ],
   "source": [
    "student_df_outerjoin"
   ]
  },
  {
   "cell_type": "code",
   "execution_count": 40,
   "metadata": {},
   "outputs": [
    {
     "data": {
      "text/plain": [
       "Student_ID    86503.0\n",
       "Attendance      325.0\n",
       "COM745          305.0\n",
       "COM761          269.0\n",
       "COM747          297.0\n",
       "dtype: float64"
      ]
     },
     "execution_count": 40,
     "metadata": {},
     "output_type": "execute_result"
    }
   ],
   "source": [
    "#Sum values of each object\n",
    "student_df_outerjoin.sum()"
   ]
  },
  {
   "cell_type": "code",
   "execution_count": 41,
   "metadata": {},
   "outputs": [
    {
     "data": {
      "text/plain": [
       "Student_ID      7\n",
       "Student_Name    5\n",
       "Course          5\n",
       "Attendance      5\n",
       "COM745          5\n",
       "COM761          5\n",
       "COM747          5\n",
       "dtype: int64"
      ]
     },
     "execution_count": 41,
     "metadata": {},
     "output_type": "execute_result"
    }
   ],
   "source": [
    "# Count non-NA/null values of each object.\n",
    "student_df_outerjoin.count()"
   ]
  },
  {
   "cell_type": "code",
   "execution_count": 42,
   "metadata": {},
   "outputs": [
    {
     "data": {
      "text/plain": [
       "Student_ID    12350.0\n",
       "Attendance       52.0\n",
       "COM745           64.0\n",
       "COM761           57.0\n",
       "COM747           58.0\n",
       "dtype: float64"
      ]
     },
     "execution_count": 42,
     "metadata": {},
     "output_type": "execute_result"
    }
   ],
   "source": [
    "student_df_outerjoin.median()"
   ]
  },
  {
   "cell_type": "code",
   "execution_count": 43,
   "metadata": {},
   "outputs": [
    {
     "data": {
      "text/plain": [
       "Student_ID    270.285714\n",
       "Attendance    468.500000\n",
       "COM745         71.000000\n",
       "COM761        342.700000\n",
       "COM747        215.800000\n",
       "dtype: float64"
      ]
     },
     "execution_count": 43,
     "metadata": {},
     "output_type": "execute_result"
    }
   ],
   "source": [
    "student_df_outerjoin.var()"
   ]
  },
  {
   "cell_type": "code",
   "execution_count": 44,
   "metadata": {},
   "outputs": [
    {
     "data": {
      "text/plain": [
       "Student_ID    16.440368\n",
       "Attendance    21.644861\n",
       "COM745         8.426150\n",
       "COM761        18.512158\n",
       "COM747        14.690133\n",
       "dtype: float64"
      ]
     },
     "execution_count": 44,
     "metadata": {},
     "output_type": "execute_result"
    }
   ],
   "source": [
    "student_df_outerjoin.std()"
   ]
  },
  {
   "cell_type": "code",
   "execution_count": 45,
   "metadata": {},
   "outputs": [
    {
     "data": {
      "text/html": [
       "<div>\n",
       "<style scoped>\n",
       "    .dataframe tbody tr th:only-of-type {\n",
       "        vertical-align: middle;\n",
       "    }\n",
       "\n",
       "    .dataframe tbody tr th {\n",
       "        vertical-align: top;\n",
       "    }\n",
       "\n",
       "    .dataframe thead th {\n",
       "        text-align: right;\n",
       "    }\n",
       "</style>\n",
       "<table border=\"1\" class=\"dataframe\">\n",
       "  <thead>\n",
       "    <tr style=\"text-align: right;\">\n",
       "      <th></th>\n",
       "      <th>Student_ID</th>\n",
       "      <th>Attendance</th>\n",
       "      <th>COM745</th>\n",
       "      <th>COM761</th>\n",
       "      <th>COM747</th>\n",
       "    </tr>\n",
       "  </thead>\n",
       "  <tbody>\n",
       "    <tr>\n",
       "      <th>0.25</th>\n",
       "      <td>12346.0</td>\n",
       "      <td>51.0</td>\n",
       "      <td>56.0</td>\n",
       "      <td>50.0</td>\n",
       "      <td>54.0</td>\n",
       "    </tr>\n",
       "    <tr>\n",
       "      <th>0.75</th>\n",
       "      <td>12369.0</td>\n",
       "      <td>87.0</td>\n",
       "      <td>66.0</td>\n",
       "      <td>62.0</td>\n",
       "      <td>65.0</td>\n",
       "    </tr>\n",
       "  </tbody>\n",
       "</table>\n",
       "</div>"
      ],
      "text/plain": [
       "      Student_ID  Attendance  COM745  COM761  COM747\n",
       "0.25     12346.0        51.0    56.0    50.0    54.0\n",
       "0.75     12369.0        87.0    66.0    62.0    65.0"
      ]
     },
     "execution_count": 45,
     "metadata": {},
     "output_type": "execute_result"
    }
   ],
   "source": [
    "student_df_outerjoin.quantile([0.25,0.75])"
   ]
  },
  {
   "cell_type": "markdown",
   "metadata": {},
   "source": [
    "also check out min(), max(), mean(), std(), var()"
   ]
  },
  {
   "cell_type": "code",
   "execution_count": 46,
   "metadata": {},
   "outputs": [
    {
     "data": {
      "text/html": [
       "<div>\n",
       "<style scoped>\n",
       "    .dataframe tbody tr th:only-of-type {\n",
       "        vertical-align: middle;\n",
       "    }\n",
       "\n",
       "    .dataframe tbody tr th {\n",
       "        vertical-align: top;\n",
       "    }\n",
       "\n",
       "    .dataframe thead th {\n",
       "        text-align: right;\n",
       "    }\n",
       "</style>\n",
       "<table border=\"1\" class=\"dataframe\">\n",
       "  <thead>\n",
       "    <tr style=\"text-align: right;\">\n",
       "      <th></th>\n",
       "      <th>Student_ID</th>\n",
       "      <th>Student_Name</th>\n",
       "      <th>Course</th>\n",
       "      <th>Attendance</th>\n",
       "      <th>COM745</th>\n",
       "      <th>COM761</th>\n",
       "      <th>COM747</th>\n",
       "    </tr>\n",
       "  </thead>\n",
       "  <tbody>\n",
       "    <tr>\n",
       "      <th>4</th>\n",
       "      <td>12363</td>\n",
       "      <td>Mateo Mohr</td>\n",
       "      <td>AI</td>\n",
       "      <td>90.0</td>\n",
       "      <td>70.0</td>\n",
       "      <td>62.0</td>\n",
       "      <td>58.0</td>\n",
       "    </tr>\n",
       "    <tr>\n",
       "      <th>0</th>\n",
       "      <td>12340</td>\n",
       "      <td>Ari King</td>\n",
       "      <td>AI</td>\n",
       "      <td>87.0</td>\n",
       "      <td>64.0</td>\n",
       "      <td>75.0</td>\n",
       "      <td>80.0</td>\n",
       "    </tr>\n",
       "    <tr>\n",
       "      <th>1</th>\n",
       "      <td>12344</td>\n",
       "      <td>Eugenia Dooley</td>\n",
       "      <td>AI</td>\n",
       "      <td>45.0</td>\n",
       "      <td>56.0</td>\n",
       "      <td>25.0</td>\n",
       "      <td>40.0</td>\n",
       "    </tr>\n",
       "  </tbody>\n",
       "</table>\n",
       "</div>"
      ],
      "text/plain": [
       "   Student_ID    Student_Name Course  Attendance  COM745  COM761  COM747\n",
       "4       12363      Mateo Mohr     AI        90.0    70.0    62.0    58.0\n",
       "0       12340        Ari King     AI        87.0    64.0    75.0    80.0\n",
       "1       12344  Eugenia Dooley     AI        45.0    56.0    25.0    40.0"
      ]
     },
     "execution_count": 46,
     "metadata": {},
     "output_type": "execute_result"
    }
   ],
   "source": [
    "student_df_outerjoin.dropna()"
   ]
  },
  {
   "cell_type": "code",
   "execution_count": 47,
   "metadata": {},
   "outputs": [
    {
     "data": {
      "text/html": [
       "<div>\n",
       "<style scoped>\n",
       "    .dataframe tbody tr th:only-of-type {\n",
       "        vertical-align: middle;\n",
       "    }\n",
       "\n",
       "    .dataframe tbody tr th {\n",
       "        vertical-align: top;\n",
       "    }\n",
       "\n",
       "    .dataframe thead th {\n",
       "        text-align: right;\n",
       "    }\n",
       "</style>\n",
       "<table border=\"1\" class=\"dataframe\">\n",
       "  <thead>\n",
       "    <tr style=\"text-align: right;\">\n",
       "      <th></th>\n",
       "      <th>Student_ID</th>\n",
       "      <th>Student_Name</th>\n",
       "      <th>Course</th>\n",
       "      <th>Attendance</th>\n",
       "      <th>COM745</th>\n",
       "      <th>COM761</th>\n",
       "      <th>COM747</th>\n",
       "    </tr>\n",
       "  </thead>\n",
       "  <tbody>\n",
       "    <tr>\n",
       "      <th>4</th>\n",
       "      <td>12363</td>\n",
       "      <td>Mateo Mohr</td>\n",
       "      <td>AI</td>\n",
       "      <td>90.0</td>\n",
       "      <td>70.0</td>\n",
       "      <td>62.0</td>\n",
       "      <td>58.0</td>\n",
       "    </tr>\n",
       "    <tr>\n",
       "      <th>0</th>\n",
       "      <td>12340</td>\n",
       "      <td>Ari King</td>\n",
       "      <td>AI</td>\n",
       "      <td>87.0</td>\n",
       "      <td>64.0</td>\n",
       "      <td>75.0</td>\n",
       "      <td>80.0</td>\n",
       "    </tr>\n",
       "    <tr>\n",
       "      <th>2</th>\n",
       "      <td>12348</td>\n",
       "      <td>David Raynor</td>\n",
       "      <td>IoT</td>\n",
       "      <td>52.0</td>\n",
       "      <td>0.0</td>\n",
       "      <td>0.0</td>\n",
       "      <td>0.0</td>\n",
       "    </tr>\n",
       "    <tr>\n",
       "      <th>3</th>\n",
       "      <td>12350</td>\n",
       "      <td>Chaim Upton</td>\n",
       "      <td>IoT</td>\n",
       "      <td>51.0</td>\n",
       "      <td>0.0</td>\n",
       "      <td>0.0</td>\n",
       "      <td>0.0</td>\n",
       "    </tr>\n",
       "    <tr>\n",
       "      <th>1</th>\n",
       "      <td>12344</td>\n",
       "      <td>Eugenia Dooley</td>\n",
       "      <td>AI</td>\n",
       "      <td>45.0</td>\n",
       "      <td>56.0</td>\n",
       "      <td>25.0</td>\n",
       "      <td>40.0</td>\n",
       "    </tr>\n",
       "    <tr>\n",
       "      <th>5</th>\n",
       "      <td>12375</td>\n",
       "      <td>0</td>\n",
       "      <td>0</td>\n",
       "      <td>0.0</td>\n",
       "      <td>66.0</td>\n",
       "      <td>57.0</td>\n",
       "      <td>54.0</td>\n",
       "    </tr>\n",
       "    <tr>\n",
       "      <th>6</th>\n",
       "      <td>12383</td>\n",
       "      <td>0</td>\n",
       "      <td>0</td>\n",
       "      <td>0.0</td>\n",
       "      <td>49.0</td>\n",
       "      <td>50.0</td>\n",
       "      <td>65.0</td>\n",
       "    </tr>\n",
       "  </tbody>\n",
       "</table>\n",
       "</div>"
      ],
      "text/plain": [
       "   Student_ID    Student_Name Course  Attendance  COM745  COM761  COM747\n",
       "4       12363      Mateo Mohr     AI        90.0    70.0    62.0    58.0\n",
       "0       12340        Ari King     AI        87.0    64.0    75.0    80.0\n",
       "2       12348    David Raynor    IoT        52.0     0.0     0.0     0.0\n",
       "3       12350     Chaim Upton    IoT        51.0     0.0     0.0     0.0\n",
       "1       12344  Eugenia Dooley     AI        45.0    56.0    25.0    40.0\n",
       "5       12375               0      0         0.0    66.0    57.0    54.0\n",
       "6       12383               0      0         0.0    49.0    50.0    65.0"
      ]
     },
     "execution_count": 47,
     "metadata": {},
     "output_type": "execute_result"
    }
   ],
   "source": [
    "student_df_outerjoin.fillna(0)"
   ]
  },
  {
   "cell_type": "code",
   "execution_count": 48,
   "metadata": {},
   "outputs": [
    {
     "data": {
      "text/html": [
       "<div>\n",
       "<style scoped>\n",
       "    .dataframe tbody tr th:only-of-type {\n",
       "        vertical-align: middle;\n",
       "    }\n",
       "\n",
       "    .dataframe tbody tr th {\n",
       "        vertical-align: top;\n",
       "    }\n",
       "\n",
       "    .dataframe thead th {\n",
       "        text-align: right;\n",
       "    }\n",
       "</style>\n",
       "<table border=\"1\" class=\"dataframe\">\n",
       "  <thead>\n",
       "    <tr style=\"text-align: right;\">\n",
       "      <th></th>\n",
       "      <th>Student_ID</th>\n",
       "      <th>Attendance</th>\n",
       "    </tr>\n",
       "    <tr>\n",
       "      <th>Course</th>\n",
       "      <th></th>\n",
       "      <th></th>\n",
       "    </tr>\n",
       "  </thead>\n",
       "  <tbody>\n",
       "    <tr>\n",
       "      <th>AI</th>\n",
       "      <td>12349.0</td>\n",
       "      <td>74.0</td>\n",
       "    </tr>\n",
       "    <tr>\n",
       "      <th>IoT</th>\n",
       "      <td>12349.0</td>\n",
       "      <td>51.5</td>\n",
       "    </tr>\n",
       "  </tbody>\n",
       "</table>\n",
       "</div>"
      ],
      "text/plain": [
       "        Student_ID  Attendance\n",
       "Course                        \n",
       "AI         12349.0        74.0\n",
       "IoT        12349.0        51.5"
      ]
     },
     "execution_count": 48,
     "metadata": {},
     "output_type": "execute_result"
    }
   ],
   "source": [
    "students_df.groupby('Course').mean()"
   ]
  },
  {
   "cell_type": "code",
   "execution_count": null,
   "metadata": {},
   "outputs": [],
   "source": []
  }
 ],
 "metadata": {
  "celltoolbar": "Slideshow",
  "kernelspec": {
   "display_name": "Python 3",
   "language": "python",
   "name": "python3"
  },
  "language_info": {
   "codemirror_mode": {
    "name": "ipython",
    "version": 3
   },
   "file_extension": ".py",
   "mimetype": "text/x-python",
   "name": "python",
   "nbconvert_exporter": "python",
   "pygments_lexer": "ipython3",
   "version": "3.8.1"
  }
 },
 "nbformat": 4,
 "nbformat_minor": 4
}
