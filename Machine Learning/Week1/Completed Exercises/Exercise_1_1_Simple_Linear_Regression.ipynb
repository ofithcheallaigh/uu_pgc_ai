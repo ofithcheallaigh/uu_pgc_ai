{
  "nbformat": 4,
  "nbformat_minor": 0,
  "metadata": {
    "colab": {
      "name": "Exercise 1.1 - Simple Linear Regression.ipynb",
      "provenance": [],
      "collapsed_sections": [],
      "authorship_tag": "ABX9TyMbjmjgf0Rbvx0GK+qhU0+F",
      "include_colab_link": true
    },
    "kernelspec": {
      "name": "python3",
      "display_name": "Python 3"
    }
  },
  "cells": [
    {
      "cell_type": "markdown",
      "metadata": {
        "id": "view-in-github",
        "colab_type": "text"
      },
      "source": [
        "<a href=\"https://colab.research.google.com/github/ofithcheallaigh/uu_pgc_ai/blob/main/Machine%20Learning/Week1/Completed%20Exercises/Exercise_1_1_Simple_Linear_Regression.ipynb\" target=\"_parent\"><img src=\"https://colab.research.google.com/assets/colab-badge.svg\" alt=\"Open In Colab\"/></a>"
      ]
    },
    {
      "cell_type": "markdown",
      "metadata": {
        "id": "pTQavDs58QXk"
      },
      "source": [
        "# Implementing Simple Linear Regression"
      ]
    },
    {
      "cell_type": "markdown",
      "metadata": {
        "id": "f1Jk9Mm48U0q"
      },
      "source": [
        "In this exercise you will implement a simple least square linear regression model $y = w_0 + w_1 x$.\n",
        "\n",
        "You can calculate the optimal values for the weights by impenting the normal equations.\n",
        "\n",
        "You will test your code outing the Olympic 100m dataset from _A Frist Course in Machine Learning_.\n",
        "\n",
        "\n",
        "*   This file contains two columns of data: year, and winning time in the men's Olympic 100m finals\n",
        "*   You may fin reading through Section 1.1.6 of _A First Course in Machine Learning_ useful first. This gives you an idea of the calculations you will be preforming\n",
        "\n",
        "### Step 0\n",
        "Setup Google Drive to obatin data. This is **not** a step in the required exercise.\n",
        "\n",
        "\n",
        "\n"
      ]
    },
    {
      "cell_type": "code",
      "metadata": {
        "id": "bOBJZkB59zk1",
        "outputId": "007d2041-b805-4128-d7bd-a63a1c2e3d60",
        "colab": {
          "base_uri": "https://localhost:8080/",
          "height": 34
        }
      },
      "source": [
        "# Imports and mount my Google Drive, which contains my data\n",
        "from google.colab import drive\n",
        "from google.colab import files\n",
        "import pandas as pd\n",
        "drive.mount('/content/drive')"
      ],
      "execution_count": 27,
      "outputs": [
        {
          "output_type": "stream",
          "text": [
            "Drive already mounted at /content/drive; to attempt to forcibly remount, call drive.mount(\"/content/drive\", force_remount=True).\n"
          ],
          "name": "stdout"
        }
      ]
    },
    {
      "cell_type": "code",
      "metadata": {
        "id": "o0LC7sB7-lwM",
        "outputId": "95b6e384-e333-46ba-9556-fb8433902abc",
        "colab": {
          "base_uri": "https://localhost:8080/",
          "height": 34
        }
      },
      "source": [
        "root_path = '/content/drive/My Drive/University of Ulster/PG Cert AI/Machine Learning/Week1/'\n",
        "%cd '/content/drive/My Drive/University of Ulster/PG Cert AI/Machine Learning/Week1/'"
      ],
      "execution_count": 28,
      "outputs": [
        {
          "output_type": "stream",
          "text": [
            "/content/drive/My Drive/University of Ulster/PG Cert AI/Machine Learning/Week1\n"
          ],
          "name": "stdout"
        }
      ]
    },
    {
      "cell_type": "markdown",
      "metadata": {
        "id": "VShKeTIzAE1m"
      },
      "source": [
        "### Step 1\n",
        "Use the `loadtxt` method from `numpy` to read the data-file `olympic100m.txt'"
      ]
    },
    {
      "cell_type": "code",
      "metadata": {
        "id": "QRxIPIc25JPd"
      },
      "source": [
        "import numpy as np\n",
        "my_data = np.loadtxt('olympic100m.txt',delimiter=',',skiprows=0)"
      ],
      "execution_count": 29,
      "outputs": []
    },
    {
      "cell_type": "code",
      "metadata": {
        "id": "xO4JKl-N_jwx",
        "outputId": "0cbb6eef-6f83-402c-bcd8-6d9d02f51a23",
        "colab": {
          "base_uri": "https://localhost:8080/",
          "height": 476
        }
      },
      "source": [
        "# Confirm data is imported\n",
        "print(my_data)"
      ],
      "execution_count": 30,
      "outputs": [
        {
          "output_type": "stream",
          "text": [
            "[[1896.     12.  ]\n",
            " [1900.     11.  ]\n",
            " [1904.     11.  ]\n",
            " [1906.     11.2 ]\n",
            " [1908.     10.8 ]\n",
            " [1912.     10.8 ]\n",
            " [1920.     10.8 ]\n",
            " [1924.     10.6 ]\n",
            " [1928.     10.8 ]\n",
            " [1932.     10.3 ]\n",
            " [1936.     10.3 ]\n",
            " [1948.     10.3 ]\n",
            " [1952.     10.4 ]\n",
            " [1956.     10.5 ]\n",
            " [1960.     10.2 ]\n",
            " [1964.     10.  ]\n",
            " [1968.      9.95]\n",
            " [1972.     10.14]\n",
            " [1976.     10.06]\n",
            " [1980.     10.25]\n",
            " [1984.      9.99]\n",
            " [1988.      9.92]\n",
            " [1992.      9.96]\n",
            " [1996.      9.84]\n",
            " [2000.      9.87]\n",
            " [2004.      9.85]\n",
            " [2008.      9.69]]\n"
          ],
          "name": "stdout"
        }
      ]
    },
    {
      "cell_type": "markdown",
      "metadata": {
        "id": "jyblWl3RDPxs"
      },
      "source": [
        "### Step 2\n",
        "\n",
        "Store the years in a vector called `x`, and the winning times in a vector called `y` "
      ]
    },
    {
      "cell_type": "code",
      "metadata": {
        "id": "XBVgsCepDUVE"
      },
      "source": [
        "x = my_data[:,0]              # Gets the years data, and stores in 'x'\n",
        "y = my_data[:,1]              # Gets the time data, and stores in 'y'"
      ],
      "execution_count": 31,
      "outputs": []
    },
    {
      "cell_type": "markdown",
      "metadata": {
        "id": "tTRqe3kjDrc7"
      },
      "source": [
        "### Step 3\n",
        "\n",
        "Calculate the optimal values of $w_0$ and $w_1$. These are given in Equations 1.8 and 1.10 in a *First Course in Machine Learning* (note we are using $y$ instead of $t$). You will need the `multiply` and `mean` methods from numpy."
      ]
    },
    {
      "cell_type": "markdown",
      "metadata": {
        "id": "IbEz9Um5ZzXK"
      },
      "source": [
        "Equation 1.8 is:\n",
        "\n",
        ">$\\widehat{w_0} = \\bar{t} - w_1  \\bar{x}$\n",
        "\n",
        "Equation 1.10 is:\n",
        "\n",
        ">$\\widehat{w_1} = \\frac{\\overline{xt}-\\bar{x}\\bar{t}}{\\overline{x^2}-(\\bar{x})^2}$\n",
        "\n",
        "So, we need to work out the various elements of these equations.   \n",
        "Note: we use $y$ instead of $t$. "
      ]
    },
    {
      "cell_type": "code",
      "metadata": {
        "id": "nyTYDS_LggWH",
        "outputId": "e110be10-cc33-4487-fdfb-02c325259f10",
        "colab": {
          "base_uri": "https://localhost:8080/",
          "height": 51
        }
      },
      "source": [
        "# Equation elements:\n",
        "xy = np.multiply(x,y)\n",
        "xyBar = np.mean(xy)\n",
        "xBar = np.mean(x)\n",
        "xSquared = np.multiply(x,x)\n",
        "xSquaredBar = np.mean(xSquared)\n",
        "xBarSquared = np.multiply(xBar,xBar) \n",
        "yBar = np.mean(y)\n",
        "\n",
        "# Equations:\n",
        "w1 = (xyBar - (xBar * yBar))/(xSquaredBar - xBarSquared)\n",
        "w0 = yBar - w1*xBar\n",
        "\n",
        "print(\"The value for w\\u2081 is: \", w1)\n",
        "print(\"The value for w\\u2080 is: \", w0)"
      ],
      "execution_count": 35,
      "outputs": [
        {
          "output_type": "stream",
          "text": [
            "The value for w₁ is:  -0.013330885710960602\n",
            "The value for w₀ is:  36.41645590250286\n"
          ],
          "name": "stdout"
        }
      ]
    },
    {
      "cell_type": "markdown",
      "metadata": {
        "id": "FMHM6tVytTg4"
      },
      "source": [
        "### Step 4\n",
        "Use `matplotlib` to plot the data, and use your weights from Step 3 to plot the best fit line through the data."
      ]
    },
    {
      "cell_type": "code",
      "metadata": {
        "id": "GsfxLko0teu3",
        "outputId": "c6da09e7-fbb7-4fde-a38f-24b12bca23c0",
        "colab": {
          "base_uri": "https://localhost:8080/",
          "height": 295
        }
      },
      "source": [
        "import matplotlib.pyplot as plt\n",
        "\n",
        "plt.scatter(x,y)                      # Line of best fit requires a scatter plot\n",
        "\n",
        "# Creating line of best fit\n",
        "data_line = np.linspace(1880,2020,10)\n",
        "lobf_equ = w1 * data_line + w0\n",
        "\n",
        "# Setting up the plot\n",
        "plt.plot(data_line, lobf_equ, 'r', label='best fit line')\n",
        "plt.xlabel(\"Race year\")\n",
        "plt.xlim(1880,2020)                   # w/o this, lobf doesn't go to end of axis\n",
        "plt.ylabel(\"Time (Sec)\")\n",
        "plt.title(\"Men's Olympic 100m Winning Times\")\n",
        "plt.show()"
      ],
      "execution_count": 40,
      "outputs": [
        {
          "output_type": "display_data",
          "data": {
            "image/png": "[encoded data removed]",
            "text/plain": [
              "<Figure size 432x288 with 1 Axes>"
            ]
          },
          "metadata": {
            "tags": [],
            "needs_background": "light"
          }
        }
      ]
    }
  ]
}