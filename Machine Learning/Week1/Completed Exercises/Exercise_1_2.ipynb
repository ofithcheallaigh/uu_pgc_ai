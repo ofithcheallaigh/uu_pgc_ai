{
  "nbformat": 4,
  "nbformat_minor": 0,
  "metadata": {
    "colab": {
      "name": "Exercise 1.2.ipynb",
      "provenance": [],
      "collapsed_sections": [],
      "toc_visible": true,
      "authorship_tag": "ABX9TyMtXazTIJXMh/ccTLnqDvSj",
      "include_colab_link": true
    },
    "kernelspec": {
      "name": "python3",
      "display_name": "Python 3"
    }
  },
  "cells": [
    {
      "cell_type": "markdown",
      "metadata": {
        "id": "view-in-github",
        "colab_type": "text"
      },
      "source": [
        "<a href=\"https://colab.research.google.com/github/ofithcheallaigh/uu_pgc_ai/blob/main/Machine%20Learning/Week1/Completed%20Exercises/Exercise_1_2.ipynb\" target=\"_parent\"><img src=\"https://colab.research.google.com/assets/colab-badge.svg\" alt=\"Open In Colab\"/></a>"
      ]
    },
    {
      "cell_type": "markdown",
      "metadata": {
        "id": "68062w7Y4BfA"
      },
      "source": [
        "#Numpy Exercises"
      ]
    },
    {
      "cell_type": "markdown",
      "metadata": {
        "id": "yZ361dUM4IM9"
      },
      "source": [
        "## Exercise 1"
      ]
    },
    {
      "cell_type": "markdown",
      "metadata": {
        "id": "BvNxeX454KpW"
      },
      "source": [
        "Let \n",
        "\n",
        "$A = \\begin{bmatrix} 1 & 4 \\\\ 3 & -1 \\\\ 0 & 7 \\end{bmatrix}, B = \\begin{bmatrix} 2 & 1 & 3 \\\\ -5 & 6 & 1 \\end{bmatrix}, C = \\begin{bmatrix} -3 \\\\ 9 \\\\ 0 \\\\ 9 \\end{bmatrix}, D = \\begin{bmatrix} 2 & 1 \\\\ -3 & 0 \\end{bmatrix}$\n",
        "\n",
        "(a) Represent each matrix in Python and determine its order.\n",
        "\n",
        "(b) Display the transpose of each matrix.\n",
        "\n",
        "(c) What is $A + B^T$?\n",
        "\n",
        "(d) What is $D^T - 2D$?"
      ]
    },
    {
      "cell_type": "markdown",
      "metadata": {
        "id": "OFG1qUkO5WXp"
      },
      "source": [
        "Below are the answer for Exercise 1(a)"
      ]
    },
    {
      "cell_type": "code",
      "metadata": {
        "id": "46f6iAaD4muL",
        "outputId": "47728eb6-f501-4268-afcf-dba08c27bf14",
        "colab": {
          "base_uri": "https://localhost:8080/",
          "height": 391
        }
      },
      "source": [
        "import numpy as np\n",
        "\n",
        "# Matrix A\n",
        "A = np.matrix('1 4; 3 -1; 0 7')\n",
        "print(\"Matrix A is:\\n\",A)\n",
        "print(\"and its order is:\", A.shape)\n",
        "\n",
        "# Matrix B\n",
        "B = np.matrix('2 1 3; -5 6 1')\n",
        "print(\"\\nMatrix B is:\\n\",B)\n",
        "print(\"and its order is:\", B.shape)\n",
        "\n",
        "# Matric C\n",
        "C = np.matrix('-3;9;0;9')\n",
        "print(\"\\nMatrix C is:\\n\",C)\n",
        "print(\"and its order is:\", C.shape)\n",
        "\n",
        "# Matrix D\n",
        "D = np.matrix('2 1; -3 0')\n",
        "print(\"\\nMatrix D is:\\n\",D)\n",
        "print(\"and its order is:\", D.shape)"
      ],
      "execution_count": 1,
      "outputs": [
        {
          "output_type": "stream",
          "text": [
            "Matrix A is:\n",
            " [[ 1  4]\n",
            " [ 3 -1]\n",
            " [ 0  7]]\n",
            "and its order is: (3, 2)\n",
            "\n",
            "Matrix B is:\n",
            " [[ 2  1  3]\n",
            " [-5  6  1]]\n",
            "and its order is: (2, 3)\n",
            "\n",
            "Matrix C is:\n",
            " [[-3]\n",
            " [ 9]\n",
            " [ 0]\n",
            " [ 9]]\n",
            "and its order is: (4, 1)\n",
            "\n",
            "Matrix D is:\n",
            " [[ 2  1]\n",
            " [-3  0]]\n",
            "and its order is: (2, 2)\n"
          ],
          "name": "stdout"
        }
      ]
    },
    {
      "cell_type": "markdown",
      "metadata": {
        "id": "86lHIpAy9oZZ"
      },
      "source": [
        "Below are the answer for Exercise 1(b)"
      ]
    },
    {
      "cell_type": "code",
      "metadata": {
        "id": "oCViUV0I9sc-",
        "outputId": "1c6a7b60-674b-464d-bb22-93aaba77c5a1",
        "colab": {
          "base_uri": "https://localhost:8080/",
          "height": 323
        }
      },
      "source": [
        "# Transposing the matrices\n",
        "print(\"The transpose of matrix A is:\\n\",A.T)\n",
        "print('\\n')                                           # This is just to make it look better when printing\n",
        "print(\"The transpose of matrix B is:\\n\",B.T)\n",
        "print('\\n')\n",
        "print(\"The transpose of matrix C is:\\n\",C.T)\n",
        "print('\\n')\n",
        "print(\"The transpose of matrix D is:\\n\",D.T)"
      ],
      "execution_count": 2,
      "outputs": [
        {
          "output_type": "stream",
          "text": [
            "The transpose of matrix A is:\n",
            " [[ 1  3  0]\n",
            " [ 4 -1  7]]\n",
            "\n",
            "\n",
            "The transpose of matrix B is:\n",
            " [[ 2 -5]\n",
            " [ 1  6]\n",
            " [ 3  1]]\n",
            "\n",
            "\n",
            "The transpose of matrix C is:\n",
            " [[-3  9  0  9]]\n",
            "\n",
            "\n",
            "The transpose of matrix D is:\n",
            " [[ 2 -3]\n",
            " [ 1  0]]\n"
          ],
          "name": "stdout"
        }
      ]
    },
    {
      "cell_type": "markdown",
      "metadata": {
        "id": "yerUh-8yB2Hy"
      },
      "source": [
        "Below is the answer for Exercise 1(c)"
      ]
    },
    {
      "cell_type": "code",
      "metadata": {
        "id": "5WaMKQNdB6ZJ",
        "outputId": "eac59135-4fee-4a75-b182-689f7c002651",
        "colab": {
          "base_uri": "https://localhost:8080/",
          "height": 85
        }
      },
      "source": [
        "# A + Transpose of B\n",
        "answer = A + B.T\n",
        "print(\"The result of A + B.T is:\\n\", answer)"
      ],
      "execution_count": 3,
      "outputs": [
        {
          "output_type": "stream",
          "text": [
            "The result of A + B.T is:\n",
            " [[ 3 -1]\n",
            " [ 4  5]\n",
            " [ 3  8]]\n"
          ],
          "name": "stdout"
        }
      ]
    },
    {
      "cell_type": "markdown",
      "metadata": {
        "id": "OPTPBK7RHMMh"
      },
      "source": [
        "Below is the answer for Exerice 1(d)"
      ]
    },
    {
      "cell_type": "code",
      "metadata": {
        "id": "aCWGGmMJHQNx",
        "outputId": "07ba2893-2f42-4438-98db-95fd0245d401",
        "colab": {
          "base_uri": "https://localhost:8080/",
          "height": 68
        }
      },
      "source": [
        "print(\"The answer for D Transposed, minus 2D is:\\n\", D.T - 2*D)"
      ],
      "execution_count": 4,
      "outputs": [
        {
          "output_type": "stream",
          "text": [
            "The answer for D Transposed, minus 2D is:\n",
            " [[-2 -5]\n",
            " [ 7  0]]\n"
          ],
          "name": "stdout"
        }
      ]
    },
    {
      "cell_type": "markdown",
      "metadata": {
        "id": "ZwU3qE9qHvF9"
      },
      "source": [
        "## Exercise 2\n",
        "If possible carry out the following matrix multiplications based on the matrices from Exercise 1.\n",
        "\n",
        "(a) $BD$\n",
        "\n",
        "(b) $D^TA^T$\n",
        "\n",
        "(c) $CC^T$\n",
        "\n",
        "(d) $D^2$, $D^3$, $D^4$, $D^5$\n",
        "\n",
        "(e) Show that $AB \\neq BA$"
      ]
    },
    {
      "cell_type": "markdown",
      "metadata": {
        "id": "kqTXw8hflqir"
      },
      "source": [
        "Below are the answer to Exercise 2(a)"
      ]
    },
    {
      "cell_type": "code",
      "metadata": {
        "id": "JfwfCA4hH1TO",
        "outputId": "3f4d01ab-7971-48f7-990e-d9c39b76ae71",
        "colab": {
          "base_uri": "https://localhost:8080/",
          "height": 34
        }
      },
      "source": [
        "orderB = B.shape\n",
        "orderD = D.shape\n",
        "\n",
        "if orderB[1] == orderD[0]:\n",
        "  print(\"The multiplication of matrix B and D is:\\n\", B @ D)\n",
        "else:\n",
        "  print(\"The order of the matrices do not allow multplication\")\n"
      ],
      "execution_count": 5,
      "outputs": [
        {
          "output_type": "stream",
          "text": [
            "The order of the matrices do not allow multplication\n"
          ],
          "name": "stdout"
        }
      ]
    },
    {
      "cell_type": "markdown",
      "metadata": {
        "id": "jYRji3UXoFF3"
      },
      "source": [
        "Below is the answer to Exercise 2(b)"
      ]
    },
    {
      "cell_type": "code",
      "metadata": {
        "id": "RPCjLmDioH-V",
        "outputId": "1dbbe4d6-2c80-4a45-ce46-d02c93fd3462",
        "colab": {
          "base_uri": "https://localhost:8080/",
          "height": 68
        }
      },
      "source": [
        "transD = D.T\n",
        "transA = A.T\n",
        "orderTransD = transD.shape\n",
        "orderTransA = transA.shape\n",
        "\n",
        "if orderTransD[1] == orderTransA[0]:\n",
        "  print(\"The multiplication of matrix D transposed and A transposed is:\\n\", transD @ transA)\n",
        "else:\n",
        "  print(\"The order of the matrices do not allow multplication\")"
      ],
      "execution_count": 6,
      "outputs": [
        {
          "output_type": "stream",
          "text": [
            "The multiplication of matrix D transposed and A transposed is:\n",
            " [[-10   9 -21]\n",
            " [  1   3   0]]\n"
          ],
          "name": "stdout"
        }
      ]
    },
    {
      "cell_type": "markdown",
      "metadata": {
        "id": "WCj-RFdJrPa5"
      },
      "source": [
        "Below is the answer to Exercise 2(c)"
      ]
    },
    {
      "cell_type": "code",
      "metadata": {
        "id": "Euydr4qWrV_C",
        "outputId": "b0ae6aed-32b7-4bd1-c353-a91a260dda6c",
        "colab": {
          "base_uri": "https://localhost:8080/",
          "height": 102
        }
      },
      "source": [
        "transC = C.T\n",
        "orderC = C.shape\n",
        "orderTransC = transC.shape\n",
        "\n",
        "if orderC[1] == orderTransC[0]:\n",
        "  print(\"The multiplication of matrix C and C transposed is:\\n\", C @ transC)\n",
        "else:\n",
        "  print(\"The order of the matrices do not allow multplication\")"
      ],
      "execution_count": 7,
      "outputs": [
        {
          "output_type": "stream",
          "text": [
            "The multiplication of matrix C and C transposed is:\n",
            " [[  9 -27   0 -27]\n",
            " [-27  81   0  81]\n",
            " [  0   0   0   0]\n",
            " [-27  81   0  81]]\n"
          ],
          "name": "stdout"
        }
      ]
    },
    {
      "cell_type": "markdown",
      "metadata": {
        "id": "fPGL71fA21ub"
      },
      "source": [
        "Below is the answer to Exercise 2(d)"
      ]
    },
    {
      "cell_type": "code",
      "metadata": {
        "id": "kBadH5ay25lb",
        "outputId": "33b5d94a-b8c1-43a9-be4f-6cd61d8bb906",
        "colab": {
          "base_uri": "https://localhost:8080/",
          "height": 221
        }
      },
      "source": [
        "print(\"D^2 is:\\n\", np.linalg.matrix_power(D,2))\n",
        "print(\"D^3 is:\\n\", np.linalg.matrix_power(D,3))\n",
        "print(\"D^4 is:\\n\", np.linalg.matrix_power(D,4))\n",
        "print(\"D^5 is:\\n\", np.linalg.matrix_power(D,5))"
      ],
      "execution_count": 12,
      "outputs": [
        {
          "output_type": "stream",
          "text": [
            "D^2 is:\n",
            " [[ 1  2]\n",
            " [-6 -3]]\n",
            "D^3 is:\n",
            " [[-4  1]\n",
            " [-3 -6]]\n",
            "D^4 is:\n",
            " [[-11  -4]\n",
            " [ 12  -3]]\n",
            "D^5 is:\n",
            " [[-10 -11]\n",
            " [ 33  12]]\n"
          ],
          "name": "stdout"
        }
      ]
    },
    {
      "cell_type": "markdown",
      "metadata": {
        "id": "vxbRGBl14d5_"
      },
      "source": [
        "Below are the answers for Exercise 2(e)"
      ]
    },
    {
      "cell_type": "code",
      "metadata": {
        "id": "ArdXeoI14nIj",
        "outputId": "26610713-0d23-4c23-b3a2-b799e4e837d4",
        "colab": {
          "base_uri": "https://localhost:8080/",
          "height": 153
        }
      },
      "source": [
        "# Show that AB =/= BA\n",
        "AB = (A @ B)\n",
        "BA = (B @ A)\n",
        "\n",
        "print(\"Matrix AB:\\n\", AB)\n",
        "print(\"Matrix BA:\\n\", BA)\n",
        "print(\"These matricies are shown to be different\")\n",
        "\n",
        "\n",
        "# if(AB.all() == BA.all()):\n",
        "#   print(\"I cannot show that they matricies are different\")\n",
        "# else:\n",
        "#   print(\"These matricies are shown to be different\")"
      ],
      "execution_count": 23,
      "outputs": [
        {
          "output_type": "stream",
          "text": [
            "Matrix AB:\n",
            " [[-18  25   7]\n",
            " [ 11  -3   8]\n",
            " [-35  42   7]]\n",
            "Matrix BA:\n",
            " [[  5  28]\n",
            " [ 13 -19]]\n",
            "These matricies are shown to be different\n"
          ],
          "name": "stdout"
        }
      ]
    },
    {
      "cell_type": "markdown",
      "metadata": {
        "id": "-jeEQTr4-s98"
      },
      "source": [
        "## Exercise 3\n",
        "Solve the following set of linear equations for $x$, $y$ and $z$:\n",
        "\n",
        "\\begin{align}\n",
        "x + y + z & = 3 \\\\\n",
        "2x  + 7y + 2z & = 15 \\\\\n",
        "-3x + 4y + z & = 0\n",
        "\\end{align}"
      ]
    },
    {
      "cell_type": "code",
      "metadata": {
        "id": "LCqJqbFL-wyw",
        "outputId": "29a26729-8eda-494d-95bb-13d5224c7aff",
        "colab": {
          "base_uri": "https://localhost:8080/",
          "height": 221
        }
      },
      "source": [
        "lhs = np.array([[1,1,1,],[2,7,2],[-3,4,1]])\n",
        "rhs = np.array([[3,15,0]]).T\n",
        "\n",
        "print(\"Left hand side of the equation:\\n\",lhs)\n",
        "print(\"Right hand side of the equation:\\n\",rhs)\n",
        "\n",
        "result = np.linalg.solve(lhs,rhs)\n",
        "print(\"The x, y and z values are:\\n\",result)"
      ],
      "execution_count": 25,
      "outputs": [
        {
          "output_type": "stream",
          "text": [
            "Left hand side of the equation:\n",
            " [[ 1  1  1]\n",
            " [ 2  7  2]\n",
            " [-3  4  1]]\n",
            "Right hand side of the equation:\n",
            " [[ 3]\n",
            " [15]\n",
            " [ 0]]\n",
            "The x, y and z values are:\n",
            " [[ 2.1]\n",
            " [ 1.8]\n",
            " [-0.9]]\n"
          ],
          "name": "stdout"
        }
      ]
    },
    {
      "cell_type": "markdown",
      "metadata": {
        "id": "B3diwUtYNAPm"
      },
      "source": [
        "## Exercise 4\n",
        "\n",
        "Write a function `euclidean_distance` that returns the Euclidean distance $d$ between two row vectors $\\mathbf{x}$ and $\\mathbf{y}$.\n",
        "\n",
        "$d = \\sqrt{\\sum_{i=1}^{n} (x_i - y_i)^2}$"
      ]
    },
    {
      "cell_type": "code",
      "metadata": {
        "id": "8gOW_cl1NCpR",
        "outputId": "ad5a04a9-b77b-4cd3-dc28-c8279329aceb",
        "colab": {
          "base_uri": "https://localhost:8080/",
          "height": 34
        }
      },
      "source": [
        "def euclidean_distance(x,y):\n",
        "  d = 0\n",
        "  d = np.sqrt(np.sum((x-y)**2, axis = 1))\n",
        "  return d \n",
        "\n",
        "# Code check\n",
        "a = np.array([[2,4,5,2]])\n",
        "b = np.array([[5,3,0,1]])\n",
        "d = euclidean_distance(a,b)\n",
        "print(d)"
      ],
      "execution_count": 27,
      "outputs": [
        {
          "output_type": "stream",
          "text": [
            "[6.]\n"
          ],
          "name": "stdout"
        }
      ]
    }
  ]
}