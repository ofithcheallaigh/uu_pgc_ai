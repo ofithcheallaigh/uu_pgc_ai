{
 "cells": [
  {
   "cell_type": "markdown",
   "metadata": {},
   "source": [
    "# Notes on Approaches to the ML Process\n",
    "\n",
    "Link: https://www.kdnuggets.com/2018/05/general-approaches-machine-learning-process.html \n",
    "\n",
    "Is it worth comparing appraoches to the ML process? Are there any funcdamental differences between such frameworks?\n",
    "\n",
    "The two most recent resources which outline frameworks for appraoching the process of machine learning are Yifeng Gou's [The 7 Stepos of Machine Learning](https://towardsdatascience.com/the-7-steps-of-machine-learning-2877d7e5548e) and section 4.5 of Francois Chollet's [Deep learning with Python](https://www.amazon.com/Deep-Learning-Python-Francois-Chollet/dp/1617294438).\n",
    "\n",
    "Are either of these anything different than how you already prcoess just such a task?\n",
    "\n",
    "## The 7 Steps of Machine Leaning\n",
    "Guo laid out the steps as follows:\n",
    "1. Data Collection\n",
    "    * The quantyity and quality of your data dictate how accurate our model is\n",
    "    * The outcome of this step is generally a representation of data (Gou simplifies to specifying a table) which we will use for training\n",
    "    * using pre-collected data, by way of datasets from Kaggle, UCI, etc., still fits into this step   \n",
    "    \n",
    "2. Data Preparation\n",
    "    * Wrangle data and prepare it for training\n",
    "    * Clean that which may require it (remove duplicates, correct errors, deal with missing values, normalisation, data type conversions, etc.)\n",
    "    * Randomise data, which erases the effects of the particular order in which we collect and/or otherwise prepare our data\n",
    "    * Visualise data to help detect relavent relationships betweem cariables or class imbalances (bias alert), or preform other exploratory analysis\n",
    "    * Split into training and exaluation sets\n",
    "    \n",
    "3. Choose a model\n",
    "    * Different algorithms are for different tasks; choose the right one\n",
    "    \n",
    "4. Train the model\n",
    "    * The goal of training is to answer a question or make a prediction"
   ]
  },
  {
   "cell_type": "code",
   "execution_count": null,
   "metadata": {},
   "outputs": [],
   "source": []
  }
 ],
 "metadata": {
  "kernelspec": {
   "display_name": "Python 3",
   "language": "python",
   "name": "python3"
  },
  "language_info": {
   "codemirror_mode": {
    "name": "ipython",
    "version": 3
   },
   "file_extension": ".py",
   "mimetype": "text/x-python",
   "name": "python",
   "nbconvert_exporter": "python",
   "pygments_lexer": "ipython3",
   "version": "3.8.1"
  }
 },
 "nbformat": 4,
 "nbformat_minor": 4
}
