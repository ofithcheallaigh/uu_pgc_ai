{
 "cells": [
  {
   "cell_type": "markdown",
   "metadata": {},
   "source": [
    "# NumPy Exercises"
   ]
  },
  {
   "cell_type": "markdown",
   "metadata": {},
   "source": [
    "### Exercise 1\n",
    "Let\n",
    "\n",
    "$A = \\begin{bmatrix} 1 & 4 \\\\ 3 & -1 \\\\ 0 & 7 \\end{bmatrix}, B = \\begin{bmatrix} 2 & 1 & 3 \\\\ -5 & 6 & 1 \\end{bmatrix}, C = \\begin{bmatrix} -3 \\\\ 9 \\\\ 0 \\\\ 9 \\end{bmatrix}, D = \\begin{bmatrix} 2 & 1 \\\\ -3 & 0 \\end{bmatrix}$\n",
    "\n",
    "(a) Represent each matrix in Python and determine its order.\n",
    "\n",
    "(b) Display the transpose of each matrix.\n",
    "\n",
    "(c) What is $A + B^T$?\n",
    "\n",
    "(d) What is $D^T - 2D$?"
   ]
  },
  {
   "cell_type": "code",
   "execution_count": 1,
   "metadata": {},
   "outputs": [
    {
     "name": "stdout",
     "output_type": "stream",
     "text": [
      "A\n",
      " [[ 1  4]\n",
      " [ 3 -1]\n",
      " [ 0  7]]\n",
      "Order of A (3, 2)\n",
      "\n",
      "B\n",
      " [[ 2  1  3]\n",
      " [-5  6  1]]\n",
      "Order of B (2, 3)\n",
      "\n",
      "C\n",
      " [[-3]\n",
      " [ 9]\n",
      " [ 0]\n",
      " [ 9]]\n",
      "Order of C (4, 1)\n",
      "\n",
      "D\n",
      " [[ 2  1]\n",
      " [-3  0]]\n",
      "Order of D (2, 2)\n",
      "\n",
      "A^T\n",
      " [[ 1  3  0]\n",
      " [ 4 -1  7]]\n",
      "\n",
      "B^T\n",
      " [[ 2 -5]\n",
      " [ 1  6]\n",
      " [ 3  1]]\n",
      "\n",
      "C^T\n",
      " [[-3  9  0  9]]\n",
      "\n",
      "D^T\n",
      " [[ 2 -3]\n",
      " [ 1  0]]\n",
      "\n",
      "A + B^T\n",
      "[[ 3 -1]\n",
      " [ 4  5]\n",
      " [ 3  8]]\n",
      "\n",
      "D^T -2D\n",
      "[[-2 -5]\n",
      " [ 7  0]]\n"
     ]
    }
   ],
   "source": [
    "import numpy as np\n",
    "\n",
    "# (a)\n",
    "A = np.array([[1,4],[3,-1],[0,7]])\n",
    "print('A\\n',A)\n",
    "print('Order of A',A.shape)\n",
    "\n",
    "B = np.array([[2,1,3],[-5,6,1]])\n",
    "print('\\nB\\n',B)\n",
    "print('Order of B',B.shape)\n",
    "\n",
    "C = np.array([[-3],[9],[0],[9]])\n",
    "print('\\nC\\n',C)\n",
    "print('Order of C',C.shape)\n",
    "\n",
    "D = np.array([[2,1],[-3,0]])\n",
    "print('\\nD\\n',D)\n",
    "print('Order of D',D.shape)\n",
    "\n",
    "# (b)\n",
    "print('\\nA^T\\n',A.T)\n",
    "print('\\nB^T\\n',B.T)\n",
    "print('\\nC^T\\n',C.T)\n",
    "print('\\nD^T\\n',D.T)\n",
    "\n",
    "# (c)\n",
    "print('\\nA + B^T')\n",
    "print(A + B.T)\n",
    "\n",
    "# (d)\n",
    "print('\\nD^T -2D')\n",
    "print(D.T -2*D)"
   ]
  },
  {
   "cell_type": "markdown",
   "metadata": {},
   "source": [
    "### Exercise 2\n",
    "If possible carry out the following matrix multiplications based on the matrices from Exercise 1.\n",
    "\n",
    "(a) $BD$\n",
    "\n",
    "(b) $D^TA^T$\n",
    "\n",
    "(c) $CC^T$\n",
    "\n",
    "(d) $D^2$, $D^3$, $D^4$, $D^5$\n",
    "\n",
    "(e) Show that $AB \\neq BA$"
   ]
  },
  {
   "cell_type": "code",
   "execution_count": 2,
   "metadata": {},
   "outputs": [
    {
     "name": "stdout",
     "output_type": "stream",
     "text": [
      "Order of B (2, 3)\n",
      "Order of D (2, 2)\n",
      "Order of B and D is incompatible for multiplication.\n",
      "\n",
      "D^TA^T\n",
      " [[-10   9 -21]\n",
      " [  1   3   0]]\n",
      "\n",
      "CC^T\n",
      " [[  9 -27   0 -27]\n",
      " [-27  81   0  81]\n",
      " [  0   0   0   0]\n",
      " [-27  81   0  81]]\n",
      "\n",
      "D^2\n",
      " [[ 1  2]\n",
      " [-6 -3]]\n",
      "\n",
      "D^3\n",
      " [[-4  1]\n",
      " [-3 -6]]\n",
      "\n",
      "D^4\n",
      " [[-11  -4]\n",
      " [ 12  -3]]\n",
      "\n",
      "D^5\n",
      " [[-10 -11]\n",
      " [ 33  12]]\n",
      "\n",
      "AB\n",
      " [[-18  25   7]\n",
      " [ 11  -3   8]\n",
      " [-35  42   7]]\n",
      "\n",
      "BA\n",
      " [[  5  28]\n",
      " [ 13 -19]]\n",
      "Clearly AB and BA are different.\n",
      "\n",
      "(AB)^T\n",
      " [[-18  11 -35]\n",
      " [ 25  -3  42]\n",
      " [  7   8   7]]\n",
      "\n",
      "B^TA^T\n",
      " [[-18  11 -35]\n",
      " [ 25  -3  42]\n",
      " [  7   8   7]]\n",
      "Clearly (AB)^T = B^TA^T.\n",
      "\n",
      "A(BE)\n",
      " [[ 17 110]\n",
      " [ 51  31]\n",
      " [  0 161]]\n",
      "\n",
      "(AB)E\n",
      " [[ 17 110]\n",
      " [ 51  31]\n",
      " [  0 161]]\n",
      "Clearly A(BE) = (AB)E.\n"
     ]
    }
   ],
   "source": [
    "# (a)\n",
    "print('Order of B',B.shape)\n",
    "print('Order of D',D.shape)\n",
    "print('Order of B and D is incompatible for multiplication.')\n",
    "\n",
    "# (b)\n",
    "print('\\nD^TA^T\\n',D.T @ A.T)\n",
    "\n",
    "# (c)\n",
    "print('\\nCC^T\\n',C @ C.T)\n",
    "\n",
    "# (d)\n",
    "print('\\nD^2\\n',np.linalg.matrix_power(D,2))\n",
    "print('\\nD^3\\n',np.linalg.matrix_power(D,3))\n",
    "print('\\nD^4\\n',np.linalg.matrix_power(D,4))\n",
    "print('\\nD^5\\n',np.linalg.matrix_power(D,5))\n",
    "\n",
    "# (e)\n",
    "print('\\nAB\\n',A @ B)\n",
    "print('\\nBA\\n',B @ A)\n",
    "print('Clearly AB and BA are different.')"
   ]
  },
  {
   "cell_type": "markdown",
   "metadata": {},
   "source": [
    "### Exercise 3\n",
    "Solve the following set of linear equations for $x$, $y$ and $z$:\n",
    "\n",
    "\\begin{align}\n",
    "x + y + z & = 3 \\\\\n",
    "2x  + 7y + 2z & = 15 \\\\\n",
    "-3x + 4y + z & = 0\n",
    "\\end{align}"
   ]
  },
  {
   "cell_type": "code",
   "execution_count": 4,
   "metadata": {},
   "outputs": [
    {
     "name": "stdout",
     "output_type": "stream",
     "text": [
      "A\n",
      " [[ 1  1  1]\n",
      " [ 2  7  2]\n",
      " [-3  4  1]]\n",
      "b\n",
      " [[ 3]\n",
      " [15]\n",
      " [ 0]]\n",
      "v\n",
      "[[ 2.1]\n",
      " [ 1.8]\n",
      " [-0.9]]\n"
     ]
    }
   ],
   "source": [
    "A2 = np.array([[1,1,1],[2,7,2],[-3,4,1]])\n",
    "b2 = np.array([[3,15,0]]).T\n",
    "print('A\\n',A2)\n",
    "print('b\\n',b2)\n",
    "\n",
    "v2 = np.linalg.solve(A2,b2)\n",
    "print('v')\n",
    "print(v2)\n"
   ]
  },
  {
   "cell_type": "markdown",
   "metadata": {},
   "source": [
    "### Exercise 4\n",
    "\n",
    "Write a function `euclidean_distance` that returns the Euclidean distance $d$ between two row vectors $\\mathbf{x}$ and $\\mathbf{y}$.\n",
    "\n",
    "$d = \\sqrt{\\sum_{i=1}^{n} (x_i - y_i)^2}$"
   ]
  },
  {
   "cell_type": "code",
   "execution_count": 5,
   "metadata": {},
   "outputs": [],
   "source": [
    "def euclidean_distance(x,y):\n",
    "    d = 0\n",
    "    \n",
    "    ##Enter your code here\n",
    "    ##Note you can do this in 1 or 2 lines of NumPy\n",
    "    d = np.sqrt(np.sum((x-y)**2, axis=1))\n",
    "    \n",
    "    return d"
   ]
  },
  {
   "cell_type": "markdown",
   "metadata": {},
   "source": [
    "Now test your implementation of `euclidean_distance` using the code below.\n",
    "The distance between `a` and `b` should be equal to 6.\n",
    "\n"
   ]
  },
  {
   "cell_type": "code",
   "execution_count": 6,
   "metadata": {},
   "outputs": [
    {
     "name": "stdout",
     "output_type": "stream",
     "text": [
      "[6.]\n"
     ]
    }
   ],
   "source": [
    "a = np.array([[2,4,5,2]])\n",
    "b = np.array([[5,3,0,1]])\n",
    "d = euclidean_distance(a,b)\n",
    "print(d)"
   ]
  }
 ],
 "metadata": {
  "kernelspec": {
   "display_name": "Python 3",
   "language": "python",
   "name": "python3"
  },
  "language_info": {
   "codemirror_mode": {
    "name": "ipython",
    "version": 3
   },
   "file_extension": ".py",
   "mimetype": "text/x-python",
   "name": "python",
   "nbconvert_exporter": "python",
   "pygments_lexer": "ipython3",
   "version": "3.7.7"
  }
 },
 "nbformat": 4,
 "nbformat_minor": 4
}
