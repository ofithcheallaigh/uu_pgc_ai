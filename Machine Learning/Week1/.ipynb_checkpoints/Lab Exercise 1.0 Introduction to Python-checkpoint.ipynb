{
 "cells": [
  {
   "cell_type": "markdown",
   "metadata": {},
   "source": [
    "# Introduction to Python and Jupyter Notebooks\n",
    "\n",
    "**If you have previously programmed in Python or used Jupyter notebooks before, you may not need to complete this notebook. In that case, please move onto Lab Exercise 1.1**\n",
    "\n",
    "This file is an example of a Jupyter Notebook. It is a document that can contain both live code (in COM761, the code will be Python) and text, as well as visualizations, etc.\n",
    "\n",
    "## Getting started\n",
    "\n",
    "### Cell Types\n",
    "\n",
    "We need to distinguish between different types of cells. This cell is a **Markdown cell** whereas the next cell below is a **Code cell**. Markdown cells are for formatting text rather than for running code. To see how to format headings, use italics and bold font, for example, you can go into edit mode by double-clicking on a cell. Try it for this cell. To execute the cell (and so produce the formatted text), you can go to *Cell / Run Cells* or use the shortcut *Ctrl-Enter*. (You can find other keyboard shortcuts under the *Help* menu.) Markdown is very useful for mathematical notation such as $\\sqrt{2}$. For further details on Markdown see <a href=\"https://www.datacamp.com/community/tutorials/markdown-in-jupyter-notebook\" >Markdown in Jupyter Notebook</a>.\n",
    "\n",
    "The next cell below is a Code cell. You can also edit and run it as described above, but now it will execute the code and present the output below the cell. "
   ]
  },
  {
   "cell_type": "code",
   "execution_count": null,
   "metadata": {
    "scrolled": true
   },
   "outputs": [],
   "source": [
    "# Using Python as a calculator\n",
    "(25 - 4.5**2) / 3   # Notice how to square a number"
   ]
  },
  {
   "cell_type": "markdown",
   "metadata": {},
   "source": [
    "## Exercise 1\n",
    "You should try out a few other calculations like the one above. To do this, you have a few options. You can edit a current cell, such as the one above, to do a different calculation, but it is better to insert a new cell. You can do this by a) clicking on the cell above and then clicking *Insert / Insert Cell Below* from the menu or b) when executing a cell you can click *Cell / Run Cells and Insert Cell Below* from the menu (or alternatively use the shortcut *Alt-Enter*).\n",
    "\n",
    "Here are a couple of things you should check out. Confirm that unlike some other languages Python does not use integer division for `7/3`. For integer division you would instead use `7//3`. \n",
    "\n",
    "You should also make sure you understand <a href=\"https://docs.python.org/3/reference/expressions.html?highlight=precedence\">precedence in Python</a>. For example\n",
    "\n",
    "- Is 4 / 3 * 2 the same as (4 / 3) * 2 or 4 / (3 * 2)?\n",
    "- What is the result of 5 + 8 / 4 - 3 * 6?\n",
    "\n",
    "You should try these out in the Code cell below, using the `print` function to display output. For example, to print the output from the previous cell we could use `print((25 - 4.5**2) / 3) `. However you should also format the output to 3 decimal places. Hint: one way to do this is to use the `format` function as follows `print('{:X.Yf}'.format(1.234567))` where X and Y need to be replaced by suitable integers. For details, see https://www.python-course.eu/python3_formatted_output.php and https://docs.python.org/3/tutorial/inputoutput.html "
   ]
  },
  {
   "cell_type": "code",
   "execution_count": null,
   "metadata": {},
   "outputs": [],
   "source": []
  },
  {
   "cell_type": "markdown",
   "metadata": {},
   "source": [
    "## Including Code\n",
    "\n",
    "### Basic programming structures\n",
    "\n",
    "Of course, as a programming language, Python provides the usual sorts of branching (`if`, `if else`) and repetition (`for`, `while`) structures. Try out the code below.\n",
    "\n",
    "**Note 1** In Python you do not need to declare the type of a variable.\n",
    "\n",
    "**Note 2** For programming structures such as `if` and `while`, the relevant code block that gets executed is defined by indentation, i.e. all the indented code is executed if the condition is true. The first unindented line of code is executed after the `if` or `while` statement is completed. This is very different from languages such as C and Java where { } are used."
   ]
  },
  {
   "cell_type": "code",
   "execution_count": null,
   "metadata": {},
   "outputs": [],
   "source": [
    "# Determine the total bill for a number of items and keep track \n",
    "# of the number of items in different price ranges\n",
    "\n",
    "new_item = 'y'\n",
    "total = 0\n",
    "num_under_10 = 0\n",
    "num_10to20 = 0\n",
    "num_over_20 = 0\n",
    "\n",
    "while new_item == 'y' or new_item == 'Y':\n",
    "    price = float(input(\"Please enter the price of the item: \"))\n",
    "    \n",
    "    if price < 10:\n",
    "        num_under_10 = num_under_10 + 1\n",
    "    elif price < 20:\n",
    "        num_10to20 = num_10to20 + 1\n",
    "    else:\n",
    "        num_over_20 = num_over_20 + 1\n",
    "        \n",
    "    total = total + price\n",
    "    \n",
    "    new_item = input('Do you have another item? ' +\n",
    "                    '(Enter y for yes): ')\n",
    "    \n",
    "print('\\nTotal bill: £', total)\n",
    "print('\\nNumber of items under £10:', num_under_10)\n",
    "print('Number of items between £10 and £20:', num_10to20)\n",
    "print('Number of items that are £20 or more:', num_over_20)\n"
   ]
  },
  {
   "cell_type": "markdown",
   "metadata": {},
   "source": [
    "## Exercise 2\n",
    "\n",
    "Copy the above code to the cell below and then modify it to a) ensure that the prices entered by the user are positive (if the user enters a negative value or zero, ask for a new value until a positve value is entered), and b) determine the average price of the items purchased. "
   ]
  },
  {
   "cell_type": "code",
   "execution_count": null,
   "metadata": {},
   "outputs": [],
   "source": []
  },
  {
   "cell_type": "markdown",
   "metadata": {},
   "source": [
    "### Note about Jupyter Notebooks\n",
    "You will have noticed that when you run a cell, a number appears beside it at the left hand side. These show us the order in which the cells have been executed. Unlike a typical program, the code does not have to be executed in a particular order. Consider the following three cells. If you execute them in order, the value of x displayed by the second cell is the value specified in the first of the three cells, i.e. 5, as you would expect. But suppose you execute the second of these cells after you execute the third one, you will find that the value of x displayed is 10.\n",
    "\n",
    "To make your notebook readable, you should avoid writing code that depends on cells that appear later, but if something goes wrong in a calculation, you should check that it isn't related to this issue. The more general point, however, is that cells are not independent of each other, so variables introduced in one cell will be available in another cell after the first one has been executed."
   ]
  },
  {
   "cell_type": "code",
   "execution_count": null,
   "metadata": {},
   "outputs": [],
   "source": [
    "x = 5"
   ]
  },
  {
   "cell_type": "code",
   "execution_count": null,
   "metadata": {},
   "outputs": [],
   "source": [
    "print('x is',x)"
   ]
  },
  {
   "cell_type": "code",
   "execution_count": null,
   "metadata": {},
   "outputs": [],
   "source": [
    "x = 10"
   ]
  },
  {
   "cell_type": "markdown",
   "metadata": {},
   "source": [
    "### Functions\n",
    "The following cell includes a function to calculate the mean of a number of randomly generated integers. The function is then called with appropriate arguments. Try to determine exactly how the code works and what the parameters represent. How would you modify the code to print out each random number generated? Or count up the number of even numbers generated?"
   ]
  },
  {
   "cell_type": "code",
   "execution_count": null,
   "metadata": {},
   "outputs": [],
   "source": [
    "# Import Python's random module\n",
    "import random\n",
    "\n",
    "def meanRandom(n,a,b):\n",
    "    sum = 0\n",
    "    \n",
    "    for i in range(1,n+1): # i will take on the values 1 up to n\n",
    "        sum = sum + random.randint(a,b) \n",
    "    \n",
    "    return sum/n\n",
    "\n",
    "# Call the function meanRandom\n",
    "x = meanRandom(100,1,6)\n",
    "print('x is', x)"
   ]
  },
  {
   "cell_type": "markdown",
   "metadata": {},
   "source": [
    "## Exercise 3\n",
    "Write a function to determine whether a number is even: it should return `True` if it is even; otherwise it should return `False`. Test the function by running it with an even number, and then with an odd number."
   ]
  },
  {
   "cell_type": "code",
   "execution_count": null,
   "metadata": {},
   "outputs": [],
   "source": []
  },
  {
   "cell_type": "markdown",
   "metadata": {},
   "source": [
    "## Plotting data using Matplotlib\n",
    "<a href=\"https://matplotlib.org/\">Matplotlib</a> is a very useful library for producing figures in Python. (We will also come across another plotting library called *Seaborn* which is based on Matplotlib.) Here we will use the *Pyplot* interface within Matplotlib. For further details, see https://matplotlib.org/tutorials/introductory/pyplot.html#sphx-glr-tutorials-introductory-pyplot-py You should look at these resources to explore more details about how to plot and edit figures.\n",
    "\n",
    "Here is a simple example to illustrate how to produce a x-y line plot."
   ]
  },
  {
   "cell_type": "code",
   "execution_count": null,
   "metadata": {},
   "outputs": [],
   "source": [
    "import numpy as np\n",
    "import matplotlib.pyplot as plt\n",
    "\n",
    "x = np.array([0,1,2,3,4,5])\n",
    "y = np.array([1,2,5,10,17,26])\n",
    "\n",
    "plt.plot(x, y) \n",
    "plt.xlabel('x')\n",
    "plt.ylabel('y')\n",
    "plt.show()"
   ]
  },
  {
   "cell_type": "markdown",
   "metadata": {},
   "source": [
    "## Exercise 4\n",
    "\n",
    "Suppose a group of students (listed in the same order in each case) obtained the following marks out of 100 for the coursework and exam in a module.\n",
    "\n",
    "- Coursework: 54, 67, 40, 82, 72, 43, 33, 73, 53, 80, 42, 63, 88, 29, 55, 60. \n",
    "- Exam:       59, 61, 37, 78, 67, 36, 40, 68, 48, 59, 36, 60, 91, 25, 54, 64.\n",
    "\n",
    "Produce a scatter plot for the coursework vs exam results."
   ]
  },
  {
   "cell_type": "code",
   "execution_count": null,
   "metadata": {},
   "outputs": [],
   "source": []
  },
  {
   "cell_type": "markdown",
   "metadata": {},
   "source": [
    "## Exercise 5\n",
    "Plot the following function for values of x between -10 and 10\n",
    "\n",
    "\\begin{equation*}\n",
    "y = 2.5x^2 + 7x + 4.2\n",
    "\\end{equation*}\n",
    "\n",
    "Hint: create an array $x$ consisting of 100 equally spaced values between -10 and 10 using the function `linspace`. Then use the equation to determine the values of another array $y$.\n",
    "\n",
    "How would you plot a dashed black line instead of a solid blue line?"
   ]
  },
  {
   "cell_type": "code",
   "execution_count": null,
   "metadata": {},
   "outputs": [],
   "source": []
  },
  {
   "cell_type": "markdown",
   "metadata": {},
   "source": [
    "## Additional Resources\n",
    "In addition to the resources mentioned throughout the document, the following might be useful for those with previous experience of Java and .NET \n",
    "\n",
    "Python for Java programmers: <br>\n",
    "https://medium.com/nestedif/cheatsheet-python-for-java-developers-98f75c94a1a <br>\n",
    "https://lobster1234.github.io/2017/05/25/python-java-primer/\n",
    "\n",
    "Python for .NET developers: <br>\n",
    "https://www.wintellect.com/python-jumpstart-for-dot-net-developers/\n"
   ]
  },
  {
   "cell_type": "code",
   "execution_count": null,
   "metadata": {},
   "outputs": [],
   "source": []
  }
 ],
 "metadata": {
  "kernelspec": {
   "display_name": "Python 3",
   "language": "python",
   "name": "python3"
  },
  "language_info": {
   "codemirror_mode": {
    "name": "ipython",
    "version": 3
   },
   "file_extension": ".py",
   "mimetype": "text/x-python",
   "name": "python",
   "nbconvert_exporter": "python",
   "pygments_lexer": "ipython3",
   "version": "3.7.7"
  }
 },
 "nbformat": 4,
 "nbformat_minor": 4
}
