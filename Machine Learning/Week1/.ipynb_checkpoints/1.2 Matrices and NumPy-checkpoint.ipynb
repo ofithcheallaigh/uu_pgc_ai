{
 "cells": [
  {
   "cell_type": "markdown",
   "metadata": {
    "slideshow": {
     "slide_type": "slide"
    }
   },
   "source": [
    "# Matrices and NumPy\n",
    "\n",
    "Matrices are used extensively in machine learning, so it is important that you know what they are and how to use them in Python. "
   ]
  },
  {
   "cell_type": "markdown",
   "metadata": {
    "slideshow": {
     "slide_type": "subslide"
    }
   },
   "source": [
    "## Basic definitions\n",
    "\n",
    "A **matrix** $\\mathbf{A}$ is an array of numbers, usually presented in the form:\n",
    "\n",
    "\\begin{equation*}\n",
    "\\mathbf{A} = \\begin{bmatrix} a_{11} & a_{12} & \\ldots & a_{1n} \\\\\n",
    "a_{21} & a_{22} & \\ldots & a_{2n} \\\\\n",
    "\\vdots & \\vdots & \\ddots & \\vdots \\\\\n",
    "a_{m1} & a_{m2} & \\ldots & a_{mn} \\end{bmatrix}\n",
    "\\end{equation*}\n",
    "\n",
    "- The $m$ horizontal lists of numbers are called the **rows** of $\\mathbf{A}$.\n",
    "- The $n$ vertical lists of numbers are called the **columns** of $\\mathbf{A}$.\n",
    "- A matrix is usually represented by a capital letter in bold, e.g. $\\mathbf{A}$ or $\\mathbf{X}$.\n"
   ]
  },
  {
   "cell_type": "markdown",
   "metadata": {
    "slideshow": {
     "slide_type": "subslide"
    }
   },
   "source": [
    "To create the matrix \n",
    "\n",
    "\\begin{equation*}\n",
    "A = \\begin{bmatrix} 2 & 1 & 3 \\\\ -4 & 5 & 7 \\end{bmatrix}\n",
    "\\end{equation*}\n",
    "\n",
    "in Python, we can use the code in the cell below. "
   ]
  },
  {
   "cell_type": "code",
   "execution_count": 1,
   "metadata": {
    "slideshow": {
     "slide_type": "fragment"
    }
   },
   "outputs": [
    {
     "name": "stdout",
     "output_type": "stream",
     "text": [
      "[[ 2  1  4]\n",
      " [-4  5  7]]\n"
     ]
    }
   ],
   "source": [
    "import numpy as np\n",
    "A = np.array([[2,1,4],[-4,5,7]])\n",
    "\n",
    "print(A)"
   ]
  },
  {
   "cell_type": "markdown",
   "metadata": {
    "slideshow": {
     "slide_type": "subslide"
    }
   },
   "source": [
    "#### Elements of a matrix\n",
    "\n",
    "- $a_{ij}$ is used to represent the $ij$-th entry in a matrix $\\mathbf{A}$, i.e. the number that appears in row $i$ and column $j$. \n",
    "- In Python, we can access an individual element of a matrix as follows:"
   ]
  },
  {
   "cell_type": "code",
   "execution_count": 2,
   "metadata": {
    "slideshow": {
     "slide_type": "fragment"
    }
   },
   "outputs": [
    {
     "name": "stdout",
     "output_type": "stream",
     "text": [
      "a_22 = 5\n"
     ]
    }
   ],
   "source": [
    "print(\"a_22 =\", A[1,1]) "
   ]
  },
  {
   "cell_type": "markdown",
   "metadata": {
    "slideshow": {
     "slide_type": "subslide"
    }
   },
   "source": [
    "Note that indexing starts at 0 in Python. Therefore A[0,0] is the number in the first row and first column of $\\mathbf{A}$, i.e. $a_{11}$. This can be annoying at first, but you get used to it!\n",
    "\n",
    "If you want to be fancy and print subscripts to screen, you can use unicode characters. For example:"
   ]
  },
  {
   "cell_type": "code",
   "execution_count": 3,
   "metadata": {
    "slideshow": {
     "slide_type": "fragment"
    }
   },
   "outputs": [
    {
     "name": "stdout",
     "output_type": "stream",
     "text": [
      "a₂₂ = 5\n"
     ]
    }
   ],
   "source": [
    "print(\"a\\u2082\\u2082 =\", A[1,1])  "
   ]
  },
  {
   "cell_type": "markdown",
   "metadata": {
    "slideshow": {
     "slide_type": "fragment"
    }
   },
   "source": [
    "or:"
   ]
  },
  {
   "cell_type": "code",
   "execution_count": 4,
   "metadata": {
    "slideshow": {
     "slide_type": "fragment"
    }
   },
   "outputs": [
    {
     "name": "stdout",
     "output_type": "stream",
     "text": [
      "a₂₂ = 5\n"
     ]
    }
   ],
   "source": [
    "print(\"a₂₂ =\", A[1][1])  "
   ]
  },
  {
   "cell_type": "markdown",
   "metadata": {
    "slideshow": {
     "slide_type": "slide"
    }
   },
   "source": [
    "The index `-1` is a shortcut for the last index, e.g.: "
   ]
  },
  {
   "cell_type": "code",
   "execution_count": 5,
   "metadata": {
    "slideshow": {
     "slide_type": "fragment"
    }
   },
   "outputs": [
    {
     "name": "stdout",
     "output_type": "stream",
     "text": [
      "A[0,-1] = 4\n",
      "A[-1,-1] = 7\n"
     ]
    }
   ],
   "source": [
    "print(\"A[0,-1] =\", A[0][-1]) #row 0 (i.e. first row), last column\n",
    "print(\"A[-1,-1] =\", A[-1][-1]) #last row, last column  "
   ]
  },
  {
   "cell_type": "markdown",
   "metadata": {
    "slideshow": {
     "slide_type": "slide"
    }
   },
   "source": [
    "We can also print out a specific row:"
   ]
  },
  {
   "cell_type": "code",
   "execution_count": 6,
   "metadata": {
    "slideshow": {
     "slide_type": "fragment"
    }
   },
   "outputs": [
    {
     "name": "stdout",
     "output_type": "stream",
     "text": [
      "Row two of A\n",
      "[-4  5  7]\n"
     ]
    }
   ],
   "source": [
    "# Print the second row of the matrix\n",
    "print('Row two of A')\n",
    "print(A[1,:])"
   ]
  },
  {
   "cell_type": "markdown",
   "metadata": {
    "slideshow": {
     "slide_type": "fragment"
    }
   },
   "source": [
    "or specific elements of a row:"
   ]
  },
  {
   "cell_type": "code",
   "execution_count": 7,
   "metadata": {
    "slideshow": {
     "slide_type": "fragment"
    }
   },
   "outputs": [
    {
     "name": "stdout",
     "output_type": "stream",
     "text": [
      "First two elements of Row two of A\n",
      "[-4  5]\n"
     ]
    }
   ],
   "source": [
    "# Print the first two elements of the second row of the matrix\n",
    "# Notice that we use 0:2 to refer to the first two columns, i.e. indices 0 and 1\n",
    "print('First two elements of Row two of A')\n",
    "print(A[1,0:2])"
   ]
  },
  {
   "cell_type": "markdown",
   "metadata": {
    "slideshow": {
     "slide_type": "fragment"
    }
   },
   "source": [
    "And of course, we can do this for columns as well."
   ]
  },
  {
   "cell_type": "markdown",
   "metadata": {
    "slideshow": {
     "slide_type": "subslide"
    }
   },
   "source": [
    "For more info on 'slicing' NumPy arrays, a good reference (and in the context of machine learning) is:\n",
    "\n",
    "https://machinelearningmastery.com/index-slice-reshape-numpy-arrays-machine-learning-python/"
   ]
  },
  {
   "cell_type": "markdown",
   "metadata": {
    "slideshow": {
     "slide_type": "slide"
    }
   },
   "source": [
    "#### Order of a matrix\n",
    "\n",
    "- The **order** of a matrix with $m$ rows and $n$ columns is $m \\times n$ (read '$m$ by $n$')\n",
    "  - So, for example, the order of matrix  $\\mathbf{A}$ defined above is $2 \\times 3$ (we do not multiply 2 by 3).\n",
    "- In Python, we can use the `shape` function to determine the order of a matrix."
   ]
  },
  {
   "cell_type": "code",
   "execution_count": 8,
   "metadata": {
    "slideshow": {
     "slide_type": "fragment"
    }
   },
   "outputs": [
    {
     "name": "stdout",
     "output_type": "stream",
     "text": [
      "The order of matrix A is (2, 3)\n"
     ]
    }
   ],
   "source": [
    "print('The order of matrix A is',A.shape)"
   ]
  },
  {
   "cell_type": "markdown",
   "metadata": {
    "slideshow": {
     "slide_type": "slide"
    }
   },
   "source": [
    "#### Special matrices\n",
    "\n",
    "##### Vectors\n",
    "\n",
    "A vector is a matrix with only one row, or only one column.\n",
    "- A vector with only one row is called a **row vector**\n",
    "- A vector with only one column is called a **column vector**\n",
    "\n",
    "We may be tempted to create a vector $\\mathbf{v} $ just as an array as follows (note, names of vectors are usually *lower-case* and bold):"
   ]
  },
  {
   "cell_type": "code",
   "execution_count": 9,
   "metadata": {
    "slideshow": {
     "slide_type": "fragment"
    }
   },
   "outputs": [
    {
     "name": "stdout",
     "output_type": "stream",
     "text": [
      "v =\n",
      " [1 2 3]\n"
     ]
    }
   ],
   "source": [
    "v = np.array([1,2,3])\n",
    "print('v =\\n',v)"
   ]
  },
  {
   "cell_type": "markdown",
   "metadata": {
    "slideshow": {
     "slide_type": "subslide"
    }
   },
   "source": [
    "However, let's check the order of $\\mathbf{v}$:"
   ]
  },
  {
   "cell_type": "code",
   "execution_count": 10,
   "metadata": {
    "slideshow": {
     "slide_type": "fragment"
    }
   },
   "outputs": [
    {
     "name": "stdout",
     "output_type": "stream",
     "text": [
      "(3,)\n"
     ]
    }
   ],
   "source": [
    "print(v.shape)"
   ]
  },
  {
   "cell_type": "markdown",
   "metadata": {
    "slideshow": {
     "slide_type": "subslide"
    }
   },
   "source": [
    "Note that the shape of $\\mathbf{v}$ is stated as (3,). \n",
    "\n",
    "If $\\mathbf{v}$ is created as above, it can be treated as either a $3 \\times 1$ or $1 \\times 3$ vector.\n",
    "However, it is important that we know which it actually is (e.g. for matrix multiplication, covered below)."
   ]
  },
  {
   "cell_type": "markdown",
   "metadata": {
    "slideshow": {
     "slide_type": "slide"
    }
   },
   "source": [
    "So instead we can create a row vector as follows:"
   ]
  },
  {
   "cell_type": "code",
   "execution_count": 11,
   "metadata": {
    "slideshow": {
     "slide_type": "fragment"
    }
   },
   "outputs": [
    {
     "name": "stdout",
     "output_type": "stream",
     "text": [
      "w =\n",
      " [[1 2 3]]\n",
      "(1, 3)\n"
     ]
    }
   ],
   "source": [
    "# Create a 1 x 3 row vector\n",
    "w = np.array([[1,2,3]])\n",
    "print('w =\\n',w)\n",
    "print(w.shape)"
   ]
  },
  {
   "cell_type": "markdown",
   "metadata": {
    "slideshow": {
     "slide_type": "subslide"
    }
   },
   "source": [
    "And we can create a column vector as follows (however, see the section on transpose for a more convenient way):"
   ]
  },
  {
   "cell_type": "code",
   "execution_count": 12,
   "metadata": {
    "slideshow": {
     "slide_type": "fragment"
    }
   },
   "outputs": [
    {
     "name": "stdout",
     "output_type": "stream",
     "text": [
      "\n",
      "x =\n",
      " [[1]\n",
      " [2]\n",
      " [3]]\n",
      "(3, 1)\n"
     ]
    }
   ],
   "source": [
    "# Create a 3 x 1 column vector\n",
    "x = np.array([[1],[2],[3]])\n",
    "print('\\nx =\\n',x)\n",
    "print(x.shape)"
   ]
  },
  {
   "cell_type": "markdown",
   "metadata": {
    "slideshow": {
     "slide_type": "slide"
    }
   },
   "source": [
    "##### Square matrices\n",
    "\n",
    "A **square** matrix has the same number of rows as columns. For example: \n",
    "\n",
    "\\begin{equation*}\n",
    "F = \\begin{bmatrix} 5 & 6 & 1 \\\\ -4 & 5 & -3 \\\\ 0 & 3 & 2 \\end{bmatrix}\n",
    "\\end{equation*}\n",
    "\n",
    "is a square matrix, because it has 3 rows and 3 columns."
   ]
  },
  {
   "cell_type": "code",
   "execution_count": 13,
   "metadata": {
    "slideshow": {
     "slide_type": "fragment"
    }
   },
   "outputs": [
    {
     "name": "stdout",
     "output_type": "stream",
     "text": [
      "[[ 5  6  1]\n",
      " [-4  5 -3]\n",
      " [ 0  3  2]]\n",
      "(3, 3)\n"
     ]
    }
   ],
   "source": [
    "F = np.array([[5,6,1],[-4,5,-3],[0,3,2]])\n",
    "print(F)\n",
    "print(F.shape)"
   ]
  },
  {
   "cell_type": "markdown",
   "metadata": {
    "slideshow": {
     "slide_type": "slide"
    }
   },
   "source": [
    "In a square matrix, the diagonal of numbers from top left to bottom right is called the **leading diagonal** (or the **principal diagonal**)."
   ]
  },
  {
   "cell_type": "markdown",
   "metadata": {
    "slideshow": {
     "slide_type": "slide"
    }
   },
   "source": [
    "##### Identity matrix\n",
    "\n",
    "The **identity matrix** is a square matrix which has ones along the leading diagonal, and zeroes everywhere else. The $n \\times n$ identity matrix is denoted by $\\mathbf{I}_{n}$. For example:\n",
    "\\begin{equation*}\n",
    "\\mathbf{I}_3 = \\begin{bmatrix} 1 & 0 & 0 \\\\\n",
    "0 & 1 & 0 \\\\\n",
    "0 & 0 & 1\n",
    "\\end{bmatrix}\n",
    "\\end{equation*}\n",
    "\n",
    "We can create an identity matrix in Python using the following code:"
   ]
  },
  {
   "cell_type": "code",
   "execution_count": 14,
   "metadata": {
    "slideshow": {
     "slide_type": "fragment"
    }
   },
   "outputs": [
    {
     "name": "stdout",
     "output_type": "stream",
     "text": [
      "\n",
      "I =\n",
      " [[1. 0. 0.]\n",
      " [0. 1. 0.]\n",
      " [0. 0. 1.]]\n"
     ]
    }
   ],
   "source": [
    "# Create a 3 x 3 identity matrix\n",
    "I = np.eye(3)\n",
    "print('\\nI =\\n',I)"
   ]
  },
  {
   "cell_type": "markdown",
   "metadata": {
    "slideshow": {
     "slide_type": "slide"
    }
   },
   "source": [
    "##### Zero matrix\n",
    "\n",
    "The **zero matrix** (or **null matrix**) is a matrix with every element zero. It does not need to be square. \n",
    "\n",
    "We can create a zero matrix in Python using the following code:"
   ]
  },
  {
   "cell_type": "code",
   "execution_count": 15,
   "metadata": {
    "slideshow": {
     "slide_type": "fragment"
    }
   },
   "outputs": [
    {
     "name": "stdout",
     "output_type": "stream",
     "text": [
      "B =\n",
      " [[0. 0. 0.]\n",
      " [0. 0. 0.]\n",
      " [0. 0. 0.]\n",
      " [0. 0. 0.]\n",
      " [0. 0. 0.]]\n"
     ]
    }
   ],
   "source": [
    "# Create a 5 x 3 matrix of zeros\n",
    "B = np.zeros((5,3))\n",
    "print('B =\\n',B)"
   ]
  },
  {
   "cell_type": "markdown",
   "metadata": {
    "slideshow": {
     "slide_type": "slide"
    }
   },
   "source": [
    "##### Matrix of ones\n",
    "\n",
    "A **matrix of ones** (or **all-ones matrix**) is a matrix where every element is equal to one. It is also sometimes called a **unit matrix**.\n",
    "\n",
    "We can create a matrix of ones in Python as follows:"
   ]
  },
  {
   "cell_type": "code",
   "execution_count": 16,
   "metadata": {
    "slideshow": {
     "slide_type": "fragment"
    }
   },
   "outputs": [
    {
     "name": "stdout",
     "output_type": "stream",
     "text": [
      "\n",
      "C =\n",
      " [[1. 1.]\n",
      " [1. 1.]\n",
      " [1. 1.]]\n"
     ]
    }
   ],
   "source": [
    "# Create a 3 x 2 matrix of ones\n",
    "C = np.ones((3,2))\n",
    "print('\\nC =\\n',C)"
   ]
  },
  {
   "cell_type": "markdown",
   "metadata": {
    "slideshow": {
     "slide_type": "slide"
    }
   },
   "source": [
    "##### Other matrices\n",
    "\n",
    "We can create a matrix of random numbers using:"
   ]
  },
  {
   "cell_type": "code",
   "execution_count": 17,
   "metadata": {
    "slideshow": {
     "slide_type": "fragment"
    }
   },
   "outputs": [
    {
     "name": "stdout",
     "output_type": "stream",
     "text": [
      "\n",
      "D =\n",
      " [[0.17966605 0.20106432 0.04518572]\n",
      " [0.50228958 0.23299641 0.99896609]\n",
      " [0.17789557 0.78684618 0.77343693]]\n"
     ]
    }
   ],
   "source": [
    "# Create a 3 x 3 random matrix\n",
    "D = np.random.random((3,3))\n",
    "print('\\nD =\\n',D)"
   ]
  },
  {
   "cell_type": "markdown",
   "metadata": {
    "slideshow": {
     "slide_type": "subslide"
    }
   },
   "source": [
    "We can create a constant matrix, where every element is equal, using:"
   ]
  },
  {
   "cell_type": "code",
   "execution_count": 18,
   "metadata": {
    "slideshow": {
     "slide_type": "fragment"
    }
   },
   "outputs": [
    {
     "name": "stdout",
     "output_type": "stream",
     "text": [
      "\n",
      "E =\n",
      " [[5 5 5 5]\n",
      " [5 5 5 5]]\n"
     ]
    }
   ],
   "source": [
    "E = np.full((2,4), 5)\n",
    "print('\\nE =\\n',E)"
   ]
  },
  {
   "cell_type": "markdown",
   "metadata": {
    "slideshow": {
     "slide_type": "slide"
    }
   },
   "source": [
    "## Matrix operations\n",
    "\n",
    "#### Matrix transpose\n",
    "\n",
    "The transpose of a matrix $\\mathbf{A}$, written $\\mathbf{A}^{T}$, is the matrix obtained by writing the rows of $\\mathbf{A}$ (in order from top to bottom) as columns (from left to right). So if $\\mathbf{A}$ is a $m \\times n$ matrix, then $\\mathbf{A}^{T}$ is a $n \\times m$ matrix.\n",
    "\n",
    "For example, the transpose of $\n",
    "\\mathbf{A} = \\begin{bmatrix}  2 & 1 & 3 \\\\\n",
    "-4 & 5 & 7 \\end{bmatrix}$\n",
    "is \n",
    "$\\mathbf{A}^{T} = \\begin{bmatrix} 2 & -4 \\\\\n",
    "1 & 5 \\\\\n",
    "3 & 7 \\end{bmatrix}$\n",
    "\n",
    "- The first row of $\\mathbf{A}$ is the first column of $\\mathbf{A}^T$\n",
    "- The second row of $\\mathbf{A}$ is the second column of $\\mathbf{A}^T$.\n",
    "\n",
    "The cell below shows how to take the transpose of a matrix in Python:"
   ]
  },
  {
   "cell_type": "code",
   "execution_count": 19,
   "metadata": {
    "slideshow": {
     "slide_type": "subslide"
    }
   },
   "outputs": [
    {
     "name": "stdout",
     "output_type": "stream",
     "text": [
      "Transpose of A\n",
      "[[ 2 -4]\n",
      " [ 1  5]\n",
      " [ 4  7]]\n"
     ]
    }
   ],
   "source": [
    "# Obtain the transpose of a matrix\n",
    "print('Transpose of A')\n",
    "print(A.T)"
   ]
  },
  {
   "cell_type": "markdown",
   "metadata": {
    "slideshow": {
     "slide_type": "subslide"
    }
   },
   "source": [
    "Transpose gives us a convenient way to create column vectors:"
   ]
  },
  {
   "cell_type": "code",
   "execution_count": 20,
   "metadata": {
    "slideshow": {
     "slide_type": "fragment"
    }
   },
   "outputs": [
    {
     "name": "stdout",
     "output_type": "stream",
     "text": [
      "\n",
      "y =\n",
      " [[1]\n",
      " [2]\n",
      " [3]]\n",
      "(3, 1)\n"
     ]
    }
   ],
   "source": [
    "# Alternative way to create a 3 x 1 column vector using transpose:\n",
    "y = np.array([[1,2,3]]).T\n",
    "print('\\ny =\\n',y)\n",
    "print(y.shape)"
   ]
  },
  {
   "cell_type": "markdown",
   "metadata": {
    "slideshow": {
     "slide_type": "slide"
    }
   },
   "source": [
    "#### Addition and subtraction of matrices\n",
    "\n",
    "Two matrices $\\mathbf{A}$ and $\\mathbf{B}$ can only be added / subtracted if they have the same order.\n",
    "\n",
    "The sum of $\\mathbf{A}$ and $\\mathbf{B}$, written as $\\mathbf{A} + \\mathbf{B}$, is the matrix obtained by adding corresponding elements from $\\mathbf{A}$ and $\\mathbf{B}$.  \n",
    "  - So if $\\mathbf{C} = \\mathbf{A} + \\mathbf{B}$, then $c_{ij} = a_{ij} + b_{ij}$\n",
    "\n",
    "Similarly, $\\mathbf{A} - \\mathbf{B}$ is the matrix obtained by subtracting the elements of $\\mathbf{B}$ from the corresponding elements of $\\mathbf{A}$.\n",
    "  - So if $\\mathbf{D} = \\mathbf{A} - \\mathbf{B}$, then $d_{ij} = a_{ij} - b_{ij}$\n",
    "\n"
   ]
  },
  {
   "cell_type": "markdown",
   "metadata": {
    "slideshow": {
     "slide_type": "slide"
    }
   },
   "source": [
    "$\\mathbf{C}$ has the same order as $\\mathbf{A}^T$, so they can be added together as follows:"
   ]
  },
  {
   "cell_type": "code",
   "execution_count": 21,
   "metadata": {
    "slideshow": {
     "slide_type": "fragment"
    }
   },
   "outputs": [
    {
     "name": "stdout",
     "output_type": "stream",
     "text": [
      "\n",
      "C + A.T\n",
      "[[ 3. -3.]\n",
      " [ 2.  6.]\n",
      " [ 5.  8.]]\n"
     ]
    }
   ],
   "source": [
    "# Add C to the transpose of A\n",
    "print('\\nC + A.T')\n",
    "print(C + A.T)"
   ]
  },
  {
   "cell_type": "markdown",
   "metadata": {
    "slideshow": {
     "slide_type": "slide"
    }
   },
   "source": [
    "In Python, we can restrict operations such as addition to specific elements of a matrix. For example:"
   ]
  },
  {
   "cell_type": "code",
   "execution_count": 22,
   "metadata": {
    "slideshow": {
     "slide_type": "fragment"
    }
   },
   "outputs": [
    {
     "name": "stdout",
     "output_type": "stream",
     "text": [
      "Updated matrix\n",
      "[[ 3  2  4]\n",
      " [-3  6  7]]\n"
     ]
    }
   ],
   "source": [
    "# Add 1 to each element in the first two columns and then print the updated matrix\n",
    "A[:,0:2] = A[:,0:2] + 1\n",
    "print('Updated matrix')\n",
    "print(A)"
   ]
  },
  {
   "cell_type": "markdown",
   "metadata": {
    "slideshow": {
     "slide_type": "slide"
    }
   },
   "source": [
    "#### Scalar multiplication of a matrix\n",
    "\n",
    "To multiply a matrix $\\mathbf{A}$ by a scalar $k$, we simply multiply each element of $\\mathbf{A}$ by $k$.\n",
    "\n",
    "In the cell below we calculate $5\\mathbf{C}$:"
   ]
  },
  {
   "cell_type": "code",
   "execution_count": 23,
   "metadata": {
    "slideshow": {
     "slide_type": "fragment"
    }
   },
   "outputs": [
    {
     "name": "stdout",
     "output_type": "stream",
     "text": [
      "\n",
      "5C\n",
      "[[5. 5.]\n",
      " [5. 5.]\n",
      " [5. 5.]]\n"
     ]
    }
   ],
   "source": [
    "# Scalar multiplication\n",
    "print('\\n5C')\n",
    "print(5*C)"
   ]
  },
  {
   "cell_type": "markdown",
   "metadata": {
    "slideshow": {
     "slide_type": "slide"
    }
   },
   "source": [
    "#### Matrix Multiplication and Powers\n",
    "\n",
    "Consider the $n \\times p$ matrix $\\mathbf{A}$, and the $r \\times q$ matrix $\\mathbf{B}$:\n",
    "  - The multiplication $\\mathbf{AB}$ can only be carried out if $p = r$. That is, if the number of columns of $\\mathbf{A}$ equals the number of rows of $\\mathbf{B}$. \n",
    "  - The order of the resulting matrix is $n \\times q$.\n",
    "\n",
    "If the order of $\\mathbf{A}$ is $n \\times p$ and the order of $\\mathbf{B}$ is $p \\times q$, then the product $\\mathbf{AB}$ gives a $n \\times q$ matrix $\\mathbf{C}$ whose elements are given by $ c_{ij} = \\sum_{k = 1}^{p} a_{ik} b_{kj}$\n",
    "\n",
    "In words, to get the element in row $i$ and column $j$ of matrix $\\mathbf{C} = \\mathbf{AB}$, work along row $i$ of matrix $\\mathbf{A}$, and down column $j$ of matrix $\\mathbf{B}$, adding together the products of corresponding elements. This is illustrated below.\n"
   ]
  },
  {
   "cell_type": "markdown",
   "metadata": {
    "slideshow": {
     "slide_type": "subslide"
    }
   },
   "source": [
    "![MLR51](Images/matrix-multiplication-1.png)\n",
    "\n",
    "Note, matrix multiplication is **non-commutative**: this means in general $\\mathbf{AB} \\neq \\mathbf{BA}$. In fact, one multiplication may be possible where the other may not be."
   ]
  },
  {
   "cell_type": "markdown",
   "metadata": {
    "slideshow": {
     "slide_type": "slide"
    }
   },
   "source": [
    "#### Worked example of matrix multiplication\n",
    "\n",
    "Calculate $\\mathbf{C} = \\mathbf{AB}$, where $\\mathbf{A} = \\begin{bmatrix} 2 & 1 & 3 & 4\\\\\n",
    "-4 & 5 & 7 & -1\\end{bmatrix}$ and $\\mathbf{B} =  \\begin{bmatrix}\n",
    "1 & 0 & 3 \\\\\n",
    "-2 & 2 & 4 \\\\\n",
    "0 & 3 & 5 \\\\\n",
    "4 & 6 & 1\\end{bmatrix} $"
   ]
  },
  {
   "cell_type": "markdown",
   "metadata": {
    "slideshow": {
     "slide_type": "subslide"
    }
   },
   "source": [
    "The entry $c_{11}$ in the *first* row and *first* column of $\\mathbf{C} = \\mathbf{AB}$ is given by summing the products of the entries in the *first* row of $\\mathbf{A}$ with the entries of the *first* column of $\\mathbf{B}$:\n",
    "\n",
    "![MLR51](Images/c11.png)"
   ]
  },
  {
   "cell_type": "markdown",
   "metadata": {
    "slideshow": {
     "slide_type": "subslide"
    }
   },
   "source": [
    "The entry $c_{12}$ in the *first* row and *second* column of $\\mathbf{C} = \\mathbf{AB}$ is given by summing the products of the entries in the *first* row of $\\mathbf{A}$ with the entries of the *second* column of $\\mathbf{B}$:\n",
    "\n",
    "![MLR51](Images/c12.png)"
   ]
  },
  {
   "cell_type": "markdown",
   "metadata": {
    "slideshow": {
     "slide_type": "subslide"
    }
   },
   "source": [
    "The entry $c_{13}$ in the *first* row and *third* column of $\\mathbf{C} = \\mathbf{AB}$ is given by summing the products of the entries in the *first* row of $\\mathbf{A}$ with the entries of the *third* column of $\\mathbf{B}$:\n",
    "\n",
    "![MLR51](Images/c13.png)"
   ]
  },
  {
   "cell_type": "markdown",
   "metadata": {
    "slideshow": {
     "slide_type": "subslide"
    }
   },
   "source": [
    "The entry $c_{21}$ in the *second* row and *first* column of $\\mathbf{C} = \\mathbf{AB}$ is given by summing the products of the entries in the *second* row of $\\mathbf{A}$ with the entries of the *first* column of $\\mathbf{B}$:\n",
    "\n",
    "![MLR51](Images/c21.png)"
   ]
  },
  {
   "cell_type": "markdown",
   "metadata": {
    "slideshow": {
     "slide_type": "subslide"
    }
   },
   "source": [
    "The entry $c_{22}$ in the *second* row and *second* column of $\\mathbf{C} = \\mathbf{AB}$ is given by summing the products of the entries in the *second* row of $\\mathbf{A}$ with the entries of the *second* column of $\\mathbf{B}$:\n",
    "\n",
    "![MLR51](Images/c22.png)"
   ]
  },
  {
   "cell_type": "markdown",
   "metadata": {
    "slideshow": {
     "slide_type": "subslide"
    }
   },
   "source": [
    "The entry $c_{23}$ in the *second* row and *third* column of $\\mathbf{C} = \\mathbf{AB}$ is given by summing the products of the entries in the *second* row of $\\mathbf{A}$ with the entries of the *third* column of $\\mathbf{B}$:\n",
    "\n",
    "![MLR51](Images/c23.png)"
   ]
  },
  {
   "cell_type": "markdown",
   "metadata": {
    "slideshow": {
     "slide_type": "subslide"
    }
   },
   "source": [
    "So overall, $\\mathbf{C} = \\begin{bmatrix} 16 & 35 & 29\\\\\n",
    "-18 & 25 & 42\\end{bmatrix}$"
   ]
  },
  {
   "cell_type": "code",
   "execution_count": 24,
   "metadata": {
    "slideshow": {
     "slide_type": "fragment"
    }
   },
   "outputs": [
    {
     "name": "stdout",
     "output_type": "stream",
     "text": [
      "AB\n",
      "[[ 16  35  29]\n",
      " [-18  25  42]]\n"
     ]
    }
   ],
   "source": [
    "A = np.array([[2,1,3,4],[-4,5,7,-1]])\n",
    "B = np.array([[1,0,3],[-2,2,4],[0,3,5],[4,6,1]])\n",
    "\n",
    "print('AB')\n",
    "print(A @ B)"
   ]
  },
  {
   "cell_type": "markdown",
   "metadata": {
    "slideshow": {
     "slide_type": "slide"
    }
   },
   "source": [
    "Alternatively, we can use:"
   ]
  },
  {
   "cell_type": "code",
   "execution_count": 25,
   "metadata": {
    "slideshow": {
     "slide_type": "subslide"
    }
   },
   "outputs": [
    {
     "name": "stdout",
     "output_type": "stream",
     "text": [
      "[[ 16  35  29]\n",
      " [-18  25  42]]\n"
     ]
    }
   ],
   "source": [
    "print(np.dot(A,B))"
   ]
  },
  {
   "cell_type": "markdown",
   "metadata": {
    "slideshow": {
     "slide_type": "slide"
    }
   },
   "source": [
    "There is a `np.multiply` method, which performs element-wise multiplication, i.e. $c_{ij} = a_{ij}b_{ij}$.\n",
    "\n",
    "In this case $\\mathbf{A}$ and $\\mathbf{B}$ need to have the same order."
   ]
  },
  {
   "cell_type": "code",
   "execution_count": 26,
   "metadata": {
    "slideshow": {
     "slide_type": "subslide"
    }
   },
   "outputs": [
    {
     "name": "stdout",
     "output_type": "stream",
     "text": [
      "[[ 4  1  9 16]\n",
      " [16 25 49  1]]\n"
     ]
    }
   ],
   "source": [
    "print(np.multiply(A,A))"
   ]
  },
  {
   "cell_type": "markdown",
   "metadata": {
    "slideshow": {
     "slide_type": "subslide"
    }
   },
   "source": [
    "For a $m \\times n$ matrix $\\mathbf{A}$, we have the result: $\\mathbf{I}_{m}\\mathbf{A} = \\mathbf{A}\\mathbf{I}_{n} = \\mathbf{A}$."
   ]
  },
  {
   "cell_type": "markdown",
   "metadata": {
    "slideshow": {
     "slide_type": "slide"
    }
   },
   "source": [
    "#### Integer powers of matrices\n",
    "\n",
    "A square matrix $\\mathbf{A}$ may be raised to integer powers:\n",
    "- $\\mathbf{A}^{2} = \\mathbf{A} \\times \\mathbf{A}$\n",
    "- $\\mathbf{A}^{3} = \\mathbf{A} \\times \\mathbf{A} \\times \\mathbf{A}$\n",
    "- and so on $\\ldots$\n",
    "\n",
    "In Python, we can take powers of matrices using `np.linalg.matrix_power` as follows:"
   ]
  },
  {
   "cell_type": "code",
   "execution_count": 27,
   "metadata": {
    "slideshow": {
     "slide_type": "subslide"
    }
   },
   "outputs": [
    {
     "name": "stdout",
     "output_type": "stream",
     "text": [
      "\n",
      "F^3\n",
      "[[-247  288 -210]\n",
      " [-168 -355  -66]\n",
      " [-144   18  -85]]\n"
     ]
    }
   ],
   "source": [
    "# Cube matrix F\n",
    "print('\\nF^3')\n",
    "print(np.linalg.matrix_power(F,3))"
   ]
  },
  {
   "cell_type": "markdown",
   "metadata": {
    "slideshow": {
     "slide_type": "slide"
    }
   },
   "source": [
    "## Inverse of a Matrix\n",
    "\n",
    "The **inverse** of a square matrix $\\mathbf{A}$ is the matrix $\\mathbf{A}^{-1}$ such that  $\\mathbf{AA}^{-1} = \\mathbf{A}^{-1}\\mathbf{A} = \\mathbf{I}$, where $\\mathbf{I}$ is the identity matrix.\n",
    "\n",
    "A square matrix may or may not have an inverse. \n",
    "\n",
    "- If a matrix *has* an inverse, it is called **invertible** or **non-singular**.\n",
    "\n",
    "- If a matrix *does not* have an inverse, it is called **non-invertible** or **singular**.\n",
    "\n",
    "To determine whether a matrix $\\mathbf{A}$ is singular or not, we can calculate a number called the **determinant** of $\\mathbf{A}$, denoted det $\\mathbf{A}$ or $|\\mathbf{A}|$. $\\mathbf{A}$ is invertible iff $|\\mathbf{A}| \\neq 0$. That is, the inverse of $\\mathbf{A}$ exists iff $|\\mathbf{A}| \\neq 0$."
   ]
  },
  {
   "cell_type": "markdown",
   "metadata": {},
   "source": [
    "#### Inverse of a $2 \\times 2$ matrix\n",
    "\n",
    "Calculating the determinant is a simple process for $2 \\times 2$ matrices. Consider the $2 \\times 2$ matrix :\n",
    "\n",
    "$\\mathbf{A} = \\begin{bmatrix} a & b\\\\\n",
    "c & d\\end{bmatrix}$\n",
    "\n",
    "The **determinant** of $\\mathbf{A}$, denoted det $\\mathbf{A}$ or $|\\mathbf{A}|$, is the number $ad - bc$.\n",
    "\n",
    "The inverse of $\\mathbf{A}$ exists iff $|\\mathbf{A}| \\neq 0$.\n",
    "\n",
    "If $|\\mathbf{A}| \\neq 0$, then $\\mathbf{A}^{-1} = \\dfrac{1}{|\\mathbf{A}|} \\begin{bmatrix} d & -b \\\\ -c & a\\end{bmatrix}$.\n"
   ]
  },
  {
   "cell_type": "markdown",
   "metadata": {
    "slideshow": {
     "slide_type": "subslide"
    }
   },
   "source": [
    "##### Example 1\n",
    "\n",
    "Determine the inverse of $ \\mathbf{A} = \\begin{bmatrix} 5 & 3 \\\\ 4 & 8 \\end{bmatrix} $\n",
    "\n",
    "$|\\mathbf{A}| = (5 \\times 8) - (3 \\times 4) = 40 - 12 = 28$. \n",
    "\n",
    "So $\\mathbf{A}^{-1} = \\dfrac{1}{28} \\begin{bmatrix} 8 & -3 \\\\ -4 & 5 \\end{bmatrix}$"
   ]
  },
  {
   "cell_type": "markdown",
   "metadata": {
    "slideshow": {
     "slide_type": "subslide"
    }
   },
   "source": [
    "##### Example 2\n",
    "\n",
    "Determine the inverse of $ \\mathbf{B} = \\begin{bmatrix} 3 & 6 \\\\ 2 & 4 \\end{bmatrix} $\n",
    "\n",
    "$|\\mathbf{B}| = (3 \\times 4) - (2 \\times 6) = 12 - 12 = 0$. So $\\mathbf{B}^{-1}$ does not exist."
   ]
  },
  {
   "cell_type": "markdown",
   "metadata": {
    "slideshow": {
     "slide_type": "subslide"
    }
   },
   "source": [
    "#### Calculating determinants and inverses in Python\n",
    "\n",
    "We will use the function `det` from `linalg` to compute the determinant and another function `inv` to compute the inverse. \n",
    "\n",
    "Note, however, that `inv` may well generate an answer even for a singular matrix so we must be careful. We should check the determinant using `det` and if it is very close to zero the matrix may be singular. (Because computer representations of numbers have a finite precision, there can be numerical errors so the determinant of a singular matrix might not come out as exactly zero.)\n",
    "\n",
    "When we compute an inverse we can always check the solution. For example, if we calculate the inverse of the $3 \\times 3$ matrix $\\mathbf{F}$ we can check that when multiplied by the original matrix $\\mathbf{F}$ it gives the $3 \\times 3$ identity matrix."
   ]
  },
  {
   "cell_type": "code",
   "execution_count": 28,
   "metadata": {
    "slideshow": {
     "slide_type": "subslide"
    }
   },
   "outputs": [
    {
     "name": "stdout",
     "output_type": "stream",
     "text": [
      "Determinant of F\n",
      "131.00000000000006\n",
      "\n",
      "Inverse of F\n",
      "[[ 0.14503817 -0.06870229 -0.17557252]\n",
      " [ 0.0610687   0.07633588  0.08396947]\n",
      " [-0.09160305 -0.11450382  0.3740458 ]]\n",
      "\n",
      "Check F x F_inv = I\n",
      "[[ 1.00000000e+00 -1.38777878e-17 -5.55111512e-17]\n",
      " [ 0.00000000e+00  1.00000000e+00  1.66533454e-16]\n",
      " [ 2.77555756e-17  2.77555756e-17  1.00000000e+00]]\n"
     ]
    }
   ],
   "source": [
    "# Determinant of matrix F\n",
    "print('Determinant of F')\n",
    "print(np.linalg.det(F))\n",
    "\n",
    "# Inverse of F\n",
    "F_inv = np.linalg.inv(F)\n",
    "print('\\nInverse of F')\n",
    "print(F_inv)\n",
    "\n",
    "# Check F * F_inv\n",
    "print('\\nCheck F x F_inv = I')\n",
    "print(F @ F_inv)"
   ]
  },
  {
   "cell_type": "markdown",
   "metadata": {
    "slideshow": {
     "slide_type": "slide"
    }
   },
   "source": [
    "## Solving Simultaneous Equations\n",
    "\n",
    "Consider the simultaneous equations:\n",
    "\\begin{eqnarray}\n",
    "ax_{1} + bx_{2} & = & y_{1}\\label{eq:sima}\\\\\n",
    "cx_{1} + dx_{2} & = & y_{2}\\label{eq:simb}\n",
    "\\end{eqnarray}\n",
    "where $a,b,c,d,y_{1},y_{2}$ are constants (the values of which we know) and $x_{1},x_{2}$ are variables whose value we need to determine.\n",
    "\n",
    "We can rewrite these equations using matrices as \n",
    "\\begin{equation} \\mathbf{Ax} = \\mathbf{y} \\end{equation} \n",
    "where\n",
    "$\\mathbf{A} = \\begin{bmatrix}\n",
    "a & b\\\\\n",
    "c & d\\end{bmatrix}$, $\\mathbf{x} = \\begin{bmatrix}\n",
    "x_{1}\\\\\n",
    "x_{2}\\end{bmatrix}$ and $\\mathbf{y} = \\begin{bmatrix}\n",
    "y_{1}\\\\\n",
    "y_{2}\\end{bmatrix}$\n",
    "\n",
    "To solve for $\\mathbf{x}$ we rearrange $\\mathbf{Ax} = \\mathbf{y}$  to be in the form $\\mathbf{x} = \\ldots$.\n",
    "\n",
    "We do this by (left) multiplying both sides of $\\mathbf{Ax} = \\mathbf{y}$ by $\\mathbf{A}^{-1}$:\n",
    "\n",
    "\\begin{align*}{}\n",
    "\\mathbf{A}^{-1}\\mathbf{Ax} & = \\mathbf{A}^{-1}\\mathbf{y}\\nonumber\\\\\n",
    "\\mathbf{Ix} & = \\mathbf{A}^{-1}\\mathbf{y} \\qquad \\textsf{because } \\mathbf{A}^{-1}\\mathbf{A} = \\mathbf{I} \\nonumber\\\\\n",
    "\\mathbf{x} & = \\mathbf{A}^{-1}\\mathbf{y} \\qquad \\textsf{because } \\mathbf{Ix} = \\mathbf{x}\\nonumber\n",
    "\\end{align*}\n",
    "\n",
    "In the case of two simulteanous equations, we can do these matrix calculations by hand, because we know how to calculate the inverse of a $2 \\times 2$ matrix.\n",
    "\n",
    "##### Example\n",
    "\n",
    "Using matrices, solve the simultaneous equations:\n",
    "\\begin{eqnarray}\n",
    "2x_{1} + x_{2} & = 3\\nonumber\\\\\n",
    "x_{1} + 3x_{2} & = -1 \\nonumber\n",
    "\\end{eqnarray}\n",
    "\n",
    "Let $\\mathbf{A} = \\begin{bmatrix}\n",
    "2 & 1\\\\\n",
    "1 & 3\\end{bmatrix}$, $\\mathbf{x} = \\begin{bmatrix}\n",
    "x_{1}\\\\\n",
    "x_{2}\\end{bmatrix}$ and $\\mathbf{y} = \\begin{bmatrix}\n",
    "3\\\\\n",
    "-1\\end{bmatrix}$\n",
    "\n",
    "Then $\\mathbf{Ax} = \\mathbf{y}$, so $\\mathbf{x} = \\mathbf{A}^{-1}\\mathbf{y}$. \n",
    "\n",
    "Now check that $\\mathbf{A}^{-1}$ exists: $|\\mathbf{A}| = (2 \\times 3) - (1 \\times 1) = 6-1 = 5 \\neq 0$\n",
    "\n",
    "So $\\mathbf{A}^{-1}$ exists and is given by:\n",
    "\n",
    "$\\mathbf{A}^{-1} = \\dfrac{1}{|A|}\\begin{bmatrix}\n",
    "d & -b\\\\\n",
    "-c & a\\end{bmatrix} = \\dfrac{1}{5}\\begin{bmatrix}\n",
    "3 & -1\\\\\n",
    "-1 & 2\\end{bmatrix}$\n",
    "\n",
    "Using $\\mathbf{x} = \\mathbf{A}^{-1}\\mathbf{y}$ we have: \n",
    "\n",
    "$\\mathbf{x} = \\dfrac{1}{5}\\begin{bmatrix}\n",
    "3 & -1\\\\\n",
    "-1 & 2\\end{bmatrix} \\begin{bmatrix}\n",
    "3\\\\\n",
    "-1\\end{bmatrix} = \\dfrac{1}{5}\\begin{bmatrix}\n",
    "(3 \\times 3) + (-1 \\times -1)\\\\\n",
    "(-1 \\times 3) + (2 \\times -1) \\end{bmatrix} = \\dfrac{1}{5}\\begin{bmatrix}\n",
    "10\\\\\n",
    "-5  \\end{bmatrix} =\\begin{bmatrix}\n",
    "2\\\\\n",
    "-1 \\end{bmatrix}$\n",
    "\n",
    "i.e. $x_{1} = 2, x_{2} = -1$ "
   ]
  },
  {
   "cell_type": "markdown",
   "metadata": {
    "slideshow": {
     "slide_type": "slide"
    }
   },
   "source": [
    "#### Solving simultaneous equations using Python\n",
    "            \n",
    "With a computer we can solve much larger problems than two simultaneous equations with two unknowns. Here we illustrate a case with just three equations and three unknowns (which could be done by hand without too much extra work). \n",
    "\n",
    "Determine the solution to the following equations, i.e. determine the values of $x_1, x_2, x_3$.\n",
    "\n",
    "\\begin{align}\n",
    "2x_1 + 3x_2 + x_3 & = 1 \\\\\n",
    "x_1  + 5x_2 + 3x_3 & = 4 \\\\\n",
    "7x_1 + x_2 + 2x_3 & = 2\n",
    "\\end{align}\n",
    "\n",
    "As before, we can represent this using matrices as $\\mathbf{Ax} = \\mathbf{y}$, where $\\mathbf{A} = \\begin{bmatrix} 2 & 3 & 1 \\\\ 1 & 5 & 3 \\\\ 7 & 1 & 2 \\end{bmatrix}$, $\\mathbf{y} = \\begin{bmatrix} 1 \\\\ 4 \\\\ 2 \\end{bmatrix}$, and $\\mathbf{x} = \\begin{bmatrix} x_1 \\\\ x_2 \\\\ x_3 \\end{bmatrix}$.\n",
    "\n",
    "To calculate $\\mathbf{x} = \\mathbf{A}^{-1}\\mathbf{y}$, we can use the function `solve` from `linalg`, as shown in the cell below. Note that as with the computation of inverses:\n",
    "- we should check that $|\\mathbf{A}| \\neq 0$: if $|\\mathbf{A}| = 0$ (or is extremely close to zero) then $\\mathbf{A}$ is singular and there is no solution to the simultaneous equations\n",
    "- once we have a solution $\\mathbf{x}$ we can always use matrix multiplication to check that $\\mathbf{A}$ times $\\mathbf{x}$ does indeed give $\\mathbf{y}$."
   ]
  },
  {
   "cell_type": "code",
   "execution_count": 29,
   "metadata": {
    "slideshow": {
     "slide_type": "slide"
    }
   },
   "outputs": [
    {
     "name": "stdout",
     "output_type": "stream",
     "text": [
      "A\n",
      " [[2 3 1]\n",
      " [1 5 3]\n",
      " [7 1 2]]\n",
      "y\n",
      " [[1]\n",
      " [4]\n",
      " [2]]\n",
      "x\n",
      "[[-0.13513514]\n",
      " [-0.08108108]\n",
      " [ 1.51351351]]\n",
      "\n",
      "So the solution is:\n",
      "x_1 =  -0.13513513513513514\n",
      "x_2 =  -0.08108108108108114\n",
      "x_3 =  1.5135135135135136\n"
     ]
    }
   ],
   "source": [
    "A = np.array([[2,3,1],[1,5,3],[7,1,2]])\n",
    "y = np.array([[1,4,2]]).T\n",
    "print('A\\n',A)\n",
    "print('y\\n',y)\n",
    "\n",
    "x = np.linalg.solve(A,y)\n",
    "print('x')\n",
    "print(x)\n",
    "\n",
    "print('\\nSo the solution is:')\n",
    "print('x_1 = ',x[0,0])\n",
    "print('x_2 = ',x[1,0])\n",
    "print('x_3 = ',x[2,0])"
   ]
  }
 ],
 "metadata": {
  "celltoolbar": "Slideshow",
  "kernelspec": {
   "display_name": "Python 3",
   "language": "python",
   "name": "python3"
  },
  "language_info": {
   "codemirror_mode": {
    "name": "ipython",
    "version": 3
   },
   "file_extension": ".py",
   "mimetype": "text/x-python",
   "name": "python",
   "nbconvert_exporter": "python",
   "pygments_lexer": "ipython3",
   "version": "3.7.7"
  },
  "toc": {
   "colors": {
    "hover_highlight": "#DAA520",
    "navigate_num": "#000000",
    "navigate_text": "#333333",
    "running_highlight": "#FF0000",
    "selected_highlight": "#FFD700",
    "sidebar_border": "#EEEEEE",
    "wrapper_background": "#FFFFFF"
   },
   "moveMenuLeft": true,
   "nav_menu": {
    "height": "253.41px",
    "width": "252px"
   },
   "navigate_menu": true,
   "number_sections": true,
   "sideBar": true,
   "threshold": 4,
   "toc_cell": false,
   "toc_section_display": "block",
   "toc_window_display": false,
   "widenNotebook": false
  }
 },
 "nbformat": 4,
 "nbformat_minor": 4
}
