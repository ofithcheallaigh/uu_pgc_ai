{
 "cells": [
  {
   "cell_type": "markdown",
   "metadata": {
    "slideshow": {
     "slide_type": "slide"
    }
   },
   "source": [
    "# COM761 Machine Learning\n",
    "## Personal Notes on the Course"
   ]
  },
  {
   "cell_type": "markdown",
   "metadata": {
    "slideshow": {
     "slide_type": "subslide"
    }
   },
   "source": [
    "These are my personal notes for 1.1 Introduction to Machine Learning"
   ]
  },
  {
   "cell_type": "markdown",
   "metadata": {
    "slideshow": {
     "slide_type": "subslide"
    }
   },
   "source": [
    "### Teaching Staff\n",
    "* Prof Jane Zheng `h.zheng@ulster.ac.uk` (Module Coordinator)\n",
    "* Dr Glenn Hawe `gi.hawe@ulster.ac.uk`\n",
    "\n",
    "### Lab Tutors\n",
    "* Conor Clare `clare-c@ulster.ac.uk` 1-1 hour: Each Tuesday 3-4pm\n",
    "* Isaac Ampomah `ampomah-i@ulster.ac.uk` 1-1 hour: Each Friday 2-3 pm\n",
    "- Mohammad Saedi `saedi-m@ulster.ac.uk` 1-1 hour: Each Tuesday 3-4 pm"
   ]
  },
  {
   "cell_type": "markdown",
   "metadata": {
    "slideshow": {
     "slide_type": "subslide"
    }
   },
   "source": [
    "## Weekly Schedule\n",
    "\n",
    "**Each Wednesday**\n",
    "\n",
    "- **2:15 - 3:15** LECTURE (RECORDED)\n",
    "- **3:15 - 3:30** *BREAK* (NOT RECORDED)\n",
    "- **3:30 - 4:30** LECTURE (RECORDED)\n",
    "- **4:30 - 4:40** LAB INTRO (RECORDED)\n",
    "- **4:40 - 5:00** *BREAK*\n",
    "- **5:00 - 8:00** LABS (NOT RECORDED)\n",
    "\n",
    "Feel free to take some time for your dinner, but please try to make the most of the lab sessions, i.e. aim to attend at least 2 hours.\n",
    "\n",
    "The lectures will be recorded and made available on Blackboard shortly afterwards."
   ]
  },
  {
   "cell_type": "markdown",
   "metadata": {
    "slideshow": {
     "slide_type": "slide"
    }
   },
   "source": [
    "## Teaching Plan (Weeks 1-5)\n",
    "**Lecture: Dr Glenn Hawe**   \n",
    "**1. Introduction to Machine Learning**\n",
    "- 1.1 Introduction to ML\n",
    "- 1.2 Matrices and Numpy\n",
    "- Labs: Exercises involving Numpy and pandas\n",
    "\n",
    "**2. Linear Regression**   \n",
    "- 2.1 Multiple linear regression; non-linear responses; cross-valadition; maximum likelihood\n",
    "- 2.2 Alternative cost functions; regularisation; diagnostics\n",
    "- Labs: Exercises in linear regression\n",
    "\n",
    "**3. Optimisation for machine learning**   \n",
    "- 3.1 Zero-order optimisation: grid search; random search; coordinate search/decent\n",
    "- 3.2 First-order optimisation: derivatives; gradient decent\n",
    "- Labs: Optimisation exercises; evolutionary algorithms"
   ]
  },
  {
   "cell_type": "markdown",
   "metadata": {
    "slideshow": {
     "slide_type": "subslide"
    }
   },
   "source": [
    "**4. The Bayesian approach to ML**   \n",
    "- 4.1 Bayesian thinking (priors, likelihood, posterior)\n",
    "- 4.2 Bayesian linear regression\n",
    "- Labs: Probabilistic programming and Pymc3\n",
    "\n",
    "**5. Advanced Bayesian ML**   \n",
    "- 5.1 Markov Chain Monte Carlo (MCMC)\n",
    "- 5.2 Gaussian process regression and Bayesian Optimisation\n",
    "- Labs: MCM diagnostics; GP regression models and Bayessian optimisation"
   ]
  },
  {
   "cell_type": "markdown",
   "metadata": {
    "slideshow": {
     "slide_type": "subslide"
    }
   },
   "source": [
    "## Teaching Plan (Weeks 6-10)  \n",
    "\n",
    "**Lecturer: Prof Jane Zheng**\n",
    "\n",
    "**6. Classification I**: process and algorithms\n",
    "\n",
    "**7. Classification II**: algorithms and assessment\n",
    "\n",
    "**8. Unsupervised Learning I**: concept and algorithms\n",
    "\n",
    "**9. Unsupervised Learning II**: algorithms and assessment\n",
    "\n",
    "**10. Ethical AI, Explainable AI (XAI) & ML**"
   ]
  },
  {
   "cell_type": "markdown",
   "metadata": {
    "slideshow": {
     "slide_type": "slide"
    }
   },
   "source": [
    "## Assessment\n",
    "\n",
    "This module is assessed entirely by Coursework. There are two pieces of coursework:\n",
    "\n",
    "#### Coursework 1 [40%]\n",
    "\n",
    "- A Jupyter notebook containing four short questions\n",
    "- Covers core material from Weeks 1-3\n",
    "- Will be released in Week 3\n",
    "- Deadline: end of Week 5\n",
    "- Submission will be via Blackboard\n",
    "- An individual assignment\n",
    "\n",
    "#### Coursework 2 [60%]\n",
    "\n",
    "- Three longer questions covering material from Weeks 4-9\n",
    "- An individual assignment\n",
    "- Submission will be via Blackboard.\n",
    "- Deadline: end of Week 10"
   ]
  },
  {
   "cell_type": "markdown",
   "metadata": {
    "slideshow": {
     "slide_type": "slide"
    }
   },
   "source": [
    "## Recommended Texts\n",
    "\n",
    "![Books](Images/books3.png)"
   ]
  },
  {
   "cell_type": "markdown",
   "metadata": {
    "slideshow": {
     "slide_type": "slide"
    }
   },
   "source": [
    "### What is machine learning and how does it fit into AI (and what is deep learning?)\n",
    "\n",
    "![Venn](Images/AI_Venn.png)"
   ]
  },
  {
   "cell_type": "markdown",
   "metadata": {},
   "source": [
    "## Definitions of ML\n",
    "\n",
    "**Arthur Samuel** defined machine learning in 1959 as:   \n",
    "Machine learning is the subfield of computer science that gives computers the ability to learn without being explicity programmed.   \n",
    "\n",
    "**Tom Mitchell** coined the following popular definition in 1998:\n",
    "A computer program is said to learn from experience $E$ with respect to some class of tasks $T$ and performance measure $P$, if its preformance at tasks in $T$, as measured by $P$, improves with experience $E$. "
   ]
  }
 ],
 "metadata": {
  "celltoolbar": "Slideshow",
  "kernelspec": {
   "display_name": "Python 3",
   "language": "python",
   "name": "python3"
  },
  "language_info": {
   "codemirror_mode": {
    "name": "ipython",
    "version": 3
   },
   "file_extension": ".py",
   "mimetype": "text/x-python",
   "name": "python",
   "nbconvert_exporter": "python",
   "pygments_lexer": "ipython3",
   "version": "3.8.1"
  }
 },
 "nbformat": 4,
 "nbformat_minor": 4
}
