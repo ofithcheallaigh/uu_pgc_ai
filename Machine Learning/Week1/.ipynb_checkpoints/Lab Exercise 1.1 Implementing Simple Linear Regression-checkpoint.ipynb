{
 "cells": [
  {
   "cell_type": "markdown",
   "metadata": {},
   "source": [
    "# Implementing Simple Linear Regression"
   ]
  },
  {
   "cell_type": "markdown",
   "metadata": {},
   "source": [
    "In this exercise you will implement a simple least square linear regression model $y = w_0 + w_1x$.\n",
    "\n",
    "You will calculate the optimal values for the weights by implementing the normal equations.\n",
    "\n",
    "You will test your code out using the Olympic 100m dataset from *A First Course in Machine Learning*.\n",
    "- This file contains two columns of data: Year, and winning time in the men's Olympic 100m finals.\n",
    "- You may find reading through Section 1.1.6 of *A First Course in Machine Learning* useful first. This gives you an idea of the calculations you will be performing.\n",
    "\n",
    "### Step 1\n",
    "Use the `loadtxt` method from `numpy` to read in the data-file `olympic100m.txt`."
   ]
  },
  {
   "cell_type": "code",
   "execution_count": null,
   "metadata": {},
   "outputs": [],
   "source": []
  },
  {
   "cell_type": "markdown",
   "metadata": {},
   "source": [
    "### Step 2\n",
    "\n",
    "Store the years in a vector called `x`, and the winning times in a vector called `y` "
   ]
  },
  {
   "cell_type": "code",
   "execution_count": null,
   "metadata": {},
   "outputs": [],
   "source": []
  },
  {
   "cell_type": "markdown",
   "metadata": {},
   "source": [
    "### Step 3\n",
    "\n",
    "Calculate the optimal values of $w_0$ and $w_1$. These are given in Equations 1.8 and 1.10 in a *First Course in Machine Learning* (note we are using $y$ instead of $t$). You will need the `multiply` and `mean` methods from numpy."
   ]
  },
  {
   "cell_type": "code",
   "execution_count": null,
   "metadata": {},
   "outputs": [],
   "source": []
  },
  {
   "cell_type": "markdown",
   "metadata": {},
   "source": [
    "### Step 4\n",
    "\n",
    "Use matplotlib to plot the data, and use your weights from Step 3 to plot your best fit line through the data."
   ]
  },
  {
   "cell_type": "code",
   "execution_count": null,
   "metadata": {},
   "outputs": [],
   "source": []
  }
 ],
 "metadata": {
  "kernelspec": {
   "display_name": "Python 3",
   "language": "python",
   "name": "python3"
  },
  "language_info": {
   "codemirror_mode": {
    "name": "ipython",
    "version": 3
   },
   "file_extension": ".py",
   "mimetype": "text/x-python",
   "name": "python",
   "nbconvert_exporter": "python",
   "pygments_lexer": "ipython3",
   "version": "3.7.7"
  }
 },
 "nbformat": 4,
 "nbformat_minor": 4
}
