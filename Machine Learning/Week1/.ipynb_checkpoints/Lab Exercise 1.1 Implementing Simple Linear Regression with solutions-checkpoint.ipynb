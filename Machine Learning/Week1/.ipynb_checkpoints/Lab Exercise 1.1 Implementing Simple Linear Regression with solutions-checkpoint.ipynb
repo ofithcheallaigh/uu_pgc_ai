{
 "cells": [
  {
   "cell_type": "markdown",
   "metadata": {},
   "source": [
    "# Implementing Simple Linear Regression"
   ]
  },
  {
   "cell_type": "markdown",
   "metadata": {},
   "source": [
    "In this exercise you will implement a simple least square linear regression model $y = w_0 + w_1x$.\n",
    "\n",
    "You will calculate the optimal values for the weights by implementing the normal equations.\n",
    "\n",
    "You will test your code out using the Olympic 100m dataset from *A First Course in Machine Learning*.\n",
    "\n",
    "You may find reading through Section 1.1.6 of *A First Course in Machine Learning* first. This gives you an idea of the calculations you will be performing.\n",
    "\n",
    "### Step 1\n",
    "Use the `loadtxt` method to read in the data-file `olympic100m.txt`."
   ]
  },
  {
   "cell_type": "code",
   "execution_count": 69,
   "metadata": {},
   "outputs": [],
   "source": [
    "import numpy as np\n",
    "\n",
    "data_from_file = np.loadtxt(\"olympic100m.txt\", delimiter = ',', skiprows=0)"
   ]
  },
  {
   "cell_type": "markdown",
   "metadata": {},
   "source": [
    "### Step 2\n",
    "\n",
    "Store the years in a vector called `x`, and the winning times in a vector called `y` "
   ]
  },
  {
   "cell_type": "code",
   "execution_count": 70,
   "metadata": {},
   "outputs": [],
   "source": [
    "x = data_from_file[ : , [0]] # or data_from_file[ : , 0:1]\n",
    "y = data_from_file[ : , [1]] # or data_from_file[ : , 1:2]"
   ]
  },
  {
   "cell_type": "code",
   "execution_count": 71,
   "metadata": {},
   "outputs": [
    {
     "data": {
      "text/plain": [
       "(27, 1)"
      ]
     },
     "execution_count": 71,
     "metadata": {},
     "output_type": "execute_result"
    }
   ],
   "source": [
    "x.shape"
   ]
  },
  {
   "cell_type": "markdown",
   "metadata": {},
   "source": [
    "### Step 3\n",
    "\n",
    "Calculate the optimal values of $w_0$ and $w_1$. You will need the `multiply` and `mean` methods from numpy."
   ]
  },
  {
   "cell_type": "code",
   "execution_count": 72,
   "metadata": {},
   "outputs": [
    {
     "name": "stdout",
     "output_type": "stream",
     "text": [
      "w_0 =  36.41645590250286\n",
      "w_1 =  -0.013330885710960602\n"
     ]
    }
   ],
   "source": [
    "xy = np.multiply(x,y)\n",
    "xy_bar = np.mean(xy)\n",
    "x_bar = np.mean(x)\n",
    "y_bar = np.mean(y)\n",
    "x_squared = np.multiply(x,x)\n",
    "x_squared_bar = np.mean(x_squared)\n",
    "x_bar_squared = x_bar*x_bar\n",
    "w1_opt = (xy_bar - x_bar*y_bar)/(x_squared_bar - x_bar_squared)\n",
    "w0_opt = y_bar - w1_opt*x_bar\n",
    "print(\"w_0 = \",w0_opt)\n",
    "print(\"w_1 = \",w1_opt)"
   ]
  },
  {
   "cell_type": "markdown",
   "metadata": {},
   "source": [
    "### Step 4\n",
    "\n",
    "Use matplotlib to plot the data, and use your weights from Step 3 to plot your best fit line through the data."
   ]
  },
  {
   "cell_type": "code",
   "execution_count": 73,
   "metadata": {},
   "outputs": [
    {
     "data": {
      "image/png": "[encoded data removed]",
      "text/plain": [
       "<Figure size 432x288 with 1 Axes>"
      ]
     },
     "metadata": {
      "needs_background": "light"
     },
     "output_type": "display_data"
    }
   ],
   "source": [
    "import matplotlib.pyplot as plt\n",
    "\n",
    "plt.scatter(x,y)\n",
    "\n",
    "xx = np.linspace(1880,2020,3)\n",
    "yy = w1_opt*xx+w0_opt\n",
    "plt.plot(xx, yy, '-r', label='best fit line')\n",
    "\n",
    "plt.xlabel(\"Year\")\n",
    "plt.xlim(1880,2020)\n",
    "plt.ylim(9.5,12.0)\n",
    "plt.ylabel(\"Time (seconds)\")\n",
    "plt.title(\"Winning men's 100m times at the Summer Olympics\")\n",
    "\n",
    "axes = plt.gca()\n",
    "\n",
    "plt.show()"
   ]
  }
 ],
 "metadata": {
  "kernelspec": {
   "display_name": "Python 3",
   "language": "python",
   "name": "python3"
  },
  "language_info": {
   "codemirror_mode": {
    "name": "ipython",
    "version": 3
   },
   "file_extension": ".py",
   "mimetype": "text/x-python",
   "name": "python",
   "nbconvert_exporter": "python",
   "pygments_lexer": "ipython3",
   "version": "3.7.7"
  }
 },
 "nbformat": 4,
 "nbformat_minor": 4
}
