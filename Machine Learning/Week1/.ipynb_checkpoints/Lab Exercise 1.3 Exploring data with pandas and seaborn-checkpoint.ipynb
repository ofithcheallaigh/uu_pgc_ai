{
 "cells": [
  {
   "cell_type": "markdown",
   "metadata": {
    "slideshow": {
     "slide_type": "slide"
    }
   },
   "source": [
    "# Exploring Data with Pandas and Seaborn\n",
    "\n",
    "## The Machine Learning Workflow\n",
    "\n",
    "The 'bigger picture' of machine learning involves a workflow of different stages, usually starting with problem formulation and data exploration, and finishing with model deployment.\n",
    "\n",
    "In this notebook, you will begin to explore data using the `pandas` and `seaborn` libraries.\n"
   ]
  },
  {
   "cell_type": "markdown",
   "metadata": {},
   "source": [
    "### Exercise 1\n",
    "\n",
    "Read through the following to get the idea of a machine learning workflow:\n",
    "\n",
    "https://www.kdnuggets.com/2018/05/general-approaches-machine-learning-process.html\n",
    "\n",
    "https://www.kdnuggets.com/2018/12/machine-learning-project-checklist.html\n",
    "\n",
    "Also watch the video below:\n",
    "\n",
    "<a href=\"http://www.youtube.com/watch?feature=player_embedded&v=nKW8Ndu7Mjw\n",
    "\" target=\"_blank\"><img src=\"http://img.youtube.com/vi/nKW8Ndu7Mjw/0.jpg\" \n",
    "alt=\"IMAGE ALT TEXT HERE\" width=\"240\" height=\"180\" border=\"10\" /></a>"
   ]
  },
  {
   "cell_type": "markdown",
   "metadata": {},
   "source": [
    "#### Comparison of two particular workflows\n",
    "\n",
    "Often different workflows are quite similar, e.g.:\n",
    "\n",
    "![Workflows](Images/workflows.png)"
   ]
  },
  {
   "cell_type": "markdown",
   "metadata": {},
   "source": [
    "One stage in particular that most workflows share in common is **exploring the data**.\n",
    "\n",
    "`Pandas` and `seaborn` are useful libraries for exploring data."
   ]
  },
  {
   "cell_type": "markdown",
   "metadata": {
    "slideshow": {
     "slide_type": "slide"
    }
   },
   "source": [
    "### Exercise 2 \n",
    "\n",
    "Read through Notebook 1.3 on Tabular Data and Pandas.\n",
    "\n",
    "Watch the following video as well:\n",
    "\n",
    "<a href=\"http://www.youtube.com/watch?feature=player_embedded&v=mJ9KajSVG0Q\n",
    "\" target=\"_blank\"><img src=\"http://img.youtube.com/vi/mJ9KajSVG0Q/0.jpg\" \n",
    "alt=\"IMAGE ALT TEXT HERE\" width=\"240\" height=\"180\" border=\"10\" /></a>\n",
    "\n",
    "\n",
    "### Exercise 3\n",
    "\n",
    "Download `winequality-red.csv` from: https://www.kaggle.com/uciml/red-wine-quality-cortez-et-al-2009\n"
   ]
  },
  {
   "cell_type": "markdown",
   "metadata": {},
   "source": [
    "Below we import the libraries we will need (pandas, numpy, matplotlib.pyplot, seaborn)"
   ]
  },
  {
   "cell_type": "code",
   "execution_count": null,
   "metadata": {},
   "outputs": [],
   "source": [
    "import pandas as pd \n",
    "import numpy as np \n",
    "import matplotlib.pyplot as plt \n",
    "import seaborn as sns"
   ]
  },
  {
   "cell_type": "markdown",
   "metadata": {},
   "source": [
    "### Exercise 4 \n",
    "\n",
    "Read `winequality-red.csv` into a pandas DataFrame"
   ]
  },
  {
   "cell_type": "code",
   "execution_count": null,
   "metadata": {},
   "outputs": [],
   "source": []
  },
  {
   "cell_type": "markdown",
   "metadata": {},
   "source": [
    "### Exercise 5\n",
    "\n",
    "Have a look at the top 10 rows of data"
   ]
  },
  {
   "cell_type": "code",
   "execution_count": null,
   "metadata": {},
   "outputs": [],
   "source": []
  },
  {
   "cell_type": "markdown",
   "metadata": {},
   "source": [
    "### Exercise 6\n",
    "\n",
    "Check if there is any missing data (null values)"
   ]
  },
  {
   "cell_type": "code",
   "execution_count": null,
   "metadata": {},
   "outputs": [],
   "source": []
  },
  {
   "cell_type": "markdown",
   "metadata": {},
   "source": [
    "### Exercise 7 \n",
    "\n",
    "Print basic statistical info about each column in the data-set"
   ]
  },
  {
   "cell_type": "code",
   "execution_count": null,
   "metadata": {},
   "outputs": [],
   "source": []
  },
  {
   "cell_type": "markdown",
   "metadata": {},
   "source": [
    "### Exercise 8 \n",
    "\n",
    "Use seaborn to draw a heatmap showing correlations between all of the columns\n",
    "\n",
    "Try to make it look as good as you can:\n",
    "\n",
    "- https://seaborn.pydata.org/examples/many_pairwise_correlations.html\n",
    "\n",
    "- https://likegeeks.com/seaborn-heatmap-tutorial/"
   ]
  },
  {
   "cell_type": "code",
   "execution_count": null,
   "metadata": {
    "scrolled": true
   },
   "outputs": [],
   "source": []
  },
  {
   "cell_type": "markdown",
   "metadata": {},
   "source": [
    "### Exercise 9 \n",
    "\n",
    "Suppose \"Quality\"  is the label and the other columns are the features.\n",
    "\n",
    "What would be the top 2 features you would choose to try to predict Quality from and why?"
   ]
  },
  {
   "cell_type": "markdown",
   "metadata": {},
   "source": [
    "Alcohol and Volatile acidity - they have the highest correlation with Quality."
   ]
  },
  {
   "cell_type": "markdown",
   "metadata": {},
   "source": [
    "### Exercise 10 \n",
    "\n",
    "If you have time, check out: https://seaborn.pydata.org/examples/index.html\n",
    "\n",
    "and experiment with other types of plots you find interesting and informative."
   ]
  },
  {
   "cell_type": "code",
   "execution_count": null,
   "metadata": {},
   "outputs": [],
   "source": []
  }
 ],
 "metadata": {
  "kernelspec": {
   "display_name": "Python 3",
   "language": "python",
   "name": "python3"
  },
  "language_info": {
   "codemirror_mode": {
    "name": "ipython",
    "version": 3
   },
   "file_extension": ".py",
   "mimetype": "text/x-python",
   "name": "python",
   "nbconvert_exporter": "python",
   "pygments_lexer": "ipython3",
   "version": "3.7.7"
  }
 },
 "nbformat": 4,
 "nbformat_minor": 4
}
