{
  "nbformat": 4,
  "nbformat_minor": 0,
  "metadata": {
    "kernelspec": {
      "display_name": "Python 3",
      "language": "python",
      "name": "python3"
    },
    "language_info": {
      "codemirror_mode": {
        "name": "ipython",
        "version": 3
      },
      "file_extension": ".py",
      "mimetype": "text/x-python",
      "name": "python",
      "nbconvert_exporter": "python",
      "pygments_lexer": "ipython3",
      "version": "3.7.7"
    },
    "colab": {
      "name": "Lab Exercise 1.1 Implementing Simple Linear Regression.ipynb",
      "provenance": [],
      "toc_visible": true
    }
  },
<<<<<<< HEAD
  {
   "cell_type": "markdown",
   "metadata": {},
   "source": [
    "In this exercise you will implement a simple least square linear regression model $y = w_0 + w_1x$.\n",
    "\n",
    "You will calculate the optimal values for the weights by implementing the normal equations.\n",
    "\n",
    "You will test your code out using the Olympic 100m dataset from *A First Course in Machine Learning*.\n",
    "- This file contains two columns of data: Year, and winning time in the men's Olympic 100m finals.\n",
    "- You may find reading through Section 1.1.6 of *A First Course in Machine Learning* useful first. This gives you an idea of the calculations you will be performing.\n",
    "\n",
    "### Step 1\n",
    "Use the `loadtxt` method from `numpy` to read in the data-file `olympic100m.txt`."
   ]
  },
  {
   "cell_type": "code",
   "execution_count": 8,
   "metadata": {},
   "outputs": [],
   "source": [
    "import numpy as np\n",
    "olympic_data = np.loadtxt('olympic100m.txt',delimiter=None,dtype=np.str)"
   ]
  },
  {
   "cell_type": "markdown",
   "metadata": {},
   "source": [
    "### Step 2\n",
    "\n",
    "Store the years in a vector called `x`, and the winning times in a vector called `y` "
   ]
  },
  {
   "cell_type": "code",
   "execution_count": 16,
   "metadata": {},
   "outputs": [
    {
     "name": "stdout",
     "output_type": "stream",
     "text": [
      "1\n"
     ]
    }
   ],
   "source": [
    "x = olympic_data[2][0]\n",
    "print(x)"
   ]
  },
  {
   "cell_type": "markdown",
   "metadata": {},
   "source": [
    "### Step 3\n",
    "\n",
    "Calculate the optimal values of $w_0$ and $w_1$. These are given in Equations 1.8 and 1.10 in a *First Course in Machine Learning* (note we are using $y$ instead of $t$). You will need the `multiply` and `mean` methods from numpy."
   ]
  },
  {
   "cell_type": "code",
   "execution_count": null,
   "metadata": {},
   "outputs": [],
   "source": []
  },
  {
   "cell_type": "markdown",
   "metadata": {},
   "source": [
    "### Step 4\n",
    "\n",
    "Use matplotlib to plot the data, and use your weights from Step 3 to plot your best fit line through the data."
   ]
  },
  {
   "cell_type": "code",
   "execution_count": null,
   "metadata": {},
   "outputs": [],
   "source": []
  }
 ],
 "metadata": {
  "kernelspec": {
   "display_name": "Python 3",
   "language": "python",
   "name": "python3"
  },
  "language_info": {
   "codemirror_mode": {
    "name": "ipython",
    "version": 3
   },
   "file_extension": ".py",
   "mimetype": "text/x-python",
   "name": "python",
   "nbconvert_exporter": "python",
   "pygments_lexer": "ipython3",
   "version": "3.8.1"
  }
 },
 "nbformat": 4,
 "nbformat_minor": 4
}
=======
  "cells": [
    {
      "cell_type": "markdown",
      "metadata": {
        "id": "39f1Ql7zvidC"
      },
      "source": [
        "# Implementing Simple Linear Regression"
      ]
    },
    {
      "cell_type": "markdown",
      "metadata": {
        "id": "1eNVH6IRvidD"
      },
      "source": [
        "In this exercise you will implement a simple least square linear regression model $y = w_0 + w_1x$.\n",
        "\n",
        "You will calculate the optimal values for the weights by implementing the normal equations.\n",
        "\n",
        "You will test your code out using the Olympic 100m dataset from *A First Course in Machine Learning*.\n",
        "- This file contains two columns of data: Year, and winning time in the men's Olympic 100m finals.\n",
        "- You may find reading through Section 1.1.6 of *A First Course in Machine Learning* useful first. This gives you an idea of the calculations you will be performing.\n",
        "\n",
        "### Step 1\n",
        "Use the `loadtxt` method from `numpy` to read in the data-file `olympic100m.txt`."
      ]
    },
    {
      "cell_type": "code",
      "metadata": {
        "id": "QF0y_sQbvidE",
        "outputId": "3cc2129f-a36d-4a3b-e256-1e6e57f83d90",
        "colab": {
          "base_uri": "https://localhost:8080/",
          "height": 476
        }
      },
      "source": [
        "import numpy as np\n",
        "my_data = np.loadtxt('olympic100m.txt', delimiter = ',', skiprows=0)\n",
        "print(my_data)"
      ],
      "execution_count": 6,
      "outputs": [
        {
          "output_type": "stream",
          "text": [
            "[[1896.     12.  ]\n",
            " [1900.     11.  ]\n",
            " [1904.     11.  ]\n",
            " [1906.     11.2 ]\n",
            " [1908.     10.8 ]\n",
            " [1912.     10.8 ]\n",
            " [1920.     10.8 ]\n",
            " [1924.     10.6 ]\n",
            " [1928.     10.8 ]\n",
            " [1932.     10.3 ]\n",
            " [1936.     10.3 ]\n",
            " [1948.     10.3 ]\n",
            " [1952.     10.4 ]\n",
            " [1956.     10.5 ]\n",
            " [1960.     10.2 ]\n",
            " [1964.     10.  ]\n",
            " [1968.      9.95]\n",
            " [1972.     10.14]\n",
            " [1976.     10.06]\n",
            " [1980.     10.25]\n",
            " [1984.      9.99]\n",
            " [1988.      9.92]\n",
            " [1992.      9.96]\n",
            " [1996.      9.84]\n",
            " [2000.      9.87]\n",
            " [2004.      9.85]\n",
            " [2008.      9.69]]\n"
          ],
          "name": "stdout"
        }
      ]
    },
    {
      "cell_type": "markdown",
      "metadata": {
        "id": "LgxdMDQCvidI"
      },
      "source": [
        "### Step 2\n",
        "\n",
        "Store the years in a vector called `x`, and the winning times in a vector called `y` "
      ]
    },
    {
      "cell_type": "code",
      "metadata": {
        "id": "HNvrpfVAvidI",
        "outputId": "91a74959-3bd8-436b-ff98-cc5020937deb",
        "colab": {
          "base_uri": "https://localhost:8080/",
          "height": 119
        }
      },
      "source": [
        "x = my_data[:,0]\n",
        "y = my_data[:,1]\n",
        "\n",
        "print(x)\n",
        "print(y)"
      ],
      "execution_count": 10,
      "outputs": [
        {
          "output_type": "stream",
          "text": [
            "[1896. 1900. 1904. 1906. 1908. 1912. 1920. 1924. 1928. 1932. 1936. 1948.\n",
            " 1952. 1956. 1960. 1964. 1968. 1972. 1976. 1980. 1984. 1988. 1992. 1996.\n",
            " 2000. 2004. 2008.]\n",
            "[12.   11.   11.   11.2  10.8  10.8  10.8  10.6  10.8  10.3  10.3  10.3\n",
            " 10.4  10.5  10.2  10.    9.95 10.14 10.06 10.25  9.99  9.92  9.96  9.84\n",
            "  9.87  9.85  9.69]\n"
          ],
          "name": "stdout"
        }
      ]
    },
    {
      "cell_type": "markdown",
      "metadata": {
        "id": "dTlwD1vGvidL"
      },
      "source": [
        "### Step 3\n",
        "\n",
        "Calculate the optimal values of $w_0$ and $w_1$. These are given in Equations 1.8 and 1.10 in a *First Course in Machine Learning* (note we are using $y$ instead of $t$). You will need the `multiply` and `mean` methods from numpy."
      ]
    },
    {
      "cell_type": "code",
      "metadata": {
        "id": "hvWmo__LvidL"
      },
      "source": [
        ""
      ],
      "execution_count": null,
      "outputs": []
    },
    {
      "cell_type": "markdown",
      "metadata": {
        "id": "c0QFd8JNvidN"
      },
      "source": [
        "### Step 4\n",
        "\n",
        "Use matplotlib to plot the data, and use your weights from Step 3 to plot your best fit line through the data."
      ]
    },
    {
      "cell_type": "code",
      "metadata": {
        "id": "m5JdnU3YvidN"
      },
      "source": [
        ""
      ],
      "execution_count": null,
      "outputs": []
    }
  ]
}
>>>>>>> 41315a13b9218af0273a0430e82ee62b0a8f5383
