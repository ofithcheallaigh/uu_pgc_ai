{
 "cells": [
  {
   "cell_type": "markdown",
   "metadata": {
    "slideshow": {
     "slide_type": "slide"
    }
   },
   "source": [
    "# 2.2 Linear regression\n",
    "\n",
    "By the end of this notebook you should be able to:\n",
    "\n",
    "- Model a *nonlinear* response with a linear model (e.g. polynomial regression)\n",
    "- Understand the idea of *overfitting* and *underfitting*\n",
    "- Understand how to carry out *cross-validation*\n",
    "- Understand what *regularized* least squares regression is\n",
    "- Understand how weights in linear regression can be used to remove features (feature selection)"
   ]
  },
  {
   "cell_type": "markdown",
   "metadata": {
    "slideshow": {
     "slide_type": "slide"
    }
   },
   "source": [
    "## Nonlinear response (with a linear model)\n",
    "\n",
    "The second restriction of simple linear regression we mentioned earlier was: *Restricting ourselves to a linear function of the features may not be appropriate.*\n",
    "\n",
    "To simplify discussion, suppose we still only have one feature $x$, and that the relationship between $x$ and $y$ looks quadratic.\n",
    " \n",
    "In this case, we would want to capture this relationship by adding an extra term $x^2$ to our model:\n",
    "\n",
    "\\begin{equation} f(x) = w_0 + w_1x + w_2x^2 \\end{equation}\n",
    "\n",
    "More generally however, we may want to add polynomial terms up to order $M$:\n",
    "\n",
    "\\begin{equation} f(x) = \\sum_{i=0}^{M} w_i x^i = w_0 + w_1x + w_2x^2 + \\ldots w_Mx^M \\end{equation}\n",
    "\n",
    "In this case, we can view the $x^i$ terms as additional features, and therefore the problem becomes one of multiple linear regression."
   ]
  },
  {
   "cell_type": "markdown",
   "metadata": {
    "slideshow": {
     "slide_type": "subslide"
    }
   },
   "source": [
    "For a $M$-th order polynomial, the design matrix becomes:\n",
    "\n",
    "\\begin{equation} \\mathbf{X} = \\begin{bmatrix} \\mathbf{x}_1^T \\\\ \\mathbf{x}_2^T \\\\ \\vdots \\\\ \\mathbf{x}_N^T \\end{bmatrix} = \\begin{bmatrix} 1 & x_{1} & x_{1}^2 & x_{1}^3 & \\ldots & x_{1}^M \\\\ 1 & x_{2} & x_{2}^2 & x_{2}^3 & \\ldots & x_{2}^M\\\\ \\vdots & \\vdots & \\vdots & \\vdots & \\ddots & \\vdots \\\\ 1 & x_{N} & x_{N}^2 & x_{N}^3 & \\ldots & x_{N}^M \\end{bmatrix} \\end{equation}\n",
    "\n",
    "where here $x_i^j$ means feature $x$ from example $i$ is raised to the power of $j$\n",
    "\n",
    "This is called the **Vandermonde matrix**."
   ]
  },
  {
   "cell_type": "markdown",
   "metadata": {
    "slideshow": {
     "slide_type": "subslide"
    }
   },
   "source": [
    "![FromSimpleToPoly](Images/simple_to_poly2_cite.png)"
   ]
  },
  {
   "cell_type": "markdown",
   "metadata": {
    "slideshow": {
     "slide_type": "subslide"
    }
   },
   "source": [
    "We have already covered everything we need to implement polynomial regression:\n",
    "- The only new step now is to construct the Vandermonde matrix from our single feature $x$ \n",
    "  - rather than a matrix containing completely different features ($x_1, x_2, \\ldots$) in each column\n"
   ]
  },
  {
   "cell_type": "code",
   "execution_count": 35,
   "metadata": {
    "slideshow": {
     "slide_type": "subslide"
    }
   },
   "outputs": [],
   "source": [
    "import numpy as np\n",
    "data = np.loadtxt('Data/olympic100m.txt',delimiter=',')\n",
    "x = data[:,0][:,None]\n",
    "t = data[:,1][:,None]"
   ]
  },
  {
   "cell_type": "code",
   "execution_count": 41,
   "metadata": {
    "slideshow": {
     "slide_type": "subslide"
    }
   },
   "outputs": [],
   "source": [
    "##scale the data\n",
    "x = (x-1896)/4"
   ]
  },
  {
   "cell_type": "code",
   "execution_count": 51,
   "metadata": {
    "slideshow": {
     "slide_type": "subslide"
    }
   },
   "outputs": [],
   "source": [
    "maxorder = 8\n",
    "X = np.ones_like(x) # This constructs a matrix the same shape as x, but full of 1s\n",
    "for i in range(1,maxorder+1):\n",
    "    X = np.hstack((X,x**i))"
   ]
  },
  {
   "cell_type": "markdown",
   "metadata": {
    "slideshow": {
     "slide_type": "subslide"
    }
   },
   "source": [
    "Note the terminology regarding *linear* can be confusing.\n",
    " \n",
    "The example of simple linear regression was linear in both the model parameters *and* the features. \n",
    " - It is tempting to think $y = w_0 + w_1 x$ is linear because it is linear in the feature $x$\n",
    " - However, what makes a linear model *linear* is that it is linear in terms of the model parameters $w_i$.\n",
    "\n",
    "A quadratic model such as $f(x) = w_0 + w_1x + w_2x^2$ is still linear in terms of the weights. Therefore, this is still a linear model. (It is not linear in the feature $x$ of course).\n",
    "\n",
    "We can extend use of linear models beyond polynomials. We can construct linear models using any nonlinear functions of the features:\n",
    "\n",
    "\\begin{align} f(\\mathbf{x}) & = w_0 + w_1 \\phi_1(\\mathbf{x}) + w_2 \\phi_2(\\mathbf{x}) + \\ldots + w_d \\phi_d (\\mathbf{x}) \\\\ & = \\mathbf{w}^T \\mathbf{\\phi}(\\mathbf{x}) \\end{align}\n",
    "\n",
    "\n",
    "In the labs, you will use another nonlinear function in one of the exercises.\n",
    "\n",
    "We will now use the popular scikit learn library now to construct our linear model."
   ]
  },
  {
   "cell_type": "code",
   "execution_count": 52,
   "metadata": {
    "slideshow": {
     "slide_type": "slide"
    }
   },
   "outputs": [],
   "source": [
    "from sklearn.model_selection import train_test_split \n",
    "from sklearn.linear_model import LinearRegression \n",
    "from sklearn import metrics \n",
    "import matplotlib.pyplot as plt \n",
    "import numpy as np "
   ]
  },
  {
   "cell_type": "code",
   "execution_count": 53,
   "metadata": {
    "slideshow": {
     "slide_type": "subslide"
    }
   },
   "outputs": [
    {
     "name": "stdout",
     "output_type": "stream",
     "text": [
      "w0 =  [11.94393928]\n",
      "coefficients =  [[ 0.00000000e+00 -1.18591601e+00  5.33186772e-01 -1.18779443e-01\n",
      "   1.41384728e-02 -9.54569112e-04  3.66786874e-05 -7.47381273e-07\n",
      "   6.26749407e-09]]\n"
     ]
    }
   ],
   "source": [
    "regressor = LinearRegression()\n",
    "regressor.fit(X,t)\n",
    "\n",
    "# print the intercept (w0)\n",
    "print('w0 = ',regressor.intercept_)\n",
    "  \n",
    "# print the weight vector for the model (w1, w2, ...)\n",
    "print('coefficients = ',regressor.coef_)"
   ]
  },
  {
   "cell_type": "code",
   "execution_count": 54,
   "metadata": {
    "slideshow": {
     "slide_type": "subslide"
    }
   },
   "outputs": [],
   "source": [
    "x_test = np.linspace(0,28,100)[:,None]\n",
    "X_test = np.ones_like(x_test)\n",
    "for i in range(1,maxorder+1):\n",
    "    X_test = np.hstack((X_test,x_test**i))\n",
    "    \n",
    "y_test = regressor.predict(X_test)"
   ]
  },
  {
   "cell_type": "code",
   "execution_count": 55,
   "metadata": {
    "slideshow": {
     "slide_type": "subslide"
    }
   },
   "outputs": [
    {
     "data": {
      "text/plain": [
       "[<matplotlib.lines.Line2D at 0x1eefbe55588>]"
      ]
     },
     "execution_count": 55,
     "metadata": {},
     "output_type": "execute_result"
    },
    {
     "data": {
      "image/png": "[encoded data removed]",
      "text/plain": [
       "<Figure size 432x288 with 1 Axes>"
      ]
     },
     "metadata": {
      "needs_background": "light"
     },
     "output_type": "display_data"
    }
   ],
   "source": [
    "plt.plot(x_test,y_test,'b-',linewidth=2)\n",
    "plt.plot(x,t,'ro')"
   ]
  },
  {
   "cell_type": "markdown",
   "metadata": {
    "slideshow": {
     "slide_type": "subslide"
    }
   },
   "source": [
    "This is the same as Figure 1.10 from *A First Course in Machine Learning*"
   ]
  },
  {
   "cell_type": "code",
   "execution_count": 48,
   "metadata": {
    "slideshow": {
     "slide_type": "subslide"
    }
   },
   "outputs": [
    {
     "name": "stdout",
     "output_type": "stream",
     "text": [
      "0.04318491950082525\n"
     ]
    }
   ],
   "source": [
    "train_predictions = regressor.predict(X)\n",
    "train_mse = metrics.mean_squared_error(t,train_predictions)\n",
    "print(train_mse)"
   ]
  },
  {
   "cell_type": "markdown",
   "metadata": {
    "slideshow": {
     "slide_type": "slide"
    }
   },
   "source": [
    "### Compare to simple linear regression model $y = w_0 + w_1x$"
   ]
  },
  {
   "cell_type": "code",
   "execution_count": 49,
   "metadata": {
    "slideshow": {
     "slide_type": "subslide"
    }
   },
   "outputs": [
    {
     "name": "stdout",
     "output_type": "stream",
     "text": [
      "w0 =  [11.14109659]\n",
      "coefficients =  [[-0.05332354]]\n"
     ]
    }
   ],
   "source": [
    "regressor = LinearRegression()\n",
    "regressor.fit(x,t)\n",
    "\n",
    "# print the intercept (w0)\n",
    "print('w0 = ',regressor.intercept_)\n",
    "  \n",
    "# print the weight vector for the model (w1, w2, ...)\n",
    "print('coefficients = ',regressor.coef_)"
   ]
  },
  {
   "cell_type": "code",
   "execution_count": 50,
   "metadata": {
    "slideshow": {
     "slide_type": "subslide"
    }
   },
   "outputs": [
    {
     "name": "stdout",
     "output_type": "stream",
     "text": [
      "0.050307110475657925\n"
     ]
    }
   ],
   "source": [
    "train_predictions_simple = regressor.predict(x)\n",
    "train_mse_simple = metrics.mean_squared_error(t,train_predictions_simple)\n",
    "print(train_mse_simple)"
   ]
  },
  {
   "cell_type": "markdown",
   "metadata": {
    "slideshow": {
     "slide_type": "slide"
    }
   },
   "source": [
    "### Generalisation and Overfitting\n",
    "\n",
    "- The mean squared error for the degree 8 polynomial model is lower than the mean squared error of the linear model.\n",
    "  - Does this mean it is a better model?\n",
    "\n",
    "- Recall from last week what the aim of learning is: to generalise to *new, unseen* data.\n",
    "- We have only calculated the mean squared error on data we have seen during training.\n",
    "- Looking at the polynomial model of degree order 8, we can see that it makes very spurious predictions for future Olympic games (unseen data, whereas the straight line model seemed more reasonable.\n",
    "- The polynomial model of degree 8 has much more flexibility than the straight line model: \n",
    "  - it is capable of replicating the straight line model by setting coefficients $w_2, w_3, \\ldots $ to zero\n",
    "  - by varying these weights (away from zero) however, it is capable of reducing the training cost further: when this happens too much, we are *over-fitting* to the training data "
   ]
  },
  {
   "cell_type": "markdown",
   "metadata": {
    "slideshow": {
     "slide_type": "slide"
    }
   },
   "source": [
    "## Validation data\n",
    "\n",
    "- When we have trained a model, we should **validate** it, to ensure it generalizes well to unseen data (and isn't over-fitting to the training data)\n",
    "- For this purpose, we use a second dataset called a **validation set**.\n",
    "- The key property of the validation set is that it is *not seen during training*.\n",
    "- The validation set is usually just a subset of our original dataset, that we set aside and accept won't be used for training.\n",
    "  - The `train_test_split()` method from scikit learn can be used to split the original dataset into training and validation set for us.\n",
    "- To choose between a set of potentials models, we train each one on the training set, and evaluate their loss on the validation set.\n",
    "  - By 'loss', we mean some metric indicating the accuracy of the model. It may well be the same metric that was used fro training, just calculated on the validation set.\n",
    "  \n"
   ]
  },
  {
   "cell_type": "markdown",
   "metadata": {
    "slideshow": {
     "slide_type": "subslide"
    }
   },
   "source": [
    "![FromSimpleToPoly](Images/FCML_Fig1_12_cite.png)"
   ]
  },
  {
   "cell_type": "markdown",
   "metadata": {
    "slideshow": {
     "slide_type": "subslide"
    }
   },
   "source": [
    "## Cross-validation\n",
    "\n",
    "![FromSimpleToPoly](Images/FCML_Fig1_14_citec.png)"
   ]
  },
  {
   "cell_type": "markdown",
   "metadata": {
    "slideshow": {
     "slide_type": "slide"
    }
   },
   "source": [
    "## Regularisation\n",
    "\n",
    "Consider a polynomial model\n",
    "\n",
    "\\begin{equation}\n",
    " f(x) = w_0 + w_1x + w_2x^2 + w_3x^3 + w_4x^4 + w_5x^5\n",
    "\\end{equation}\n",
    "\n",
    "- Generally, the larger the (absolute) values of the weights in the model, the more complex the model is.\n",
    "- Large weights cause more drastic changes in the value of $f(x)$\n",
    "  - For example, consider the derivative of $f$ with respect to $x$: the larger the weights, the larger the derivatives\n",
    "- Therefore, one way to keep models simpler is to keep the absolute values of the parameters low. This is known as **regularisation**. \n",
    "- There are different ways to achieve regularisation, depending on how we capture model complexity."
   ]
  },
  {
   "cell_type": "markdown",
   "metadata": {
    "slideshow": {
     "slide_type": "subslide"
    }
   },
   "source": [
    "### Ridge regression\n",
    "\n",
    "- In **ridge regression** we capture model complexity by summing the squares of the model weights: $\\sum_i w_i^2 = \\mathbf{w}^T\\mathbf{w}$\n",
    "- We then adding this to our normal loss function (e.g. least squares) when training, i.e. we minimize:\n",
    "  \\begin{equation} \\frac{1}{N} (\\mathbf{y} - \\mathbf{X}\\mathbf{w})^T(\\mathbf{y} - \\mathbf{X}\\mathbf{w}) + \\lambda \\mathbf{w}^T\\mathbf{w}\\end{equation}\n",
    "- The parameter $\\lambda$ (>0) controls the trade-off between model accuracy and model complexity:\n",
    "  - If $\\lambda$ is too small, then complex models are not penalized enough, and training favours high accuracy (potentially leading to over-fitting)\n",
    "  - If $\\lambda$ is too large, then simple models may be favoured too much during training, possibly leading to under-fitting (useful trends are not captured).\n",
    "- A closed form expression exists for ridge regression (like the normal equations), but the problems exists as to how to set the value of $\\lambda$. Usualy we use cross-validation to set its value."
   ]
  },
  {
   "cell_type": "markdown",
   "metadata": {
    "slideshow": {
     "slide_type": "subslide"
    }
   },
   "source": [
    "### Hyperparameters\n",
    "\n",
    "The parameter $\\lambda$ in regularisation, and the maximum degree of polynomial in polynomial regression, are both examples of *hyperparameters*.  \n",
    "\n",
    "Hyperparameters are parameters that cannot be optimized directly during training.  Instead another optimization procedure such as cross-validation is needed to determine the best values."
   ]
  },
  {
   "cell_type": "markdown",
   "metadata": {
    "slideshow": {
     "slide_type": "subslide"
    }
   },
   "source": [
    "## Feature selection\n",
    "\n",
    "- The weights in a linear model give an indication of the features they multiply.\n",
    "- This can be used to simplify models: features with corresponding low weights may be removed from the model with little effect on accuracy.\n",
    "- **Recursive feature elimination (RFE)** is recursively considers smaller and smaller sets of features. \n",
    "  - First, the estimator is trained on the initial set of features and the importance of each feature is obtained either through a coef_ attribute or through a feature_importances_ attribute. \n",
    "  - Then, the least important features are pruned from current set of features. That procedure is recursively repeated on the pruned set until the desired number of features to select is eventually reached."
   ]
  }
 ],
 "metadata": {
  "celltoolbar": "Slideshow",
  "kernelspec": {
   "display_name": "Python 3",
   "language": "python",
   "name": "python3"
  },
  "language_info": {
   "codemirror_mode": {
    "name": "ipython",
    "version": 3
   },
   "file_extension": ".py",
   "mimetype": "text/x-python",
   "name": "python",
   "nbconvert_exporter": "python",
   "pygments_lexer": "ipython3",
   "version": "3.7.7"
  }
 },
 "nbformat": 4,
 "nbformat_minor": 4
}
