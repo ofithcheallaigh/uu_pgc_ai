{
 "cells": [
  {
   "cell_type": "code",
   "execution_count": null,
   "metadata": {
    "collapsed": true,
    "jupyter": {
     "outputs_hidden": true
    }
   },
   "outputs": [],
   "source": []
  },
  {
   "cell_type": "markdown",
   "metadata": {},
   "source": [
    "<h3>Nonlinear regression with the linear model</h3>\n",
    "<p>Start by loading the data</p>"
   ]
  },
  {
   "cell_type": "code",
   "execution_count": 4,
   "metadata": {
    "jupyter": {
     "outputs_hidden": false
    }
   },
   "outputs": [],
   "source": [
    "import numpy as np\n",
    "data = np.loadtxt('olympic100m.txt',delimiter=',')\n",
    "x = data[:,0][:,None]\n",
    "t = data[:,1][:,None]"
   ]
  },
  {
   "cell_type": "markdown",
   "metadata": {},
   "source": [
    "<h4>Rescaling $x$</h4>\n",
    "<p>We re-scale the Olympic year value to help with numerical problems when we look at high orders. Satisfy yourself that this doesn't make any difference!</p>"
   ]
  },
  {
   "cell_type": "code",
   "execution_count": 5,
   "metadata": {
    "jupyter": {
     "outputs_hidden": false
    }
   },
   "outputs": [],
   "source": [
    "x = (x-1896)/4"
   ]
  },
  {
   "cell_type": "markdown",
   "metadata": {},
   "source": [
    "<h4>Creating $\\mathbf{X}$</h4>\n",
    "<p>We loop up to the desired order, adding columns to $\\mathbf{X}$ at each stage</p>"
   ]
  },
  {
   "cell_type": "code",
   "execution_count": 35,
   "metadata": {
    "jupyter": {
     "outputs_hidden": false
    }
   },
   "outputs": [
    {
     "name": "stdout",
     "output_type": "stream",
     "text": [
      "[[1.00000000e+00 0.00000000e+00 0.00000000e+00 0.00000000e+00\n",
      "  0.00000000e+00 0.00000000e+00 0.00000000e+00 0.00000000e+00\n",
      "  0.00000000e+00 0.00000000e+00]\n",
      " [1.00000000e+00 1.00000000e+00 1.00000000e+00 1.00000000e+00\n",
      "  1.00000000e+00 1.00000000e+00 1.00000000e+00 1.00000000e+00\n",
      "  1.00000000e+00 1.00000000e+00]\n",
      " [1.00000000e+00 2.00000000e+00 4.00000000e+00 8.00000000e+00\n",
      "  1.60000000e+01 3.20000000e+01 6.40000000e+01 1.28000000e+02\n",
      "  2.56000000e+02 5.12000000e+02]\n",
      " [1.00000000e+00 2.50000000e+00 6.25000000e+00 1.56250000e+01\n",
      "  3.90625000e+01 9.76562500e+01 2.44140625e+02 6.10351562e+02\n",
      "  1.52587891e+03 3.81469727e+03]\n",
      " [1.00000000e+00 3.00000000e+00 9.00000000e+00 2.70000000e+01\n",
      "  8.10000000e+01 2.43000000e+02 7.29000000e+02 2.18700000e+03\n",
      "  6.56100000e+03 1.96830000e+04]\n",
      " [1.00000000e+00 4.00000000e+00 1.60000000e+01 6.40000000e+01\n",
      "  2.56000000e+02 1.02400000e+03 4.09600000e+03 1.63840000e+04\n",
      "  6.55360000e+04 2.62144000e+05]\n",
      " [1.00000000e+00 6.00000000e+00 3.60000000e+01 2.16000000e+02\n",
      "  1.29600000e+03 7.77600000e+03 4.66560000e+04 2.79936000e+05\n",
      "  1.67961600e+06 1.00776960e+07]\n",
      " [1.00000000e+00 7.00000000e+00 4.90000000e+01 3.43000000e+02\n",
      "  2.40100000e+03 1.68070000e+04 1.17649000e+05 8.23543000e+05\n",
      "  5.76480100e+06 4.03536070e+07]\n",
      " [1.00000000e+00 8.00000000e+00 6.40000000e+01 5.12000000e+02\n",
      "  4.09600000e+03 3.27680000e+04 2.62144000e+05 2.09715200e+06\n",
      "  1.67772160e+07 1.34217728e+08]\n",
      " [1.00000000e+00 9.00000000e+00 8.10000000e+01 7.29000000e+02\n",
      "  6.56100000e+03 5.90490000e+04 5.31441000e+05 4.78296900e+06\n",
      "  4.30467210e+07 3.87420489e+08]\n",
      " [1.00000000e+00 1.00000000e+01 1.00000000e+02 1.00000000e+03\n",
      "  1.00000000e+04 1.00000000e+05 1.00000000e+06 1.00000000e+07\n",
      "  1.00000000e+08 1.00000000e+09]\n",
      " [1.00000000e+00 1.30000000e+01 1.69000000e+02 2.19700000e+03\n",
      "  2.85610000e+04 3.71293000e+05 4.82680900e+06 6.27485170e+07\n",
      "  8.15730721e+08 1.06044994e+10]\n",
      " [1.00000000e+00 1.40000000e+01 1.96000000e+02 2.74400000e+03\n",
      "  3.84160000e+04 5.37824000e+05 7.52953600e+06 1.05413504e+08\n",
      "  1.47578906e+09 2.06610468e+10]\n",
      " [1.00000000e+00 1.50000000e+01 2.25000000e+02 3.37500000e+03\n",
      "  5.06250000e+04 7.59375000e+05 1.13906250e+07 1.70859375e+08\n",
      "  2.56289062e+09 3.84433594e+10]\n",
      " [1.00000000e+00 1.60000000e+01 2.56000000e+02 4.09600000e+03\n",
      "  6.55360000e+04 1.04857600e+06 1.67772160e+07 2.68435456e+08\n",
      "  4.29496730e+09 6.87194767e+10]\n",
      " [1.00000000e+00 1.70000000e+01 2.89000000e+02 4.91300000e+03\n",
      "  8.35210000e+04 1.41985700e+06 2.41375690e+07 4.10338673e+08\n",
      "  6.97575744e+09 1.18587876e+11]\n",
      " [1.00000000e+00 1.80000000e+01 3.24000000e+02 5.83200000e+03\n",
      "  1.04976000e+05 1.88956800e+06 3.40122240e+07 6.12220032e+08\n",
      "  1.10199606e+10 1.98359290e+11]\n",
      " [1.00000000e+00 1.90000000e+01 3.61000000e+02 6.85900000e+03\n",
      "  1.30321000e+05 2.47609900e+06 4.70458810e+07 8.93871739e+08\n",
      "  1.69835630e+10 3.22687698e+11]\n",
      " [1.00000000e+00 2.00000000e+01 4.00000000e+02 8.00000000e+03\n",
      "  1.60000000e+05 3.20000000e+06 6.40000000e+07 1.28000000e+09\n",
      "  2.56000000e+10 5.12000000e+11]\n",
      " [1.00000000e+00 2.10000000e+01 4.41000000e+02 9.26100000e+03\n",
      "  1.94481000e+05 4.08410100e+06 8.57661210e+07 1.80108854e+09\n",
      "  3.78228594e+10 7.94280047e+11]\n",
      " [1.00000000e+00 2.20000000e+01 4.84000000e+02 1.06480000e+04\n",
      "  2.34256000e+05 5.15363200e+06 1.13379904e+08 2.49435789e+09\n",
      "  5.48758735e+10 1.20726922e+12]\n",
      " [1.00000000e+00 2.30000000e+01 5.29000000e+02 1.21670000e+04\n",
      "  2.79841000e+05 6.43634300e+06 1.48035889e+08 3.40482545e+09\n",
      "  7.83109853e+10 1.80115266e+12]\n",
      " [1.00000000e+00 2.40000000e+01 5.76000000e+02 1.38240000e+04\n",
      "  3.31776000e+05 7.96262400e+06 1.91102976e+08 4.58647142e+09\n",
      "  1.10075314e+11 2.64180754e+12]\n",
      " [1.00000000e+00 2.50000000e+01 6.25000000e+02 1.56250000e+04\n",
      "  3.90625000e+05 9.76562500e+06 2.44140625e+08 6.10351562e+09\n",
      "  1.52587891e+11 3.81469727e+12]\n",
      " [1.00000000e+00 2.60000000e+01 6.76000000e+02 1.75760000e+04\n",
      "  4.56976000e+05 1.18813760e+07 3.08915776e+08 8.03181018e+09\n",
      "  2.08827065e+11 5.42950368e+12]\n",
      " [1.00000000e+00 2.70000000e+01 7.29000000e+02 1.96830000e+04\n",
      "  5.31441000e+05 1.43489070e+07 3.87420489e+08 1.04603532e+10\n",
      "  2.82429536e+11 7.62559748e+12]\n",
      " [1.00000000e+00 2.80000000e+01 7.84000000e+02 2.19520000e+04\n",
      "  6.14656000e+05 1.72103680e+07 4.81890304e+08 1.34929285e+10\n",
      "  3.77801998e+11 1.05784560e+13]]\n"
     ]
    }
   ],
   "source": [
    "maxorder = 9\n",
    "X = np.ones_like(x)\n",
    "for i in range(1,maxorder+1):\n",
    "    X = np.hstack((X,x**i))\n",
    "\n",
    "# X = np.hstack((X,np.sin(x)))\n",
    "print(X)"
   ]
  },
  {
   "cell_type": "markdown",
   "metadata": {},
   "source": [
    "<p>Solve the system...</p>"
   ]
  },
  {
   "cell_type": "code",
   "execution_count": 36,
   "metadata": {
    "jupyter": {
     "outputs_hidden": false
    }
   },
   "outputs": [
    {
     "name": "stdout",
     "output_type": "stream",
     "text": [
      "[[ 1.19800970e+01]\n",
      " [-1.54123004e+00]\n",
      " [ 8.69916361e-01]\n",
      " [-2.40603552e-01]\n",
      " [ 3.63189939e-02]\n",
      " [-3.22999111e-03]\n",
      " [ 1.74052669e-04]\n",
      " [-5.58709712e-06]\n",
      " [ 9.82972734e-08]\n",
      " [-7.29658486e-10]]\n"
     ]
    }
   ],
   "source": [
    "w = np.dot(np.linalg.inv(np.dot(X.T,X)),np.dot(X.T,t))\n",
    "print(w)"
   ]
  },
  {
   "cell_type": "markdown",
   "metadata": {},
   "source": [
    "Create a test set in the same manner as $\\mathbf{X}$..."
   ]
  },
  {
   "cell_type": "code",
   "execution_count": 37,
   "metadata": {
    "jupyter": {
     "outputs_hidden": false
    }
   },
   "outputs": [],
   "source": [
    "x_test = np.linspace(0,30,100)[:,None]\n",
    "X_test = np.ones_like(x_test)\n",
    "for i in range(1,maxorder+1):\n",
    "    X_test = np.hstack((X_test,x_test**i))\n",
    "# X_test = np.hstack((X_test,np.sin(x_test)))\n",
    "f_test = np.dot(X_test,w)"
   ]
  },
  {
   "cell_type": "code",
   "execution_count": 38,
   "metadata": {
    "jupyter": {
     "outputs_hidden": false
    }
   },
   "outputs": [
    {
     "data": {
      "text/plain": [
       "[<matplotlib.lines.Line2D at 0x1c43162e848>]"
      ]
     },
     "execution_count": 38,
     "metadata": {},
     "output_type": "execute_result"
    },
    {
     "data": {
      "image/png": "[encoded data removed]",
      "text/plain": [
       "<Figure size 432x288 with 1 Axes>"
      ]
     },
     "metadata": {
      "needs_background": "light"
     },
     "output_type": "display_data"
    }
   ],
   "source": [
    "import pylab as plt\n",
    "%matplotlib inline\n",
    "plt.plot(x_test,f_test,'b-',linewidth=2)\n",
    "plt.plot(x,t,'ro')"
   ]
  },
  {
   "cell_type": "markdown",
   "metadata": {},
   "source": [
    "<p>Try playing with the maximum order and extending the test data range...</p>"
   ]
  }
 ],
 "metadata": {
  "kernelspec": {
   "display_name": "Python 3",
   "language": "python",
   "name": "python3"
  },
  "language_info": {
   "codemirror_mode": {
    "name": "ipython",
    "version": 3
   },
   "file_extension": ".py",
   "mimetype": "text/x-python",
   "name": "python",
   "nbconvert_exporter": "python",
   "pygments_lexer": "ipython3",
   "version": "3.7.7"
  }
 },
 "nbformat": 4,
 "nbformat_minor": 4
}
